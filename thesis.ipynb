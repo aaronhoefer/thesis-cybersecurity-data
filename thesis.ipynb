{
  "nbformat": 4,
  "nbformat_minor": 0,
  "metadata": {
    "colab": {
      "provenance": [],
      "mount_file_id": "1m2DkaeXtuujYH58l6ZGvhSZp2D6EFRDy",
      "authorship_tag": "ABX9TyMtedqbZqqxXUiFdvAHbDGG",
      "include_colab_link": true
    },
    "kernelspec": {
      "name": "python3",
      "display_name": "Python 3"
    },
    "language_info": {
      "name": "python"
    }
  },
  "cells": [
    {
      "cell_type": "markdown",
      "metadata": {
        "id": "view-in-github",
        "colab_type": "text"
      },
      "source": [
        "<a href=\"https://colab.research.google.com/github/aaronhoefer/thesis-cybersecurity-data/blob/main/thesis.ipynb\" target=\"_parent\"><img src=\"https://colab.research.google.com/assets/colab-badge.svg\" alt=\"Open In Colab\"/></a>"
      ]
    },
    {
      "cell_type": "markdown",
      "source": [
        "# Package Loading"
      ],
      "metadata": {
        "id": "lb_5g24MKPD_"
      }
    },
    {
      "cell_type": "code",
      "source": [
        "import pandas as pd\n",
        "import plotly.express as px\n",
        "import seaborn as sns\n",
        "import matplotlib.pyplot as plt"
      ],
      "metadata": {
        "id": "ijRntEn_zcG8"
      },
      "execution_count": 1,
      "outputs": []
    },
    {
      "cell_type": "markdown",
      "source": [
        "# Load UN dataset"
      ],
      "metadata": {
        "id": "quYEqypaKS1l"
      }
    },
    {
      "cell_type": "code",
      "source": [
        "# Load the dataset\n",
        "file_path_un = \"/content/drive/MyDrive/data_cts_corruption_and_economic_crime.xlsx\"\n",
        "\n",
        "# Load the sheet names to understand the structure\n",
        "xls_un = pd.ExcelFile(file_path_un)\n",
        "\n",
        "print(xls_un.sheet_names)"
      ],
      "metadata": {
        "colab": {
          "base_uri": "https://localhost:8080/",
          "height": 0
        },
        "id": "Bu2jYc2mzgCV",
        "outputId": "cf19372a-86ca-420e-8960-726212715211"
      },
      "execution_count": 2,
      "outputs": [
        {
          "output_type": "stream",
          "name": "stdout",
          "text": [
            "['data_cts_corruption_and_economi']\n"
          ]
        }
      ]
    },
    {
      "cell_type": "code",
      "source": [
        "df = pd.read_excel(xls_un, sheet_name=\"data_cts_corruption_and_economi\")\n",
        "\n",
        "# Display the first few rows to understand the structure\n",
        "df.head()"
      ],
      "metadata": {
        "colab": {
          "base_uri": "https://localhost:8080/",
          "height": 206
        },
        "id": "1RAHUrPSzgE2",
        "outputId": "00d011a0-5020-4674-e316-865a999fea56"
      },
      "execution_count": 3,
      "outputs": [
        {
          "output_type": "execute_result",
          "data": {
            "text/plain": [
              "        UNODC   Unnamed: 1 Unnamed: 2      Unnamed: 3 Unnamed: 4  \\\n",
              "0  16/05/2024          NaN        NaN             NaN        NaN   \n",
              "1   Iso3_code      Country     Region       Subregion  Indicator   \n",
              "2         ARM      Armenia       Asia    Western Asia   Offences   \n",
              "3         AUT      Austria     Europe  Western Europe   Offences   \n",
              "4         CHE  Switzerland     Europe  Western Europe   Offences   \n",
              "\n",
              "           Unnamed: 5  Unnamed: 6 Unnamed: 7 Unnamed: 8 Unnamed: 9  \\\n",
              "0                 NaN         NaN        NaN        NaN        NaN   \n",
              "1           Dimension    Category        Sex        Age       Year   \n",
              "2  by type of offence  Corruption      Total      Total       2013   \n",
              "3  by type of offence  Corruption      Total      Total       2013   \n",
              "4  by type of offence  Corruption      Total      Total       2013   \n",
              "\n",
              "           Unnamed: 10 Unnamed: 11 Unnamed: 12  \n",
              "0                  NaN         NaN         NaN  \n",
              "1  Unit of measurement       VALUE      Source  \n",
              "2               Counts         782         CTS  \n",
              "3               Counts        3439         CTS  \n",
              "4               Counts        4884         CTS  "
            ],
            "text/html": [
              "\n",
              "  <div id=\"df-06974ba4-065a-4c09-a281-426cff3811af\" class=\"colab-df-container\">\n",
              "    <div>\n",
              "<style scoped>\n",
              "    .dataframe tbody tr th:only-of-type {\n",
              "        vertical-align: middle;\n",
              "    }\n",
              "\n",
              "    .dataframe tbody tr th {\n",
              "        vertical-align: top;\n",
              "    }\n",
              "\n",
              "    .dataframe thead th {\n",
              "        text-align: right;\n",
              "    }\n",
              "</style>\n",
              "<table border=\"1\" class=\"dataframe\">\n",
              "  <thead>\n",
              "    <tr style=\"text-align: right;\">\n",
              "      <th></th>\n",
              "      <th>UNODC</th>\n",
              "      <th>Unnamed: 1</th>\n",
              "      <th>Unnamed: 2</th>\n",
              "      <th>Unnamed: 3</th>\n",
              "      <th>Unnamed: 4</th>\n",
              "      <th>Unnamed: 5</th>\n",
              "      <th>Unnamed: 6</th>\n",
              "      <th>Unnamed: 7</th>\n",
              "      <th>Unnamed: 8</th>\n",
              "      <th>Unnamed: 9</th>\n",
              "      <th>Unnamed: 10</th>\n",
              "      <th>Unnamed: 11</th>\n",
              "      <th>Unnamed: 12</th>\n",
              "    </tr>\n",
              "  </thead>\n",
              "  <tbody>\n",
              "    <tr>\n",
              "      <th>0</th>\n",
              "      <td>16/05/2024</td>\n",
              "      <td>NaN</td>\n",
              "      <td>NaN</td>\n",
              "      <td>NaN</td>\n",
              "      <td>NaN</td>\n",
              "      <td>NaN</td>\n",
              "      <td>NaN</td>\n",
              "      <td>NaN</td>\n",
              "      <td>NaN</td>\n",
              "      <td>NaN</td>\n",
              "      <td>NaN</td>\n",
              "      <td>NaN</td>\n",
              "      <td>NaN</td>\n",
              "    </tr>\n",
              "    <tr>\n",
              "      <th>1</th>\n",
              "      <td>Iso3_code</td>\n",
              "      <td>Country</td>\n",
              "      <td>Region</td>\n",
              "      <td>Subregion</td>\n",
              "      <td>Indicator</td>\n",
              "      <td>Dimension</td>\n",
              "      <td>Category</td>\n",
              "      <td>Sex</td>\n",
              "      <td>Age</td>\n",
              "      <td>Year</td>\n",
              "      <td>Unit of measurement</td>\n",
              "      <td>VALUE</td>\n",
              "      <td>Source</td>\n",
              "    </tr>\n",
              "    <tr>\n",
              "      <th>2</th>\n",
              "      <td>ARM</td>\n",
              "      <td>Armenia</td>\n",
              "      <td>Asia</td>\n",
              "      <td>Western Asia</td>\n",
              "      <td>Offences</td>\n",
              "      <td>by type of offence</td>\n",
              "      <td>Corruption</td>\n",
              "      <td>Total</td>\n",
              "      <td>Total</td>\n",
              "      <td>2013</td>\n",
              "      <td>Counts</td>\n",
              "      <td>782</td>\n",
              "      <td>CTS</td>\n",
              "    </tr>\n",
              "    <tr>\n",
              "      <th>3</th>\n",
              "      <td>AUT</td>\n",
              "      <td>Austria</td>\n",
              "      <td>Europe</td>\n",
              "      <td>Western Europe</td>\n",
              "      <td>Offences</td>\n",
              "      <td>by type of offence</td>\n",
              "      <td>Corruption</td>\n",
              "      <td>Total</td>\n",
              "      <td>Total</td>\n",
              "      <td>2013</td>\n",
              "      <td>Counts</td>\n",
              "      <td>3439</td>\n",
              "      <td>CTS</td>\n",
              "    </tr>\n",
              "    <tr>\n",
              "      <th>4</th>\n",
              "      <td>CHE</td>\n",
              "      <td>Switzerland</td>\n",
              "      <td>Europe</td>\n",
              "      <td>Western Europe</td>\n",
              "      <td>Offences</td>\n",
              "      <td>by type of offence</td>\n",
              "      <td>Corruption</td>\n",
              "      <td>Total</td>\n",
              "      <td>Total</td>\n",
              "      <td>2013</td>\n",
              "      <td>Counts</td>\n",
              "      <td>4884</td>\n",
              "      <td>CTS</td>\n",
              "    </tr>\n",
              "  </tbody>\n",
              "</table>\n",
              "</div>\n",
              "    <div class=\"colab-df-buttons\">\n",
              "\n",
              "  <div class=\"colab-df-container\">\n",
              "    <button class=\"colab-df-convert\" onclick=\"convertToInteractive('df-06974ba4-065a-4c09-a281-426cff3811af')\"\n",
              "            title=\"Convert this dataframe to an interactive table.\"\n",
              "            style=\"display:none;\">\n",
              "\n",
              "  <svg xmlns=\"http://www.w3.org/2000/svg\" height=\"24px\" viewBox=\"0 -960 960 960\">\n",
              "    <path d=\"M120-120v-720h720v720H120Zm60-500h600v-160H180v160Zm220 220h160v-160H400v160Zm0 220h160v-160H400v160ZM180-400h160v-160H180v160Zm440 0h160v-160H620v160ZM180-180h160v-160H180v160Zm440 0h160v-160H620v160Z\"/>\n",
              "  </svg>\n",
              "    </button>\n",
              "\n",
              "  <style>\n",
              "    .colab-df-container {\n",
              "      display:flex;\n",
              "      gap: 12px;\n",
              "    }\n",
              "\n",
              "    .colab-df-convert {\n",
              "      background-color: #E8F0FE;\n",
              "      border: none;\n",
              "      border-radius: 50%;\n",
              "      cursor: pointer;\n",
              "      display: none;\n",
              "      fill: #1967D2;\n",
              "      height: 32px;\n",
              "      padding: 0 0 0 0;\n",
              "      width: 32px;\n",
              "    }\n",
              "\n",
              "    .colab-df-convert:hover {\n",
              "      background-color: #E2EBFA;\n",
              "      box-shadow: 0px 1px 2px rgba(60, 64, 67, 0.3), 0px 1px 3px 1px rgba(60, 64, 67, 0.15);\n",
              "      fill: #174EA6;\n",
              "    }\n",
              "\n",
              "    .colab-df-buttons div {\n",
              "      margin-bottom: 4px;\n",
              "    }\n",
              "\n",
              "    [theme=dark] .colab-df-convert {\n",
              "      background-color: #3B4455;\n",
              "      fill: #D2E3FC;\n",
              "    }\n",
              "\n",
              "    [theme=dark] .colab-df-convert:hover {\n",
              "      background-color: #434B5C;\n",
              "      box-shadow: 0px 1px 3px 1px rgba(0, 0, 0, 0.15);\n",
              "      filter: drop-shadow(0px 1px 2px rgba(0, 0, 0, 0.3));\n",
              "      fill: #FFFFFF;\n",
              "    }\n",
              "  </style>\n",
              "\n",
              "    <script>\n",
              "      const buttonEl =\n",
              "        document.querySelector('#df-06974ba4-065a-4c09-a281-426cff3811af button.colab-df-convert');\n",
              "      buttonEl.style.display =\n",
              "        google.colab.kernel.accessAllowed ? 'block' : 'none';\n",
              "\n",
              "      async function convertToInteractive(key) {\n",
              "        const element = document.querySelector('#df-06974ba4-065a-4c09-a281-426cff3811af');\n",
              "        const dataTable =\n",
              "          await google.colab.kernel.invokeFunction('convertToInteractive',\n",
              "                                                    [key], {});\n",
              "        if (!dataTable) return;\n",
              "\n",
              "        const docLinkHtml = 'Like what you see? Visit the ' +\n",
              "          '<a target=\"_blank\" href=https://colab.research.google.com/notebooks/data_table.ipynb>data table notebook</a>'\n",
              "          + ' to learn more about interactive tables.';\n",
              "        element.innerHTML = '';\n",
              "        dataTable['output_type'] = 'display_data';\n",
              "        await google.colab.output.renderOutput(dataTable, element);\n",
              "        const docLink = document.createElement('div');\n",
              "        docLink.innerHTML = docLinkHtml;\n",
              "        element.appendChild(docLink);\n",
              "      }\n",
              "    </script>\n",
              "  </div>\n",
              "\n",
              "\n",
              "<div id=\"df-142e16d9-0269-4364-9174-949bb539f405\">\n",
              "  <button class=\"colab-df-quickchart\" onclick=\"quickchart('df-142e16d9-0269-4364-9174-949bb539f405')\"\n",
              "            title=\"Suggest charts\"\n",
              "            style=\"display:none;\">\n",
              "\n",
              "<svg xmlns=\"http://www.w3.org/2000/svg\" height=\"24px\"viewBox=\"0 0 24 24\"\n",
              "     width=\"24px\">\n",
              "    <g>\n",
              "        <path d=\"M19 3H5c-1.1 0-2 .9-2 2v14c0 1.1.9 2 2 2h14c1.1 0 2-.9 2-2V5c0-1.1-.9-2-2-2zM9 17H7v-7h2v7zm4 0h-2V7h2v10zm4 0h-2v-4h2v4z\"/>\n",
              "    </g>\n",
              "</svg>\n",
              "  </button>\n",
              "\n",
              "<style>\n",
              "  .colab-df-quickchart {\n",
              "      --bg-color: #E8F0FE;\n",
              "      --fill-color: #1967D2;\n",
              "      --hover-bg-color: #E2EBFA;\n",
              "      --hover-fill-color: #174EA6;\n",
              "      --disabled-fill-color: #AAA;\n",
              "      --disabled-bg-color: #DDD;\n",
              "  }\n",
              "\n",
              "  [theme=dark] .colab-df-quickchart {\n",
              "      --bg-color: #3B4455;\n",
              "      --fill-color: #D2E3FC;\n",
              "      --hover-bg-color: #434B5C;\n",
              "      --hover-fill-color: #FFFFFF;\n",
              "      --disabled-bg-color: #3B4455;\n",
              "      --disabled-fill-color: #666;\n",
              "  }\n",
              "\n",
              "  .colab-df-quickchart {\n",
              "    background-color: var(--bg-color);\n",
              "    border: none;\n",
              "    border-radius: 50%;\n",
              "    cursor: pointer;\n",
              "    display: none;\n",
              "    fill: var(--fill-color);\n",
              "    height: 32px;\n",
              "    padding: 0;\n",
              "    width: 32px;\n",
              "  }\n",
              "\n",
              "  .colab-df-quickchart:hover {\n",
              "    background-color: var(--hover-bg-color);\n",
              "    box-shadow: 0 1px 2px rgba(60, 64, 67, 0.3), 0 1px 3px 1px rgba(60, 64, 67, 0.15);\n",
              "    fill: var(--button-hover-fill-color);\n",
              "  }\n",
              "\n",
              "  .colab-df-quickchart-complete:disabled,\n",
              "  .colab-df-quickchart-complete:disabled:hover {\n",
              "    background-color: var(--disabled-bg-color);\n",
              "    fill: var(--disabled-fill-color);\n",
              "    box-shadow: none;\n",
              "  }\n",
              "\n",
              "  .colab-df-spinner {\n",
              "    border: 2px solid var(--fill-color);\n",
              "    border-color: transparent;\n",
              "    border-bottom-color: var(--fill-color);\n",
              "    animation:\n",
              "      spin 1s steps(1) infinite;\n",
              "  }\n",
              "\n",
              "  @keyframes spin {\n",
              "    0% {\n",
              "      border-color: transparent;\n",
              "      border-bottom-color: var(--fill-color);\n",
              "      border-left-color: var(--fill-color);\n",
              "    }\n",
              "    20% {\n",
              "      border-color: transparent;\n",
              "      border-left-color: var(--fill-color);\n",
              "      border-top-color: var(--fill-color);\n",
              "    }\n",
              "    30% {\n",
              "      border-color: transparent;\n",
              "      border-left-color: var(--fill-color);\n",
              "      border-top-color: var(--fill-color);\n",
              "      border-right-color: var(--fill-color);\n",
              "    }\n",
              "    40% {\n",
              "      border-color: transparent;\n",
              "      border-right-color: var(--fill-color);\n",
              "      border-top-color: var(--fill-color);\n",
              "    }\n",
              "    60% {\n",
              "      border-color: transparent;\n",
              "      border-right-color: var(--fill-color);\n",
              "    }\n",
              "    80% {\n",
              "      border-color: transparent;\n",
              "      border-right-color: var(--fill-color);\n",
              "      border-bottom-color: var(--fill-color);\n",
              "    }\n",
              "    90% {\n",
              "      border-color: transparent;\n",
              "      border-bottom-color: var(--fill-color);\n",
              "    }\n",
              "  }\n",
              "</style>\n",
              "\n",
              "  <script>\n",
              "    async function quickchart(key) {\n",
              "      const quickchartButtonEl =\n",
              "        document.querySelector('#' + key + ' button');\n",
              "      quickchartButtonEl.disabled = true;  // To prevent multiple clicks.\n",
              "      quickchartButtonEl.classList.add('colab-df-spinner');\n",
              "      try {\n",
              "        const charts = await google.colab.kernel.invokeFunction(\n",
              "            'suggestCharts', [key], {});\n",
              "      } catch (error) {\n",
              "        console.error('Error during call to suggestCharts:', error);\n",
              "      }\n",
              "      quickchartButtonEl.classList.remove('colab-df-spinner');\n",
              "      quickchartButtonEl.classList.add('colab-df-quickchart-complete');\n",
              "    }\n",
              "    (() => {\n",
              "      let quickchartButtonEl =\n",
              "        document.querySelector('#df-142e16d9-0269-4364-9174-949bb539f405 button');\n",
              "      quickchartButtonEl.style.display =\n",
              "        google.colab.kernel.accessAllowed ? 'block' : 'none';\n",
              "    })();\n",
              "  </script>\n",
              "</div>\n",
              "\n",
              "    </div>\n",
              "  </div>\n"
            ],
            "application/vnd.google.colaboratory.intrinsic+json": {
              "type": "dataframe",
              "variable_name": "df",
              "summary": "{\n  \"name\": \"df\",\n  \"rows\": 22756,\n  \"fields\": [\n    {\n      \"column\": \"UNODC\",\n      \"properties\": {\n        \"dtype\": \"category\",\n        \"num_unique_values\": 159,\n        \"samples\": [\n          \"IRL\",\n          \"STP\",\n          \"IND\"\n        ],\n        \"semantic_type\": \"\",\n        \"description\": \"\"\n      }\n    },\n    {\n      \"column\": \"Unnamed: 1\",\n      \"properties\": {\n        \"dtype\": \"category\",\n        \"num_unique_values\": 158,\n        \"samples\": [\n          \"Mozambique\",\n          \"Liechtenstein\",\n          \"Egypt\"\n        ],\n        \"semantic_type\": \"\",\n        \"description\": \"\"\n      }\n    },\n    {\n      \"column\": \"Unnamed: 2\",\n      \"properties\": {\n        \"dtype\": \"category\",\n        \"num_unique_values\": 6,\n        \"samples\": [\n          \"Region\",\n          \"Asia\",\n          \"Oceania\"\n        ],\n        \"semantic_type\": \"\",\n        \"description\": \"\"\n      }\n    },\n    {\n      \"column\": \"Unnamed: 3\",\n      \"properties\": {\n        \"dtype\": \"category\",\n        \"num_unique_values\": 16,\n        \"samples\": [\n          \"Subregion\",\n          \"Western Asia\",\n          \"Eastern Europe\"\n        ],\n        \"semantic_type\": \"\",\n        \"description\": \"\"\n      }\n    },\n    {\n      \"column\": \"Unnamed: 4\",\n      \"properties\": {\n        \"dtype\": \"category\",\n        \"num_unique_values\": 3,\n        \"samples\": [\n          \"Indicator\",\n          \"Offences\",\n          \"Acts against the environment\"\n        ],\n        \"semantic_type\": \"\",\n        \"description\": \"\"\n      }\n    },\n    {\n      \"column\": \"Unnamed: 5\",\n      \"properties\": {\n        \"dtype\": \"category\",\n        \"num_unique_values\": 2,\n        \"samples\": [\n          \"by type of offence\",\n          \"Dimension\"\n        ],\n        \"semantic_type\": \"\",\n        \"description\": \"\"\n      }\n    },\n    {\n      \"column\": \"Unnamed: 6\",\n      \"properties\": {\n        \"dtype\": \"category\",\n        \"num_unique_values\": 18,\n        \"samples\": [\n          \"Category\",\n          \"Corruption\"\n        ],\n        \"semantic_type\": \"\",\n        \"description\": \"\"\n      }\n    },\n    {\n      \"column\": \"Unnamed: 7\",\n      \"properties\": {\n        \"dtype\": \"category\",\n        \"num_unique_values\": 2,\n        \"samples\": [\n          \"Total\",\n          \"Sex\"\n        ],\n        \"semantic_type\": \"\",\n        \"description\": \"\"\n      }\n    },\n    {\n      \"column\": \"Unnamed: 8\",\n      \"properties\": {\n        \"dtype\": \"category\",\n        \"num_unique_values\": 2,\n        \"samples\": [\n          \"Total\",\n          \"Age\"\n        ],\n        \"semantic_type\": \"\",\n        \"description\": \"\"\n      }\n    },\n    {\n      \"column\": \"Unnamed: 9\",\n      \"properties\": {\n        \"dtype\": \"category\",\n        \"num_unique_values\": 21,\n        \"samples\": [\n          \"Year\",\n          2009\n        ],\n        \"semantic_type\": \"\",\n        \"description\": \"\"\n      }\n    },\n    {\n      \"column\": \"Unnamed: 10\",\n      \"properties\": {\n        \"dtype\": \"category\",\n        \"num_unique_values\": 3,\n        \"samples\": [\n          \"Unit of measurement\",\n          \"Counts\"\n        ],\n        \"semantic_type\": \"\",\n        \"description\": \"\"\n      }\n    },\n    {\n      \"column\": \"Unnamed: 11\",\n      \"properties\": {\n        \"dtype\": \"string\",\n        \"num_unique_values\": 16544,\n        \"samples\": [\n          34.289876394432,\n          475.409524533465\n        ],\n        \"semantic_type\": \"\",\n        \"description\": \"\"\n      }\n    },\n    {\n      \"column\": \"Unnamed: 12\",\n      \"properties\": {\n        \"dtype\": \"category\",\n        \"num_unique_values\": 16,\n        \"samples\": [\n          \"Source\",\n          \"CTS\"\n        ],\n        \"semantic_type\": \"\",\n        \"description\": \"\"\n      }\n    }\n  ]\n}"
            }
          },
          "metadata": {},
          "execution_count": 3
        }
      ]
    },
    {
      "cell_type": "code",
      "source": [
        "# Rename columns based on the second row (index 1)\n",
        "df.columns = df.iloc[1]\n",
        "df = df[2:].reset_index(drop=True)"
      ],
      "metadata": {
        "id": "EdyNBBe_zgHW"
      },
      "execution_count": 4,
      "outputs": []
    },
    {
      "cell_type": "code",
      "source": [
        "# Rename columns for easier reference\n",
        "df.columns = [\"Iso3_code\", \"Country\", \"Region\", \"Subregion\", \"Indicator\",\n",
        "              \"Dimension\", \"Category\", \"Sex\", \"Age\", \"Year\",\n",
        "              \"Unit\", \"Value\", \"Source\"]"
      ],
      "metadata": {
        "id": "9Dw8CmLdzgJw"
      },
      "execution_count": 5,
      "outputs": []
    },
    {
      "cell_type": "code",
      "source": [
        "# Convert Year and Value columns to numeric types\n",
        "df[\"Year\"] = pd.to_numeric(df[\"Year\"], errors=\"coerce\")\n",
        "df[\"Value\"] = pd.to_numeric(df[\"Value\"], errors=\"coerce\")"
      ],
      "metadata": {
        "id": "iCADqxcbzgMR"
      },
      "execution_count": 6,
      "outputs": []
    },
    {
      "cell_type": "code",
      "source": [
        "df[\"Category\"].unique()"
      ],
      "metadata": {
        "colab": {
          "base_uri": "https://localhost:8080/",
          "height": 0
        },
        "id": "ekgar0xdzgOq",
        "outputId": "4c9a03de-2df1-4f88-c1d7-e684aac9b1fd"
      },
      "execution_count": 7,
      "outputs": [
        {
          "output_type": "execute_result",
          "data": {
            "text/plain": [
              "array(['Corruption', 'Corruption: Bribery',\n",
              "       'Corruption: Other acts of corruption', 'Smuggling of migrants',\n",
              "       'Burglary', 'Theft', 'Theft: of a motorized vehicle', 'Fraud',\n",
              "       'Fraud: Cyber-related (Cy)', 'Money laundering',\n",
              "       'Unlawful access to a computer system',\n",
              "       'Unlawful interference with a computer system or computer data',\n",
              "       'Unlawful interception or access of computer data',\n",
              "       'Acts that cause environmental pollution or degradation',\n",
              "       'Acts involving the movement of dumping of waste',\n",
              "       'Trade or possession of protected or prohibited species of faune and flora',\n",
              "       'Acts that result in the depletion of degradation of natural resources'],\n",
              "      dtype=object)"
            ]
          },
          "metadata": {},
          "execution_count": 7
        }
      ]
    },
    {
      "cell_type": "code",
      "source": [
        "cyber_crime_categories = [\n",
        "    \"Fraud: Cyber-related (Cy)\",\n",
        "    \"Unlawful access to a computer system\",\n",
        "    \"Unlawful interference with a computer system or computer data\",\n",
        "    \"Unlawful interception or access of computer data\"\n",
        "]\n",
        "\n",
        "df_cyber = df[df[\"Category\"].isin(cyber_crime_categories)].copy()"
      ],
      "metadata": {
        "id": "nuJZxJNPzgSQ"
      },
      "execution_count": 8,
      "outputs": []
    },
    {
      "cell_type": "code",
      "source": [
        "df_cyber.head()"
      ],
      "metadata": {
        "colab": {
          "base_uri": "https://localhost:8080/",
          "height": 206
        },
        "id": "YDwq8i0X0M-Y",
        "outputId": "81efa6c0-7b33-4c73-fd60-bafdbaaf16c2"
      },
      "execution_count": 9,
      "outputs": [
        {
          "output_type": "execute_result",
          "data": {
            "text/plain": [
              "     Iso3_code   Country    Region                        Subregion Indicator  \\\n",
              "8467       ARM   Armenia      Asia                     Western Asia  Offences   \n",
              "8468       AUT   Austria    Europe                   Western Europe  Offences   \n",
              "8469       CAN    Canada  Americas                 Northern America  Offences   \n",
              "8470       COL  Colombia  Americas  Latin America and the Caribbean  Offences   \n",
              "8471       CZE   Czechia    Europe                   Eastern Europe  Offences   \n",
              "\n",
              "               Dimension                   Category    Sex    Age  Year  \\\n",
              "8467  by type of offence  Fraud: Cyber-related (Cy)  Total  Total  2013   \n",
              "8468  by type of offence  Fraud: Cyber-related (Cy)  Total  Total  2013   \n",
              "8469  by type of offence  Fraud: Cyber-related (Cy)  Total  Total  2013   \n",
              "8470  by type of offence  Fraud: Cyber-related (Cy)  Total  Total  2013   \n",
              "8471  by type of offence  Fraud: Cyber-related (Cy)  Total  Total  2013   \n",
              "\n",
              "        Unit   Value Source  \n",
              "8467  Counts    35.0    CTS  \n",
              "8468  Counts  7667.0    CTS  \n",
              "8469  Counts  6914.0    CTS  \n",
              "8470  Counts  7303.0    CTS  \n",
              "8471  Counts  1740.0    CTS  "
            ],
            "text/html": [
              "\n",
              "  <div id=\"df-170fc808-b579-4fcd-92ed-f8f9158200fb\" class=\"colab-df-container\">\n",
              "    <div>\n",
              "<style scoped>\n",
              "    .dataframe tbody tr th:only-of-type {\n",
              "        vertical-align: middle;\n",
              "    }\n",
              "\n",
              "    .dataframe tbody tr th {\n",
              "        vertical-align: top;\n",
              "    }\n",
              "\n",
              "    .dataframe thead th {\n",
              "        text-align: right;\n",
              "    }\n",
              "</style>\n",
              "<table border=\"1\" class=\"dataframe\">\n",
              "  <thead>\n",
              "    <tr style=\"text-align: right;\">\n",
              "      <th></th>\n",
              "      <th>Iso3_code</th>\n",
              "      <th>Country</th>\n",
              "      <th>Region</th>\n",
              "      <th>Subregion</th>\n",
              "      <th>Indicator</th>\n",
              "      <th>Dimension</th>\n",
              "      <th>Category</th>\n",
              "      <th>Sex</th>\n",
              "      <th>Age</th>\n",
              "      <th>Year</th>\n",
              "      <th>Unit</th>\n",
              "      <th>Value</th>\n",
              "      <th>Source</th>\n",
              "    </tr>\n",
              "  </thead>\n",
              "  <tbody>\n",
              "    <tr>\n",
              "      <th>8467</th>\n",
              "      <td>ARM</td>\n",
              "      <td>Armenia</td>\n",
              "      <td>Asia</td>\n",
              "      <td>Western Asia</td>\n",
              "      <td>Offences</td>\n",
              "      <td>by type of offence</td>\n",
              "      <td>Fraud: Cyber-related (Cy)</td>\n",
              "      <td>Total</td>\n",
              "      <td>Total</td>\n",
              "      <td>2013</td>\n",
              "      <td>Counts</td>\n",
              "      <td>35.0</td>\n",
              "      <td>CTS</td>\n",
              "    </tr>\n",
              "    <tr>\n",
              "      <th>8468</th>\n",
              "      <td>AUT</td>\n",
              "      <td>Austria</td>\n",
              "      <td>Europe</td>\n",
              "      <td>Western Europe</td>\n",
              "      <td>Offences</td>\n",
              "      <td>by type of offence</td>\n",
              "      <td>Fraud: Cyber-related (Cy)</td>\n",
              "      <td>Total</td>\n",
              "      <td>Total</td>\n",
              "      <td>2013</td>\n",
              "      <td>Counts</td>\n",
              "      <td>7667.0</td>\n",
              "      <td>CTS</td>\n",
              "    </tr>\n",
              "    <tr>\n",
              "      <th>8469</th>\n",
              "      <td>CAN</td>\n",
              "      <td>Canada</td>\n",
              "      <td>Americas</td>\n",
              "      <td>Northern America</td>\n",
              "      <td>Offences</td>\n",
              "      <td>by type of offence</td>\n",
              "      <td>Fraud: Cyber-related (Cy)</td>\n",
              "      <td>Total</td>\n",
              "      <td>Total</td>\n",
              "      <td>2013</td>\n",
              "      <td>Counts</td>\n",
              "      <td>6914.0</td>\n",
              "      <td>CTS</td>\n",
              "    </tr>\n",
              "    <tr>\n",
              "      <th>8470</th>\n",
              "      <td>COL</td>\n",
              "      <td>Colombia</td>\n",
              "      <td>Americas</td>\n",
              "      <td>Latin America and the Caribbean</td>\n",
              "      <td>Offences</td>\n",
              "      <td>by type of offence</td>\n",
              "      <td>Fraud: Cyber-related (Cy)</td>\n",
              "      <td>Total</td>\n",
              "      <td>Total</td>\n",
              "      <td>2013</td>\n",
              "      <td>Counts</td>\n",
              "      <td>7303.0</td>\n",
              "      <td>CTS</td>\n",
              "    </tr>\n",
              "    <tr>\n",
              "      <th>8471</th>\n",
              "      <td>CZE</td>\n",
              "      <td>Czechia</td>\n",
              "      <td>Europe</td>\n",
              "      <td>Eastern Europe</td>\n",
              "      <td>Offences</td>\n",
              "      <td>by type of offence</td>\n",
              "      <td>Fraud: Cyber-related (Cy)</td>\n",
              "      <td>Total</td>\n",
              "      <td>Total</td>\n",
              "      <td>2013</td>\n",
              "      <td>Counts</td>\n",
              "      <td>1740.0</td>\n",
              "      <td>CTS</td>\n",
              "    </tr>\n",
              "  </tbody>\n",
              "</table>\n",
              "</div>\n",
              "    <div class=\"colab-df-buttons\">\n",
              "\n",
              "  <div class=\"colab-df-container\">\n",
              "    <button class=\"colab-df-convert\" onclick=\"convertToInteractive('df-170fc808-b579-4fcd-92ed-f8f9158200fb')\"\n",
              "            title=\"Convert this dataframe to an interactive table.\"\n",
              "            style=\"display:none;\">\n",
              "\n",
              "  <svg xmlns=\"http://www.w3.org/2000/svg\" height=\"24px\" viewBox=\"0 -960 960 960\">\n",
              "    <path d=\"M120-120v-720h720v720H120Zm60-500h600v-160H180v160Zm220 220h160v-160H400v160Zm0 220h160v-160H400v160ZM180-400h160v-160H180v160Zm440 0h160v-160H620v160ZM180-180h160v-160H180v160Zm440 0h160v-160H620v160Z\"/>\n",
              "  </svg>\n",
              "    </button>\n",
              "\n",
              "  <style>\n",
              "    .colab-df-container {\n",
              "      display:flex;\n",
              "      gap: 12px;\n",
              "    }\n",
              "\n",
              "    .colab-df-convert {\n",
              "      background-color: #E8F0FE;\n",
              "      border: none;\n",
              "      border-radius: 50%;\n",
              "      cursor: pointer;\n",
              "      display: none;\n",
              "      fill: #1967D2;\n",
              "      height: 32px;\n",
              "      padding: 0 0 0 0;\n",
              "      width: 32px;\n",
              "    }\n",
              "\n",
              "    .colab-df-convert:hover {\n",
              "      background-color: #E2EBFA;\n",
              "      box-shadow: 0px 1px 2px rgba(60, 64, 67, 0.3), 0px 1px 3px 1px rgba(60, 64, 67, 0.15);\n",
              "      fill: #174EA6;\n",
              "    }\n",
              "\n",
              "    .colab-df-buttons div {\n",
              "      margin-bottom: 4px;\n",
              "    }\n",
              "\n",
              "    [theme=dark] .colab-df-convert {\n",
              "      background-color: #3B4455;\n",
              "      fill: #D2E3FC;\n",
              "    }\n",
              "\n",
              "    [theme=dark] .colab-df-convert:hover {\n",
              "      background-color: #434B5C;\n",
              "      box-shadow: 0px 1px 3px 1px rgba(0, 0, 0, 0.15);\n",
              "      filter: drop-shadow(0px 1px 2px rgba(0, 0, 0, 0.3));\n",
              "      fill: #FFFFFF;\n",
              "    }\n",
              "  </style>\n",
              "\n",
              "    <script>\n",
              "      const buttonEl =\n",
              "        document.querySelector('#df-170fc808-b579-4fcd-92ed-f8f9158200fb button.colab-df-convert');\n",
              "      buttonEl.style.display =\n",
              "        google.colab.kernel.accessAllowed ? 'block' : 'none';\n",
              "\n",
              "      async function convertToInteractive(key) {\n",
              "        const element = document.querySelector('#df-170fc808-b579-4fcd-92ed-f8f9158200fb');\n",
              "        const dataTable =\n",
              "          await google.colab.kernel.invokeFunction('convertToInteractive',\n",
              "                                                    [key], {});\n",
              "        if (!dataTable) return;\n",
              "\n",
              "        const docLinkHtml = 'Like what you see? Visit the ' +\n",
              "          '<a target=\"_blank\" href=https://colab.research.google.com/notebooks/data_table.ipynb>data table notebook</a>'\n",
              "          + ' to learn more about interactive tables.';\n",
              "        element.innerHTML = '';\n",
              "        dataTable['output_type'] = 'display_data';\n",
              "        await google.colab.output.renderOutput(dataTable, element);\n",
              "        const docLink = document.createElement('div');\n",
              "        docLink.innerHTML = docLinkHtml;\n",
              "        element.appendChild(docLink);\n",
              "      }\n",
              "    </script>\n",
              "  </div>\n",
              "\n",
              "\n",
              "<div id=\"df-bb3180e1-ad65-45dc-bab1-faf7e37eb878\">\n",
              "  <button class=\"colab-df-quickchart\" onclick=\"quickchart('df-bb3180e1-ad65-45dc-bab1-faf7e37eb878')\"\n",
              "            title=\"Suggest charts\"\n",
              "            style=\"display:none;\">\n",
              "\n",
              "<svg xmlns=\"http://www.w3.org/2000/svg\" height=\"24px\"viewBox=\"0 0 24 24\"\n",
              "     width=\"24px\">\n",
              "    <g>\n",
              "        <path d=\"M19 3H5c-1.1 0-2 .9-2 2v14c0 1.1.9 2 2 2h14c1.1 0 2-.9 2-2V5c0-1.1-.9-2-2-2zM9 17H7v-7h2v7zm4 0h-2V7h2v10zm4 0h-2v-4h2v4z\"/>\n",
              "    </g>\n",
              "</svg>\n",
              "  </button>\n",
              "\n",
              "<style>\n",
              "  .colab-df-quickchart {\n",
              "      --bg-color: #E8F0FE;\n",
              "      --fill-color: #1967D2;\n",
              "      --hover-bg-color: #E2EBFA;\n",
              "      --hover-fill-color: #174EA6;\n",
              "      --disabled-fill-color: #AAA;\n",
              "      --disabled-bg-color: #DDD;\n",
              "  }\n",
              "\n",
              "  [theme=dark] .colab-df-quickchart {\n",
              "      --bg-color: #3B4455;\n",
              "      --fill-color: #D2E3FC;\n",
              "      --hover-bg-color: #434B5C;\n",
              "      --hover-fill-color: #FFFFFF;\n",
              "      --disabled-bg-color: #3B4455;\n",
              "      --disabled-fill-color: #666;\n",
              "  }\n",
              "\n",
              "  .colab-df-quickchart {\n",
              "    background-color: var(--bg-color);\n",
              "    border: none;\n",
              "    border-radius: 50%;\n",
              "    cursor: pointer;\n",
              "    display: none;\n",
              "    fill: var(--fill-color);\n",
              "    height: 32px;\n",
              "    padding: 0;\n",
              "    width: 32px;\n",
              "  }\n",
              "\n",
              "  .colab-df-quickchart:hover {\n",
              "    background-color: var(--hover-bg-color);\n",
              "    box-shadow: 0 1px 2px rgba(60, 64, 67, 0.3), 0 1px 3px 1px rgba(60, 64, 67, 0.15);\n",
              "    fill: var(--button-hover-fill-color);\n",
              "  }\n",
              "\n",
              "  .colab-df-quickchart-complete:disabled,\n",
              "  .colab-df-quickchart-complete:disabled:hover {\n",
              "    background-color: var(--disabled-bg-color);\n",
              "    fill: var(--disabled-fill-color);\n",
              "    box-shadow: none;\n",
              "  }\n",
              "\n",
              "  .colab-df-spinner {\n",
              "    border: 2px solid var(--fill-color);\n",
              "    border-color: transparent;\n",
              "    border-bottom-color: var(--fill-color);\n",
              "    animation:\n",
              "      spin 1s steps(1) infinite;\n",
              "  }\n",
              "\n",
              "  @keyframes spin {\n",
              "    0% {\n",
              "      border-color: transparent;\n",
              "      border-bottom-color: var(--fill-color);\n",
              "      border-left-color: var(--fill-color);\n",
              "    }\n",
              "    20% {\n",
              "      border-color: transparent;\n",
              "      border-left-color: var(--fill-color);\n",
              "      border-top-color: var(--fill-color);\n",
              "    }\n",
              "    30% {\n",
              "      border-color: transparent;\n",
              "      border-left-color: var(--fill-color);\n",
              "      border-top-color: var(--fill-color);\n",
              "      border-right-color: var(--fill-color);\n",
              "    }\n",
              "    40% {\n",
              "      border-color: transparent;\n",
              "      border-right-color: var(--fill-color);\n",
              "      border-top-color: var(--fill-color);\n",
              "    }\n",
              "    60% {\n",
              "      border-color: transparent;\n",
              "      border-right-color: var(--fill-color);\n",
              "    }\n",
              "    80% {\n",
              "      border-color: transparent;\n",
              "      border-right-color: var(--fill-color);\n",
              "      border-bottom-color: var(--fill-color);\n",
              "    }\n",
              "    90% {\n",
              "      border-color: transparent;\n",
              "      border-bottom-color: var(--fill-color);\n",
              "    }\n",
              "  }\n",
              "</style>\n",
              "\n",
              "  <script>\n",
              "    async function quickchart(key) {\n",
              "      const quickchartButtonEl =\n",
              "        document.querySelector('#' + key + ' button');\n",
              "      quickchartButtonEl.disabled = true;  // To prevent multiple clicks.\n",
              "      quickchartButtonEl.classList.add('colab-df-spinner');\n",
              "      try {\n",
              "        const charts = await google.colab.kernel.invokeFunction(\n",
              "            'suggestCharts', [key], {});\n",
              "      } catch (error) {\n",
              "        console.error('Error during call to suggestCharts:', error);\n",
              "      }\n",
              "      quickchartButtonEl.classList.remove('colab-df-spinner');\n",
              "      quickchartButtonEl.classList.add('colab-df-quickchart-complete');\n",
              "    }\n",
              "    (() => {\n",
              "      let quickchartButtonEl =\n",
              "        document.querySelector('#df-bb3180e1-ad65-45dc-bab1-faf7e37eb878 button');\n",
              "      quickchartButtonEl.style.display =\n",
              "        google.colab.kernel.accessAllowed ? 'block' : 'none';\n",
              "    })();\n",
              "  </script>\n",
              "</div>\n",
              "\n",
              "    </div>\n",
              "  </div>\n"
            ],
            "application/vnd.google.colaboratory.intrinsic+json": {
              "type": "dataframe",
              "variable_name": "df_cyber",
              "summary": "{\n  \"name\": \"df_cyber\",\n  \"rows\": 2426,\n  \"fields\": [\n    {\n      \"column\": \"Iso3_code\",\n      \"properties\": {\n        \"dtype\": \"category\",\n        \"num_unique_values\": 93,\n        \"samples\": [\n          \"PRI\",\n          \"ATG\",\n          \"GBR_S\"\n        ],\n        \"semantic_type\": \"\",\n        \"description\": \"\"\n      }\n    },\n    {\n      \"column\": \"Country\",\n      \"properties\": {\n        \"dtype\": \"category\",\n        \"num_unique_values\": 93,\n        \"samples\": [\n          \"Puerto Rico\",\n          \"Antigua and Barbuda\",\n          \"United Kingdom (Scotland)\"\n        ],\n        \"semantic_type\": \"\",\n        \"description\": \"\"\n      }\n    },\n    {\n      \"column\": \"Region\",\n      \"properties\": {\n        \"dtype\": \"category\",\n        \"num_unique_values\": 4,\n        \"samples\": [\n          \"Europe\",\n          \"Africa\",\n          \"Asia\"\n        ],\n        \"semantic_type\": \"\",\n        \"description\": \"\"\n      }\n    },\n    {\n      \"column\": \"Subregion\",\n      \"properties\": {\n        \"dtype\": \"category\",\n        \"num_unique_values\": 13,\n        \"samples\": [\n          \"Southern Asia\",\n          \"Sub-Saharan Africa\",\n          \"Western Asia\"\n        ],\n        \"semantic_type\": \"\",\n        \"description\": \"\"\n      }\n    },\n    {\n      \"column\": \"Indicator\",\n      \"properties\": {\n        \"dtype\": \"category\",\n        \"num_unique_values\": 1,\n        \"samples\": [\n          \"Offences\"\n        ],\n        \"semantic_type\": \"\",\n        \"description\": \"\"\n      }\n    },\n    {\n      \"column\": \"Dimension\",\n      \"properties\": {\n        \"dtype\": \"category\",\n        \"num_unique_values\": 1,\n        \"samples\": [\n          \"by type of offence\"\n        ],\n        \"semantic_type\": \"\",\n        \"description\": \"\"\n      }\n    },\n    {\n      \"column\": \"Category\",\n      \"properties\": {\n        \"dtype\": \"category\",\n        \"num_unique_values\": 4,\n        \"samples\": [\n          \"Unlawful access to a computer system\"\n        ],\n        \"semantic_type\": \"\",\n        \"description\": \"\"\n      }\n    },\n    {\n      \"column\": \"Sex\",\n      \"properties\": {\n        \"dtype\": \"category\",\n        \"num_unique_values\": 1,\n        \"samples\": [\n          \"Total\"\n        ],\n        \"semantic_type\": \"\",\n        \"description\": \"\"\n      }\n    },\n    {\n      \"column\": \"Age\",\n      \"properties\": {\n        \"dtype\": \"category\",\n        \"num_unique_values\": 1,\n        \"samples\": [\n          \"Total\"\n        ],\n        \"semantic_type\": \"\",\n        \"description\": \"\"\n      }\n    },\n    {\n      \"column\": \"Year\",\n      \"properties\": {\n        \"dtype\": \"number\",\n        \"std\": 2,\n        \"min\": 2013,\n        \"max\": 2022,\n        \"num_unique_values\": 10,\n        \"samples\": [\n          2021\n        ],\n        \"semantic_type\": \"\",\n        \"description\": \"\"\n      }\n    },\n    {\n      \"column\": \"Unit\",\n      \"properties\": {\n        \"dtype\": \"category\",\n        \"num_unique_values\": 2,\n        \"samples\": [\n          \"Rate per 100,000 population\"\n        ],\n        \"semantic_type\": \"\",\n        \"description\": \"\"\n      }\n    },\n    {\n      \"column\": \"Value\",\n      \"properties\": {\n        \"dtype\": \"number\",\n        \"std\": 18430.23068808235,\n        \"min\": 0.0,\n        \"max\": 255717.0,\n        \"num_unique_values\": 1628,\n        \"samples\": [\n          3.91887221982736\n        ],\n        \"semantic_type\": \"\",\n        \"description\": \"\"\n      }\n    },\n    {\n      \"column\": \"Source\",\n      \"properties\": {\n        \"dtype\": \"category\",\n        \"num_unique_values\": 5,\n        \"samples\": [\n          \"CTS/NGO\"\n        ],\n        \"semantic_type\": \"\",\n        \"description\": \"\"\n      }\n    }\n  ]\n}"
            }
          },
          "metadata": {},
          "execution_count": 9
        }
      ]
    },
    {
      "cell_type": "code",
      "source": [
        "summary = pd.DataFrame({\n",
        "    'Data Type': df_cyber.dtypes,\n",
        "    'Missing Values': df_cyber.isnull().sum(),\n",
        "    'Unique Values': df_cyber.nunique(),\n",
        "})\n"
      ],
      "metadata": {
        "id": "uNTbS3pY0NLZ"
      },
      "execution_count": 10,
      "outputs": []
    },
    {
      "cell_type": "code",
      "source": [
        "print(\"=== COLUMN SUMMARY ===\")\n",
        "print(summary)\n"
      ],
      "metadata": {
        "colab": {
          "base_uri": "https://localhost:8080/",
          "height": 0
        },
        "id": "qcoaT5pe0NQn",
        "outputId": "972c4afb-047e-4ec9-c4cc-96e6a6176c66"
      },
      "execution_count": 11,
      "outputs": [
        {
          "output_type": "stream",
          "name": "stdout",
          "text": [
            "=== COLUMN SUMMARY ===\n",
            "          Data Type  Missing Values  Unique Values\n",
            "Iso3_code    object               0             93\n",
            "Country      object               0             93\n",
            "Region       object               0              4\n",
            "Subregion    object               0             13\n",
            "Indicator    object               0              1\n",
            "Dimension    object               0              1\n",
            "Category     object               0              4\n",
            "Sex          object               0              1\n",
            "Age          object               0              1\n",
            "Year          int64               0             10\n",
            "Unit         object               0              2\n",
            "Value       float64               0           1628\n",
            "Source       object               0              5\n"
          ]
        }
      ]
    },
    {
      "cell_type": "code",
      "source": [
        "# Display numeric summary stats (mean, median, etc.)\n",
        "numeric_summary = df_cyber.describe(include='number').T"
      ],
      "metadata": {
        "id": "Fd4QYv4W0NVa"
      },
      "execution_count": 12,
      "outputs": []
    },
    {
      "cell_type": "code",
      "source": [
        "print(\"\\n=== NUMERIC SUMMARY ===\")\n",
        "print(numeric_summary)"
      ],
      "metadata": {
        "colab": {
          "base_uri": "https://localhost:8080/",
          "height": 0
        },
        "id": "uN6RZEp80NZO",
        "outputId": "20865c60-dce5-4eb7-e0ab-9fcd65bcfc64"
      },
      "execution_count": 13,
      "outputs": [
        {
          "output_type": "stream",
          "name": "stdout",
          "text": [
            "\n",
            "=== NUMERIC SUMMARY ===\n",
            "        count         mean           std     min          25%          50%  \\\n",
            "Year   2426.0  2018.083265      2.301876  2013.0  2016.000000  2018.000000   \n",
            "Value  2426.0  2671.366553  18430.230688     0.0     0.428535     7.199874   \n",
            "\n",
            "          75%       max  \n",
            "Year   2020.0    2022.0  \n",
            "Value   136.0  255717.0  \n"
          ]
        }
      ]
    },
    {
      "cell_type": "code",
      "source": [
        "# List columns with only one unique value\n",
        "single_value_cols = summary[summary['Unique Values'] == 1].index.tolist()\n",
        "\n",
        "print(\"Columns with only one unique value:\")\n",
        "print(single_value_cols)"
      ],
      "metadata": {
        "colab": {
          "base_uri": "https://localhost:8080/",
          "height": 0
        },
        "id": "0u9XBi3X0NeR",
        "outputId": "6443289d-2822-498e-a392-4751697a002a"
      },
      "execution_count": 14,
      "outputs": [
        {
          "output_type": "stream",
          "name": "stdout",
          "text": [
            "Columns with only one unique value:\n",
            "['Indicator', 'Dimension', 'Sex', 'Age']\n"
          ]
        }
      ]
    },
    {
      "cell_type": "code",
      "source": [
        "for col in single_value_cols:\n",
        "    unique_val = df_cyber[col].unique()\n",
        "    print(f\"{col}: {unique_val}\")"
      ],
      "metadata": {
        "colab": {
          "base_uri": "https://localhost:8080/",
          "height": 0
        },
        "id": "gHUMBsga0Ni1",
        "outputId": "494639cf-a6e8-4f36-8eb8-52a7c4a34dc4"
      },
      "execution_count": 15,
      "outputs": [
        {
          "output_type": "stream",
          "name": "stdout",
          "text": [
            "Indicator: ['Offences']\n",
            "Dimension: ['by type of offence']\n",
            "Sex: ['Total']\n",
            "Age: ['Total']\n"
          ]
        }
      ]
    },
    {
      "cell_type": "code",
      "source": [
        "# Drop columns with only one unique value\n",
        "cols_to_drop = ['Indicator', 'Dimension', 'Sex', 'Age']\n",
        "df_cyber_cleaned = df_cyber.drop(columns=cols_to_drop)\n",
        "\n",
        "# View cleaned dataframe\n",
        "print(df_cyber_cleaned.head())"
      ],
      "metadata": {
        "colab": {
          "base_uri": "https://localhost:8080/",
          "height": 0
        },
        "id": "jZRfF1OH4Vdh",
        "outputId": "5d2e0e10-4c5d-4874-974f-aad820dfe866"
      },
      "execution_count": 16,
      "outputs": [
        {
          "output_type": "stream",
          "name": "stdout",
          "text": [
            "     Iso3_code   Country    Region                        Subregion  \\\n",
            "8467       ARM   Armenia      Asia                     Western Asia   \n",
            "8468       AUT   Austria    Europe                   Western Europe   \n",
            "8469       CAN    Canada  Americas                 Northern America   \n",
            "8470       COL  Colombia  Americas  Latin America and the Caribbean   \n",
            "8471       CZE   Czechia    Europe                   Eastern Europe   \n",
            "\n",
            "                       Category  Year    Unit   Value Source  \n",
            "8467  Fraud: Cyber-related (Cy)  2013  Counts    35.0    CTS  \n",
            "8468  Fraud: Cyber-related (Cy)  2013  Counts  7667.0    CTS  \n",
            "8469  Fraud: Cyber-related (Cy)  2013  Counts  6914.0    CTS  \n",
            "8470  Fraud: Cyber-related (Cy)  2013  Counts  7303.0    CTS  \n",
            "8471  Fraud: Cyber-related (Cy)  2013  Counts  1740.0    CTS  \n"
          ]
        }
      ]
    },
    {
      "cell_type": "code",
      "source": [
        "df_cyber_cleaned = df_cyber_cleaned.reset_index(drop=True)"
      ],
      "metadata": {
        "id": "56G7e78Q4VvA"
      },
      "execution_count": 17,
      "outputs": []
    },
    {
      "cell_type": "markdown",
      "source": [
        "# World Bank Data"
      ],
      "metadata": {
        "id": "h7oxoPWdEMol"
      }
    },
    {
      "cell_type": "code",
      "source": [
        "# Load the dataset\n",
        "file_path_wb = \"/content/drive/MyDrive/world_bank.xlsx\"\n",
        "\n",
        "# Load the sheet names to understand the structure\n",
        "xls_wb = pd.ExcelFile(file_path_wb)\n",
        "\n",
        "print(xls_wb.sheet_names)"
      ],
      "metadata": {
        "colab": {
          "base_uri": "https://localhost:8080/",
          "height": 0
        },
        "id": "s7tbkhEE4WFm",
        "outputId": "06b7c6d2-e982-4cea-e2e3-d19c67a72220"
      },
      "execution_count": 18,
      "outputs": [
        {
          "output_type": "stream",
          "name": "stdout",
          "text": [
            "['Internet users (% of population', 'Secure Severs (absolute)', 'Secure servers (per 1 million)']\n"
          ]
        }
      ]
    },
    {
      "cell_type": "code",
      "source": [
        "df_internet_users = pd.read_excel(xls_wb, sheet_name=\"Internet users (% of population\")\n",
        "df_absolute_servers = pd.read_excel(xls_wb, sheet_name=\"Secure Severs (absolute)\")\n",
        "df_relative_servers = pd.read_excel(xls_wb, sheet_name=\"Secure servers (per 1 million)\")"
      ],
      "metadata": {
        "id": "mjI0BcjgELLb"
      },
      "execution_count": 19,
      "outputs": []
    },
    {
      "cell_type": "code",
      "source": [
        "# Display the first few rows to understand the structure\n",
        "df_internet_users.head(1)\n",
        "df_relative_servers.head(1)\n",
        "df_absolute_servers.head(1)"
      ],
      "metadata": {
        "colab": {
          "base_uri": "https://localhost:8080/",
          "height": 110
        },
        "id": "sWlGKP_9ELfV",
        "outputId": "3194b019-0e30-472e-875c-0b293ff42d45"
      },
      "execution_count": 20,
      "outputs": [
        {
          "output_type": "execute_result",
          "data": {
            "text/plain": [
              "  Country Name Country Code           Indicator Name Indicator Code  1960  \\\n",
              "0        Aruba          ABW  Secure Internet servers    IT.NET.SECR   NaN   \n",
              "\n",
              "   1961  1962  1963  1964  1965  ...  2014  2015   2016   2017   2018   2019  \\\n",
              "0   NaN   NaN   NaN   NaN   NaN  ...  59.0  79.0  123.0  103.0  122.0  149.0   \n",
              "\n",
              "    2020   2021   2022   2023  \n",
              "0  169.0  177.0  174.0  150.0  \n",
              "\n",
              "[1 rows x 68 columns]"
            ],
            "text/html": [
              "\n",
              "  <div id=\"df-a6f0a98f-7483-49a5-a9ca-fff003e08522\" class=\"colab-df-container\">\n",
              "    <div>\n",
              "<style scoped>\n",
              "    .dataframe tbody tr th:only-of-type {\n",
              "        vertical-align: middle;\n",
              "    }\n",
              "\n",
              "    .dataframe tbody tr th {\n",
              "        vertical-align: top;\n",
              "    }\n",
              "\n",
              "    .dataframe thead th {\n",
              "        text-align: right;\n",
              "    }\n",
              "</style>\n",
              "<table border=\"1\" class=\"dataframe\">\n",
              "  <thead>\n",
              "    <tr style=\"text-align: right;\">\n",
              "      <th></th>\n",
              "      <th>Country Name</th>\n",
              "      <th>Country Code</th>\n",
              "      <th>Indicator Name</th>\n",
              "      <th>Indicator Code</th>\n",
              "      <th>1960</th>\n",
              "      <th>1961</th>\n",
              "      <th>1962</th>\n",
              "      <th>1963</th>\n",
              "      <th>1964</th>\n",
              "      <th>1965</th>\n",
              "      <th>...</th>\n",
              "      <th>2014</th>\n",
              "      <th>2015</th>\n",
              "      <th>2016</th>\n",
              "      <th>2017</th>\n",
              "      <th>2018</th>\n",
              "      <th>2019</th>\n",
              "      <th>2020</th>\n",
              "      <th>2021</th>\n",
              "      <th>2022</th>\n",
              "      <th>2023</th>\n",
              "    </tr>\n",
              "  </thead>\n",
              "  <tbody>\n",
              "    <tr>\n",
              "      <th>0</th>\n",
              "      <td>Aruba</td>\n",
              "      <td>ABW</td>\n",
              "      <td>Secure Internet servers</td>\n",
              "      <td>IT.NET.SECR</td>\n",
              "      <td>NaN</td>\n",
              "      <td>NaN</td>\n",
              "      <td>NaN</td>\n",
              "      <td>NaN</td>\n",
              "      <td>NaN</td>\n",
              "      <td>NaN</td>\n",
              "      <td>...</td>\n",
              "      <td>59.0</td>\n",
              "      <td>79.0</td>\n",
              "      <td>123.0</td>\n",
              "      <td>103.0</td>\n",
              "      <td>122.0</td>\n",
              "      <td>149.0</td>\n",
              "      <td>169.0</td>\n",
              "      <td>177.0</td>\n",
              "      <td>174.0</td>\n",
              "      <td>150.0</td>\n",
              "    </tr>\n",
              "  </tbody>\n",
              "</table>\n",
              "<p>1 rows × 68 columns</p>\n",
              "</div>\n",
              "    <div class=\"colab-df-buttons\">\n",
              "\n",
              "  <div class=\"colab-df-container\">\n",
              "    <button class=\"colab-df-convert\" onclick=\"convertToInteractive('df-a6f0a98f-7483-49a5-a9ca-fff003e08522')\"\n",
              "            title=\"Convert this dataframe to an interactive table.\"\n",
              "            style=\"display:none;\">\n",
              "\n",
              "  <svg xmlns=\"http://www.w3.org/2000/svg\" height=\"24px\" viewBox=\"0 -960 960 960\">\n",
              "    <path d=\"M120-120v-720h720v720H120Zm60-500h600v-160H180v160Zm220 220h160v-160H400v160Zm0 220h160v-160H400v160ZM180-400h160v-160H180v160Zm440 0h160v-160H620v160ZM180-180h160v-160H180v160Zm440 0h160v-160H620v160Z\"/>\n",
              "  </svg>\n",
              "    </button>\n",
              "\n",
              "  <style>\n",
              "    .colab-df-container {\n",
              "      display:flex;\n",
              "      gap: 12px;\n",
              "    }\n",
              "\n",
              "    .colab-df-convert {\n",
              "      background-color: #E8F0FE;\n",
              "      border: none;\n",
              "      border-radius: 50%;\n",
              "      cursor: pointer;\n",
              "      display: none;\n",
              "      fill: #1967D2;\n",
              "      height: 32px;\n",
              "      padding: 0 0 0 0;\n",
              "      width: 32px;\n",
              "    }\n",
              "\n",
              "    .colab-df-convert:hover {\n",
              "      background-color: #E2EBFA;\n",
              "      box-shadow: 0px 1px 2px rgba(60, 64, 67, 0.3), 0px 1px 3px 1px rgba(60, 64, 67, 0.15);\n",
              "      fill: #174EA6;\n",
              "    }\n",
              "\n",
              "    .colab-df-buttons div {\n",
              "      margin-bottom: 4px;\n",
              "    }\n",
              "\n",
              "    [theme=dark] .colab-df-convert {\n",
              "      background-color: #3B4455;\n",
              "      fill: #D2E3FC;\n",
              "    }\n",
              "\n",
              "    [theme=dark] .colab-df-convert:hover {\n",
              "      background-color: #434B5C;\n",
              "      box-shadow: 0px 1px 3px 1px rgba(0, 0, 0, 0.15);\n",
              "      filter: drop-shadow(0px 1px 2px rgba(0, 0, 0, 0.3));\n",
              "      fill: #FFFFFF;\n",
              "    }\n",
              "  </style>\n",
              "\n",
              "    <script>\n",
              "      const buttonEl =\n",
              "        document.querySelector('#df-a6f0a98f-7483-49a5-a9ca-fff003e08522 button.colab-df-convert');\n",
              "      buttonEl.style.display =\n",
              "        google.colab.kernel.accessAllowed ? 'block' : 'none';\n",
              "\n",
              "      async function convertToInteractive(key) {\n",
              "        const element = document.querySelector('#df-a6f0a98f-7483-49a5-a9ca-fff003e08522');\n",
              "        const dataTable =\n",
              "          await google.colab.kernel.invokeFunction('convertToInteractive',\n",
              "                                                    [key], {});\n",
              "        if (!dataTable) return;\n",
              "\n",
              "        const docLinkHtml = 'Like what you see? Visit the ' +\n",
              "          '<a target=\"_blank\" href=https://colab.research.google.com/notebooks/data_table.ipynb>data table notebook</a>'\n",
              "          + ' to learn more about interactive tables.';\n",
              "        element.innerHTML = '';\n",
              "        dataTable['output_type'] = 'display_data';\n",
              "        await google.colab.output.renderOutput(dataTable, element);\n",
              "        const docLink = document.createElement('div');\n",
              "        docLink.innerHTML = docLinkHtml;\n",
              "        element.appendChild(docLink);\n",
              "      }\n",
              "    </script>\n",
              "  </div>\n",
              "\n",
              "\n",
              "    </div>\n",
              "  </div>\n"
            ],
            "application/vnd.google.colaboratory.intrinsic+json": {
              "type": "dataframe",
              "variable_name": "df_absolute_servers"
            }
          },
          "metadata": {},
          "execution_count": 20
        }
      ]
    },
    {
      "cell_type": "code",
      "source": [
        "df_absolute_servers.columns"
      ],
      "metadata": {
        "colab": {
          "base_uri": "https://localhost:8080/",
          "height": 0
        },
        "id": "aZCvS6xYGfdE",
        "outputId": "6e724234-1780-47d2-8be1-fe6cd125a81f"
      },
      "execution_count": 21,
      "outputs": [
        {
          "output_type": "execute_result",
          "data": {
            "text/plain": [
              "Index(['Country Name', 'Country Code', 'Indicator Name', 'Indicator Code',\n",
              "       '1960', '1961', '1962', '1963', '1964', '1965', '1966', '1967', '1968',\n",
              "       '1969', '1970', '1971', '1972', '1973', '1974', '1975', '1976', '1977',\n",
              "       '1978', '1979', '1980', '1981', '1982', '1983', '1984', '1985', '1986',\n",
              "       '1987', '1988', '1989', '1990', '1991', '1992', '1993', '1994', '1995',\n",
              "       '1996', '1997', '1998', '1999', '2000', '2001', '2002', '2003', '2004',\n",
              "       '2005', '2006', '2007', '2008', '2009', '2010', '2011', '2012', '2013',\n",
              "       '2014', '2015', '2016', '2017', '2018', '2019', '2020', '2021', '2022',\n",
              "       '2023'],\n",
              "      dtype='object')"
            ]
          },
          "metadata": {},
          "execution_count": 21
        }
      ]
    },
    {
      "cell_type": "code",
      "source": [
        "# Melt the dataframe to long format\n",
        "df_internet_users_long = df_internet_users.melt(\n",
        "    id_vars=[\"Country Name\", \"Country Code\", \"Indicator Name\", \"Indicator Code\"],\n",
        "    var_name=\"Year\",\n",
        "    value_name=\"Internet_Usage\"\n",
        ")\n",
        "\n",
        "df_absolute_servers_long = df_absolute_servers.melt(\n",
        "    id_vars=[\"Country Name\", \"Country Code\", \"Indicator Name\", \"Indicator Code\"],\n",
        "    var_name=\"Year\",\n",
        "    value_name=\"Secure Internet servers\"\n",
        ")\n",
        "\n",
        "df_relative_servers_long = df_relative_servers.melt(\n",
        "    id_vars=[\"Country Name\", \"Country Code\", \"Indicator Name\", \"Indicator Code\"],\n",
        "    var_name=\"Year\",\n",
        "    value_name=\"Secure Internet servers (per 1 million people)\"\n",
        ")"
      ],
      "metadata": {
        "id": "q-8QqeIgELj2"
      },
      "execution_count": 22,
      "outputs": []
    },
    {
      "cell_type": "code",
      "source": [
        "# Convert 'Year' to integer\n",
        "df_internet_users_long[\"Year\"] = pd.to_numeric(df_internet_users_long[\"Year\"], errors=\"coerce\")\n",
        "df_absolute_servers_long[\"Year\"] = pd.to_numeric(df_absolute_servers_long[\"Year\"], errors=\"coerce\")\n",
        "df_relative_servers_long[\"Year\"] = pd.to_numeric(df_relative_servers_long[\"Year\"], errors=\"coerce\")"
      ],
      "metadata": {
        "id": "tV-MKyKMGowi"
      },
      "execution_count": 23,
      "outputs": []
    },
    {
      "cell_type": "code",
      "source": [
        "# Show first 3 rows of new data frame\n",
        "df_internet_users_long.head(3)"
      ],
      "metadata": {
        "colab": {
          "base_uri": "https://localhost:8080/",
          "height": 143
        },
        "id": "rwz7MMEEGrc3",
        "outputId": "4ff2bd27-69a3-4a3c-cbe9-8d6754046286"
      },
      "execution_count": 24,
      "outputs": [
        {
          "output_type": "execute_result",
          "data": {
            "text/plain": [
              "                  Country Name Country Code  \\\n",
              "0                        Aruba          ABW   \n",
              "1  Africa Eastern and Southern          AFE   \n",
              "2                  Afghanistan          AFG   \n",
              "\n",
              "                                     Indicator Name  Indicator Code  Year  \\\n",
              "0  Individuals using the Internet (% of population)  IT.NET.USER.ZS  1960   \n",
              "1  Individuals using the Internet (% of population)  IT.NET.USER.ZS  1960   \n",
              "2  Individuals using the Internet (% of population)  IT.NET.USER.ZS  1960   \n",
              "\n",
              "   Internet_Usage  \n",
              "0             NaN  \n",
              "1             NaN  \n",
              "2             NaN  "
            ],
            "text/html": [
              "\n",
              "  <div id=\"df-13ad515f-d822-4d54-b1c5-f82cc74832ec\" class=\"colab-df-container\">\n",
              "    <div>\n",
              "<style scoped>\n",
              "    .dataframe tbody tr th:only-of-type {\n",
              "        vertical-align: middle;\n",
              "    }\n",
              "\n",
              "    .dataframe tbody tr th {\n",
              "        vertical-align: top;\n",
              "    }\n",
              "\n",
              "    .dataframe thead th {\n",
              "        text-align: right;\n",
              "    }\n",
              "</style>\n",
              "<table border=\"1\" class=\"dataframe\">\n",
              "  <thead>\n",
              "    <tr style=\"text-align: right;\">\n",
              "      <th></th>\n",
              "      <th>Country Name</th>\n",
              "      <th>Country Code</th>\n",
              "      <th>Indicator Name</th>\n",
              "      <th>Indicator Code</th>\n",
              "      <th>Year</th>\n",
              "      <th>Internet_Usage</th>\n",
              "    </tr>\n",
              "  </thead>\n",
              "  <tbody>\n",
              "    <tr>\n",
              "      <th>0</th>\n",
              "      <td>Aruba</td>\n",
              "      <td>ABW</td>\n",
              "      <td>Individuals using the Internet (% of population)</td>\n",
              "      <td>IT.NET.USER.ZS</td>\n",
              "      <td>1960</td>\n",
              "      <td>NaN</td>\n",
              "    </tr>\n",
              "    <tr>\n",
              "      <th>1</th>\n",
              "      <td>Africa Eastern and Southern</td>\n",
              "      <td>AFE</td>\n",
              "      <td>Individuals using the Internet (% of population)</td>\n",
              "      <td>IT.NET.USER.ZS</td>\n",
              "      <td>1960</td>\n",
              "      <td>NaN</td>\n",
              "    </tr>\n",
              "    <tr>\n",
              "      <th>2</th>\n",
              "      <td>Afghanistan</td>\n",
              "      <td>AFG</td>\n",
              "      <td>Individuals using the Internet (% of population)</td>\n",
              "      <td>IT.NET.USER.ZS</td>\n",
              "      <td>1960</td>\n",
              "      <td>NaN</td>\n",
              "    </tr>\n",
              "  </tbody>\n",
              "</table>\n",
              "</div>\n",
              "    <div class=\"colab-df-buttons\">\n",
              "\n",
              "  <div class=\"colab-df-container\">\n",
              "    <button class=\"colab-df-convert\" onclick=\"convertToInteractive('df-13ad515f-d822-4d54-b1c5-f82cc74832ec')\"\n",
              "            title=\"Convert this dataframe to an interactive table.\"\n",
              "            style=\"display:none;\">\n",
              "\n",
              "  <svg xmlns=\"http://www.w3.org/2000/svg\" height=\"24px\" viewBox=\"0 -960 960 960\">\n",
              "    <path d=\"M120-120v-720h720v720H120Zm60-500h600v-160H180v160Zm220 220h160v-160H400v160Zm0 220h160v-160H400v160ZM180-400h160v-160H180v160Zm440 0h160v-160H620v160ZM180-180h160v-160H180v160Zm440 0h160v-160H620v160Z\"/>\n",
              "  </svg>\n",
              "    </button>\n",
              "\n",
              "  <style>\n",
              "    .colab-df-container {\n",
              "      display:flex;\n",
              "      gap: 12px;\n",
              "    }\n",
              "\n",
              "    .colab-df-convert {\n",
              "      background-color: #E8F0FE;\n",
              "      border: none;\n",
              "      border-radius: 50%;\n",
              "      cursor: pointer;\n",
              "      display: none;\n",
              "      fill: #1967D2;\n",
              "      height: 32px;\n",
              "      padding: 0 0 0 0;\n",
              "      width: 32px;\n",
              "    }\n",
              "\n",
              "    .colab-df-convert:hover {\n",
              "      background-color: #E2EBFA;\n",
              "      box-shadow: 0px 1px 2px rgba(60, 64, 67, 0.3), 0px 1px 3px 1px rgba(60, 64, 67, 0.15);\n",
              "      fill: #174EA6;\n",
              "    }\n",
              "\n",
              "    .colab-df-buttons div {\n",
              "      margin-bottom: 4px;\n",
              "    }\n",
              "\n",
              "    [theme=dark] .colab-df-convert {\n",
              "      background-color: #3B4455;\n",
              "      fill: #D2E3FC;\n",
              "    }\n",
              "\n",
              "    [theme=dark] .colab-df-convert:hover {\n",
              "      background-color: #434B5C;\n",
              "      box-shadow: 0px 1px 3px 1px rgba(0, 0, 0, 0.15);\n",
              "      filter: drop-shadow(0px 1px 2px rgba(0, 0, 0, 0.3));\n",
              "      fill: #FFFFFF;\n",
              "    }\n",
              "  </style>\n",
              "\n",
              "    <script>\n",
              "      const buttonEl =\n",
              "        document.querySelector('#df-13ad515f-d822-4d54-b1c5-f82cc74832ec button.colab-df-convert');\n",
              "      buttonEl.style.display =\n",
              "        google.colab.kernel.accessAllowed ? 'block' : 'none';\n",
              "\n",
              "      async function convertToInteractive(key) {\n",
              "        const element = document.querySelector('#df-13ad515f-d822-4d54-b1c5-f82cc74832ec');\n",
              "        const dataTable =\n",
              "          await google.colab.kernel.invokeFunction('convertToInteractive',\n",
              "                                                    [key], {});\n",
              "        if (!dataTable) return;\n",
              "\n",
              "        const docLinkHtml = 'Like what you see? Visit the ' +\n",
              "          '<a target=\"_blank\" href=https://colab.research.google.com/notebooks/data_table.ipynb>data table notebook</a>'\n",
              "          + ' to learn more about interactive tables.';\n",
              "        element.innerHTML = '';\n",
              "        dataTable['output_type'] = 'display_data';\n",
              "        await google.colab.output.renderOutput(dataTable, element);\n",
              "        const docLink = document.createElement('div');\n",
              "        docLink.innerHTML = docLinkHtml;\n",
              "        element.appendChild(docLink);\n",
              "      }\n",
              "    </script>\n",
              "  </div>\n",
              "\n",
              "\n",
              "<div id=\"df-86499ea3-8746-4c83-8c92-71f30e8fe118\">\n",
              "  <button class=\"colab-df-quickchart\" onclick=\"quickchart('df-86499ea3-8746-4c83-8c92-71f30e8fe118')\"\n",
              "            title=\"Suggest charts\"\n",
              "            style=\"display:none;\">\n",
              "\n",
              "<svg xmlns=\"http://www.w3.org/2000/svg\" height=\"24px\"viewBox=\"0 0 24 24\"\n",
              "     width=\"24px\">\n",
              "    <g>\n",
              "        <path d=\"M19 3H5c-1.1 0-2 .9-2 2v14c0 1.1.9 2 2 2h14c1.1 0 2-.9 2-2V5c0-1.1-.9-2-2-2zM9 17H7v-7h2v7zm4 0h-2V7h2v10zm4 0h-2v-4h2v4z\"/>\n",
              "    </g>\n",
              "</svg>\n",
              "  </button>\n",
              "\n",
              "<style>\n",
              "  .colab-df-quickchart {\n",
              "      --bg-color: #E8F0FE;\n",
              "      --fill-color: #1967D2;\n",
              "      --hover-bg-color: #E2EBFA;\n",
              "      --hover-fill-color: #174EA6;\n",
              "      --disabled-fill-color: #AAA;\n",
              "      --disabled-bg-color: #DDD;\n",
              "  }\n",
              "\n",
              "  [theme=dark] .colab-df-quickchart {\n",
              "      --bg-color: #3B4455;\n",
              "      --fill-color: #D2E3FC;\n",
              "      --hover-bg-color: #434B5C;\n",
              "      --hover-fill-color: #FFFFFF;\n",
              "      --disabled-bg-color: #3B4455;\n",
              "      --disabled-fill-color: #666;\n",
              "  }\n",
              "\n",
              "  .colab-df-quickchart {\n",
              "    background-color: var(--bg-color);\n",
              "    border: none;\n",
              "    border-radius: 50%;\n",
              "    cursor: pointer;\n",
              "    display: none;\n",
              "    fill: var(--fill-color);\n",
              "    height: 32px;\n",
              "    padding: 0;\n",
              "    width: 32px;\n",
              "  }\n",
              "\n",
              "  .colab-df-quickchart:hover {\n",
              "    background-color: var(--hover-bg-color);\n",
              "    box-shadow: 0 1px 2px rgba(60, 64, 67, 0.3), 0 1px 3px 1px rgba(60, 64, 67, 0.15);\n",
              "    fill: var(--button-hover-fill-color);\n",
              "  }\n",
              "\n",
              "  .colab-df-quickchart-complete:disabled,\n",
              "  .colab-df-quickchart-complete:disabled:hover {\n",
              "    background-color: var(--disabled-bg-color);\n",
              "    fill: var(--disabled-fill-color);\n",
              "    box-shadow: none;\n",
              "  }\n",
              "\n",
              "  .colab-df-spinner {\n",
              "    border: 2px solid var(--fill-color);\n",
              "    border-color: transparent;\n",
              "    border-bottom-color: var(--fill-color);\n",
              "    animation:\n",
              "      spin 1s steps(1) infinite;\n",
              "  }\n",
              "\n",
              "  @keyframes spin {\n",
              "    0% {\n",
              "      border-color: transparent;\n",
              "      border-bottom-color: var(--fill-color);\n",
              "      border-left-color: var(--fill-color);\n",
              "    }\n",
              "    20% {\n",
              "      border-color: transparent;\n",
              "      border-left-color: var(--fill-color);\n",
              "      border-top-color: var(--fill-color);\n",
              "    }\n",
              "    30% {\n",
              "      border-color: transparent;\n",
              "      border-left-color: var(--fill-color);\n",
              "      border-top-color: var(--fill-color);\n",
              "      border-right-color: var(--fill-color);\n",
              "    }\n",
              "    40% {\n",
              "      border-color: transparent;\n",
              "      border-right-color: var(--fill-color);\n",
              "      border-top-color: var(--fill-color);\n",
              "    }\n",
              "    60% {\n",
              "      border-color: transparent;\n",
              "      border-right-color: var(--fill-color);\n",
              "    }\n",
              "    80% {\n",
              "      border-color: transparent;\n",
              "      border-right-color: var(--fill-color);\n",
              "      border-bottom-color: var(--fill-color);\n",
              "    }\n",
              "    90% {\n",
              "      border-color: transparent;\n",
              "      border-bottom-color: var(--fill-color);\n",
              "    }\n",
              "  }\n",
              "</style>\n",
              "\n",
              "  <script>\n",
              "    async function quickchart(key) {\n",
              "      const quickchartButtonEl =\n",
              "        document.querySelector('#' + key + ' button');\n",
              "      quickchartButtonEl.disabled = true;  // To prevent multiple clicks.\n",
              "      quickchartButtonEl.classList.add('colab-df-spinner');\n",
              "      try {\n",
              "        const charts = await google.colab.kernel.invokeFunction(\n",
              "            'suggestCharts', [key], {});\n",
              "      } catch (error) {\n",
              "        console.error('Error during call to suggestCharts:', error);\n",
              "      }\n",
              "      quickchartButtonEl.classList.remove('colab-df-spinner');\n",
              "      quickchartButtonEl.classList.add('colab-df-quickchart-complete');\n",
              "    }\n",
              "    (() => {\n",
              "      let quickchartButtonEl =\n",
              "        document.querySelector('#df-86499ea3-8746-4c83-8c92-71f30e8fe118 button');\n",
              "      quickchartButtonEl.style.display =\n",
              "        google.colab.kernel.accessAllowed ? 'block' : 'none';\n",
              "    })();\n",
              "  </script>\n",
              "</div>\n",
              "\n",
              "    </div>\n",
              "  </div>\n"
            ],
            "application/vnd.google.colaboratory.intrinsic+json": {
              "type": "dataframe",
              "variable_name": "df_internet_users_long",
              "summary": "{\n  \"name\": \"df_internet_users_long\",\n  \"rows\": 17024,\n  \"fields\": [\n    {\n      \"column\": \"Country Name\",\n      \"properties\": {\n        \"dtype\": \"category\",\n        \"num_unique_values\": 266,\n        \"samples\": [\n          \"OECD members\",\n          \"Japan\",\n          \"Lower middle income\"\n        ],\n        \"semantic_type\": \"\",\n        \"description\": \"\"\n      }\n    },\n    {\n      \"column\": \"Country Code\",\n      \"properties\": {\n        \"dtype\": \"category\",\n        \"num_unique_values\": 266,\n        \"samples\": [\n          \"OED\",\n          \"JPN\",\n          \"LMC\"\n        ],\n        \"semantic_type\": \"\",\n        \"description\": \"\"\n      }\n    },\n    {\n      \"column\": \"Indicator Name\",\n      \"properties\": {\n        \"dtype\": \"category\",\n        \"num_unique_values\": 1,\n        \"samples\": [\n          \"Individuals using the Internet (% of population)\"\n        ],\n        \"semantic_type\": \"\",\n        \"description\": \"\"\n      }\n    },\n    {\n      \"column\": \"Indicator Code\",\n      \"properties\": {\n        \"dtype\": \"category\",\n        \"num_unique_values\": 1,\n        \"samples\": [\n          \"IT.NET.USER.ZS\"\n        ],\n        \"semantic_type\": \"\",\n        \"description\": \"\"\n      }\n    },\n    {\n      \"column\": \"Year\",\n      \"properties\": {\n        \"dtype\": \"number\",\n        \"std\": 18,\n        \"min\": 1960,\n        \"max\": 2023,\n        \"num_unique_values\": 64,\n        \"samples\": [\n          2012\n        ],\n        \"semantic_type\": \"\",\n        \"description\": \"\"\n      }\n    },\n    {\n      \"column\": \"Internet_Usage\",\n      \"properties\": {\n        \"dtype\": \"number\",\n        \"std\": 30.631362563537422,\n        \"min\": 0.0,\n        \"max\": 100.0,\n        \"num_unique_values\": 5962,\n        \"samples\": [\n          4.756222209\n        ],\n        \"semantic_type\": \"\",\n        \"description\": \"\"\n      }\n    }\n  ]\n}"
            }
          },
          "metadata": {},
          "execution_count": 24
        }
      ]
    },
    {
      "cell_type": "code",
      "source": [
        "# Show first 3 rows of new data frame\n",
        "df_absolute_servers_long.head(3)"
      ],
      "metadata": {
        "colab": {
          "base_uri": "https://localhost:8080/",
          "height": 143
        },
        "id": "8DAil1V0HPYV",
        "outputId": "ba0a3b2a-d746-4002-8b68-bf038628c96c"
      },
      "execution_count": 25,
      "outputs": [
        {
          "output_type": "execute_result",
          "data": {
            "text/plain": [
              "                  Country Name Country Code           Indicator Name  \\\n",
              "0                        Aruba          ABW  Secure Internet servers   \n",
              "1  Africa Eastern and Southern          AFE  Secure Internet servers   \n",
              "2                  Afghanistan          AFG  Secure Internet servers   \n",
              "\n",
              "  Indicator Code  Year  Secure Internet servers  \n",
              "0    IT.NET.SECR  1960                      NaN  \n",
              "1    IT.NET.SECR  1960                      NaN  \n",
              "2    IT.NET.SECR  1960                      NaN  "
            ],
            "text/html": [
              "\n",
              "  <div id=\"df-6eac6d4c-90dd-4215-a6f5-523830a307a8\" class=\"colab-df-container\">\n",
              "    <div>\n",
              "<style scoped>\n",
              "    .dataframe tbody tr th:only-of-type {\n",
              "        vertical-align: middle;\n",
              "    }\n",
              "\n",
              "    .dataframe tbody tr th {\n",
              "        vertical-align: top;\n",
              "    }\n",
              "\n",
              "    .dataframe thead th {\n",
              "        text-align: right;\n",
              "    }\n",
              "</style>\n",
              "<table border=\"1\" class=\"dataframe\">\n",
              "  <thead>\n",
              "    <tr style=\"text-align: right;\">\n",
              "      <th></th>\n",
              "      <th>Country Name</th>\n",
              "      <th>Country Code</th>\n",
              "      <th>Indicator Name</th>\n",
              "      <th>Indicator Code</th>\n",
              "      <th>Year</th>\n",
              "      <th>Secure Internet servers</th>\n",
              "    </tr>\n",
              "  </thead>\n",
              "  <tbody>\n",
              "    <tr>\n",
              "      <th>0</th>\n",
              "      <td>Aruba</td>\n",
              "      <td>ABW</td>\n",
              "      <td>Secure Internet servers</td>\n",
              "      <td>IT.NET.SECR</td>\n",
              "      <td>1960</td>\n",
              "      <td>NaN</td>\n",
              "    </tr>\n",
              "    <tr>\n",
              "      <th>1</th>\n",
              "      <td>Africa Eastern and Southern</td>\n",
              "      <td>AFE</td>\n",
              "      <td>Secure Internet servers</td>\n",
              "      <td>IT.NET.SECR</td>\n",
              "      <td>1960</td>\n",
              "      <td>NaN</td>\n",
              "    </tr>\n",
              "    <tr>\n",
              "      <th>2</th>\n",
              "      <td>Afghanistan</td>\n",
              "      <td>AFG</td>\n",
              "      <td>Secure Internet servers</td>\n",
              "      <td>IT.NET.SECR</td>\n",
              "      <td>1960</td>\n",
              "      <td>NaN</td>\n",
              "    </tr>\n",
              "  </tbody>\n",
              "</table>\n",
              "</div>\n",
              "    <div class=\"colab-df-buttons\">\n",
              "\n",
              "  <div class=\"colab-df-container\">\n",
              "    <button class=\"colab-df-convert\" onclick=\"convertToInteractive('df-6eac6d4c-90dd-4215-a6f5-523830a307a8')\"\n",
              "            title=\"Convert this dataframe to an interactive table.\"\n",
              "            style=\"display:none;\">\n",
              "\n",
              "  <svg xmlns=\"http://www.w3.org/2000/svg\" height=\"24px\" viewBox=\"0 -960 960 960\">\n",
              "    <path d=\"M120-120v-720h720v720H120Zm60-500h600v-160H180v160Zm220 220h160v-160H400v160Zm0 220h160v-160H400v160ZM180-400h160v-160H180v160Zm440 0h160v-160H620v160ZM180-180h160v-160H180v160Zm440 0h160v-160H620v160Z\"/>\n",
              "  </svg>\n",
              "    </button>\n",
              "\n",
              "  <style>\n",
              "    .colab-df-container {\n",
              "      display:flex;\n",
              "      gap: 12px;\n",
              "    }\n",
              "\n",
              "    .colab-df-convert {\n",
              "      background-color: #E8F0FE;\n",
              "      border: none;\n",
              "      border-radius: 50%;\n",
              "      cursor: pointer;\n",
              "      display: none;\n",
              "      fill: #1967D2;\n",
              "      height: 32px;\n",
              "      padding: 0 0 0 0;\n",
              "      width: 32px;\n",
              "    }\n",
              "\n",
              "    .colab-df-convert:hover {\n",
              "      background-color: #E2EBFA;\n",
              "      box-shadow: 0px 1px 2px rgba(60, 64, 67, 0.3), 0px 1px 3px 1px rgba(60, 64, 67, 0.15);\n",
              "      fill: #174EA6;\n",
              "    }\n",
              "\n",
              "    .colab-df-buttons div {\n",
              "      margin-bottom: 4px;\n",
              "    }\n",
              "\n",
              "    [theme=dark] .colab-df-convert {\n",
              "      background-color: #3B4455;\n",
              "      fill: #D2E3FC;\n",
              "    }\n",
              "\n",
              "    [theme=dark] .colab-df-convert:hover {\n",
              "      background-color: #434B5C;\n",
              "      box-shadow: 0px 1px 3px 1px rgba(0, 0, 0, 0.15);\n",
              "      filter: drop-shadow(0px 1px 2px rgba(0, 0, 0, 0.3));\n",
              "      fill: #FFFFFF;\n",
              "    }\n",
              "  </style>\n",
              "\n",
              "    <script>\n",
              "      const buttonEl =\n",
              "        document.querySelector('#df-6eac6d4c-90dd-4215-a6f5-523830a307a8 button.colab-df-convert');\n",
              "      buttonEl.style.display =\n",
              "        google.colab.kernel.accessAllowed ? 'block' : 'none';\n",
              "\n",
              "      async function convertToInteractive(key) {\n",
              "        const element = document.querySelector('#df-6eac6d4c-90dd-4215-a6f5-523830a307a8');\n",
              "        const dataTable =\n",
              "          await google.colab.kernel.invokeFunction('convertToInteractive',\n",
              "                                                    [key], {});\n",
              "        if (!dataTable) return;\n",
              "\n",
              "        const docLinkHtml = 'Like what you see? Visit the ' +\n",
              "          '<a target=\"_blank\" href=https://colab.research.google.com/notebooks/data_table.ipynb>data table notebook</a>'\n",
              "          + ' to learn more about interactive tables.';\n",
              "        element.innerHTML = '';\n",
              "        dataTable['output_type'] = 'display_data';\n",
              "        await google.colab.output.renderOutput(dataTable, element);\n",
              "        const docLink = document.createElement('div');\n",
              "        docLink.innerHTML = docLinkHtml;\n",
              "        element.appendChild(docLink);\n",
              "      }\n",
              "    </script>\n",
              "  </div>\n",
              "\n",
              "\n",
              "<div id=\"df-f8b83706-eabd-4ed7-9ff1-79f168283b73\">\n",
              "  <button class=\"colab-df-quickchart\" onclick=\"quickchart('df-f8b83706-eabd-4ed7-9ff1-79f168283b73')\"\n",
              "            title=\"Suggest charts\"\n",
              "            style=\"display:none;\">\n",
              "\n",
              "<svg xmlns=\"http://www.w3.org/2000/svg\" height=\"24px\"viewBox=\"0 0 24 24\"\n",
              "     width=\"24px\">\n",
              "    <g>\n",
              "        <path d=\"M19 3H5c-1.1 0-2 .9-2 2v14c0 1.1.9 2 2 2h14c1.1 0 2-.9 2-2V5c0-1.1-.9-2-2-2zM9 17H7v-7h2v7zm4 0h-2V7h2v10zm4 0h-2v-4h2v4z\"/>\n",
              "    </g>\n",
              "</svg>\n",
              "  </button>\n",
              "\n",
              "<style>\n",
              "  .colab-df-quickchart {\n",
              "      --bg-color: #E8F0FE;\n",
              "      --fill-color: #1967D2;\n",
              "      --hover-bg-color: #E2EBFA;\n",
              "      --hover-fill-color: #174EA6;\n",
              "      --disabled-fill-color: #AAA;\n",
              "      --disabled-bg-color: #DDD;\n",
              "  }\n",
              "\n",
              "  [theme=dark] .colab-df-quickchart {\n",
              "      --bg-color: #3B4455;\n",
              "      --fill-color: #D2E3FC;\n",
              "      --hover-bg-color: #434B5C;\n",
              "      --hover-fill-color: #FFFFFF;\n",
              "      --disabled-bg-color: #3B4455;\n",
              "      --disabled-fill-color: #666;\n",
              "  }\n",
              "\n",
              "  .colab-df-quickchart {\n",
              "    background-color: var(--bg-color);\n",
              "    border: none;\n",
              "    border-radius: 50%;\n",
              "    cursor: pointer;\n",
              "    display: none;\n",
              "    fill: var(--fill-color);\n",
              "    height: 32px;\n",
              "    padding: 0;\n",
              "    width: 32px;\n",
              "  }\n",
              "\n",
              "  .colab-df-quickchart:hover {\n",
              "    background-color: var(--hover-bg-color);\n",
              "    box-shadow: 0 1px 2px rgba(60, 64, 67, 0.3), 0 1px 3px 1px rgba(60, 64, 67, 0.15);\n",
              "    fill: var(--button-hover-fill-color);\n",
              "  }\n",
              "\n",
              "  .colab-df-quickchart-complete:disabled,\n",
              "  .colab-df-quickchart-complete:disabled:hover {\n",
              "    background-color: var(--disabled-bg-color);\n",
              "    fill: var(--disabled-fill-color);\n",
              "    box-shadow: none;\n",
              "  }\n",
              "\n",
              "  .colab-df-spinner {\n",
              "    border: 2px solid var(--fill-color);\n",
              "    border-color: transparent;\n",
              "    border-bottom-color: var(--fill-color);\n",
              "    animation:\n",
              "      spin 1s steps(1) infinite;\n",
              "  }\n",
              "\n",
              "  @keyframes spin {\n",
              "    0% {\n",
              "      border-color: transparent;\n",
              "      border-bottom-color: var(--fill-color);\n",
              "      border-left-color: var(--fill-color);\n",
              "    }\n",
              "    20% {\n",
              "      border-color: transparent;\n",
              "      border-left-color: var(--fill-color);\n",
              "      border-top-color: var(--fill-color);\n",
              "    }\n",
              "    30% {\n",
              "      border-color: transparent;\n",
              "      border-left-color: var(--fill-color);\n",
              "      border-top-color: var(--fill-color);\n",
              "      border-right-color: var(--fill-color);\n",
              "    }\n",
              "    40% {\n",
              "      border-color: transparent;\n",
              "      border-right-color: var(--fill-color);\n",
              "      border-top-color: var(--fill-color);\n",
              "    }\n",
              "    60% {\n",
              "      border-color: transparent;\n",
              "      border-right-color: var(--fill-color);\n",
              "    }\n",
              "    80% {\n",
              "      border-color: transparent;\n",
              "      border-right-color: var(--fill-color);\n",
              "      border-bottom-color: var(--fill-color);\n",
              "    }\n",
              "    90% {\n",
              "      border-color: transparent;\n",
              "      border-bottom-color: var(--fill-color);\n",
              "    }\n",
              "  }\n",
              "</style>\n",
              "\n",
              "  <script>\n",
              "    async function quickchart(key) {\n",
              "      const quickchartButtonEl =\n",
              "        document.querySelector('#' + key + ' button');\n",
              "      quickchartButtonEl.disabled = true;  // To prevent multiple clicks.\n",
              "      quickchartButtonEl.classList.add('colab-df-spinner');\n",
              "      try {\n",
              "        const charts = await google.colab.kernel.invokeFunction(\n",
              "            'suggestCharts', [key], {});\n",
              "      } catch (error) {\n",
              "        console.error('Error during call to suggestCharts:', error);\n",
              "      }\n",
              "      quickchartButtonEl.classList.remove('colab-df-spinner');\n",
              "      quickchartButtonEl.classList.add('colab-df-quickchart-complete');\n",
              "    }\n",
              "    (() => {\n",
              "      let quickchartButtonEl =\n",
              "        document.querySelector('#df-f8b83706-eabd-4ed7-9ff1-79f168283b73 button');\n",
              "      quickchartButtonEl.style.display =\n",
              "        google.colab.kernel.accessAllowed ? 'block' : 'none';\n",
              "    })();\n",
              "  </script>\n",
              "</div>\n",
              "\n",
              "    </div>\n",
              "  </div>\n"
            ],
            "application/vnd.google.colaboratory.intrinsic+json": {
              "type": "dataframe",
              "variable_name": "df_absolute_servers_long",
              "summary": "{\n  \"name\": \"df_absolute_servers_long\",\n  \"rows\": 17024,\n  \"fields\": [\n    {\n      \"column\": \"Country Name\",\n      \"properties\": {\n        \"dtype\": \"category\",\n        \"num_unique_values\": 266,\n        \"samples\": [\n          \"OECD members\",\n          \"Japan\",\n          \"Lower middle income\"\n        ],\n        \"semantic_type\": \"\",\n        \"description\": \"\"\n      }\n    },\n    {\n      \"column\": \"Country Code\",\n      \"properties\": {\n        \"dtype\": \"category\",\n        \"num_unique_values\": 266,\n        \"samples\": [\n          \"OED\",\n          \"JPN\",\n          \"LMC\"\n        ],\n        \"semantic_type\": \"\",\n        \"description\": \"\"\n      }\n    },\n    {\n      \"column\": \"Indicator Name\",\n      \"properties\": {\n        \"dtype\": \"category\",\n        \"num_unique_values\": 1,\n        \"samples\": [\n          \"Secure Internet servers\"\n        ],\n        \"semantic_type\": \"\",\n        \"description\": \"\"\n      }\n    },\n    {\n      \"column\": \"Indicator Code\",\n      \"properties\": {\n        \"dtype\": \"category\",\n        \"num_unique_values\": 1,\n        \"samples\": [\n          \"IT.NET.SECR\"\n        ],\n        \"semantic_type\": \"\",\n        \"description\": \"\"\n      }\n    },\n    {\n      \"column\": \"Year\",\n      \"properties\": {\n        \"dtype\": \"number\",\n        \"std\": 18,\n        \"min\": 1960,\n        \"max\": 2023,\n        \"num_unique_values\": 64,\n        \"samples\": [\n          2012\n        ],\n        \"semantic_type\": \"\",\n        \"description\": \"\"\n      }\n    },\n    {\n      \"column\": \"Secure Internet servers\",\n      \"properties\": {\n        \"dtype\": \"number\",\n        \"std\": 4294581.684723025,\n        \"min\": 0.0,\n        \"max\": 116112997.0,\n        \"num_unique_values\": 1795,\n        \"samples\": [\n          2440930.0\n        ],\n        \"semantic_type\": \"\",\n        \"description\": \"\"\n      }\n    }\n  ]\n}"
            }
          },
          "metadata": {},
          "execution_count": 25
        }
      ]
    },
    {
      "cell_type": "code",
      "source": [
        "# Show first 3 rows of new data frame\n",
        "df_relative_servers_long.head(3)"
      ],
      "metadata": {
        "colab": {
          "base_uri": "https://localhost:8080/",
          "height": 143
        },
        "id": "BJIDgO1IHPtP",
        "outputId": "6cbfc709-d3a5-49e4-ef15-ed4bc4713765"
      },
      "execution_count": 26,
      "outputs": [
        {
          "output_type": "execute_result",
          "data": {
            "text/plain": [
              "                  Country Name Country Code  \\\n",
              "0                        Aruba          ABW   \n",
              "1  Africa Eastern and Southern          AFE   \n",
              "2                  Afghanistan          AFG   \n",
              "\n",
              "                                   Indicator Name  Indicator Code  Year  \\\n",
              "0  Secure Internet servers (per 1 million people)  IT.NET.SECR.P6  1960   \n",
              "1  Secure Internet servers (per 1 million people)  IT.NET.SECR.P6  1960   \n",
              "2  Secure Internet servers (per 1 million people)  IT.NET.SECR.P6  1960   \n",
              "\n",
              "   Secure Internet servers (per 1 million people)  \n",
              "0                                             NaN  \n",
              "1                                             NaN  \n",
              "2                                             NaN  "
            ],
            "text/html": [
              "\n",
              "  <div id=\"df-1128f6ec-8bd7-499e-9c7a-b54bf2ec883d\" class=\"colab-df-container\">\n",
              "    <div>\n",
              "<style scoped>\n",
              "    .dataframe tbody tr th:only-of-type {\n",
              "        vertical-align: middle;\n",
              "    }\n",
              "\n",
              "    .dataframe tbody tr th {\n",
              "        vertical-align: top;\n",
              "    }\n",
              "\n",
              "    .dataframe thead th {\n",
              "        text-align: right;\n",
              "    }\n",
              "</style>\n",
              "<table border=\"1\" class=\"dataframe\">\n",
              "  <thead>\n",
              "    <tr style=\"text-align: right;\">\n",
              "      <th></th>\n",
              "      <th>Country Name</th>\n",
              "      <th>Country Code</th>\n",
              "      <th>Indicator Name</th>\n",
              "      <th>Indicator Code</th>\n",
              "      <th>Year</th>\n",
              "      <th>Secure Internet servers (per 1 million people)</th>\n",
              "    </tr>\n",
              "  </thead>\n",
              "  <tbody>\n",
              "    <tr>\n",
              "      <th>0</th>\n",
              "      <td>Aruba</td>\n",
              "      <td>ABW</td>\n",
              "      <td>Secure Internet servers (per 1 million people)</td>\n",
              "      <td>IT.NET.SECR.P6</td>\n",
              "      <td>1960</td>\n",
              "      <td>NaN</td>\n",
              "    </tr>\n",
              "    <tr>\n",
              "      <th>1</th>\n",
              "      <td>Africa Eastern and Southern</td>\n",
              "      <td>AFE</td>\n",
              "      <td>Secure Internet servers (per 1 million people)</td>\n",
              "      <td>IT.NET.SECR.P6</td>\n",
              "      <td>1960</td>\n",
              "      <td>NaN</td>\n",
              "    </tr>\n",
              "    <tr>\n",
              "      <th>2</th>\n",
              "      <td>Afghanistan</td>\n",
              "      <td>AFG</td>\n",
              "      <td>Secure Internet servers (per 1 million people)</td>\n",
              "      <td>IT.NET.SECR.P6</td>\n",
              "      <td>1960</td>\n",
              "      <td>NaN</td>\n",
              "    </tr>\n",
              "  </tbody>\n",
              "</table>\n",
              "</div>\n",
              "    <div class=\"colab-df-buttons\">\n",
              "\n",
              "  <div class=\"colab-df-container\">\n",
              "    <button class=\"colab-df-convert\" onclick=\"convertToInteractive('df-1128f6ec-8bd7-499e-9c7a-b54bf2ec883d')\"\n",
              "            title=\"Convert this dataframe to an interactive table.\"\n",
              "            style=\"display:none;\">\n",
              "\n",
              "  <svg xmlns=\"http://www.w3.org/2000/svg\" height=\"24px\" viewBox=\"0 -960 960 960\">\n",
              "    <path d=\"M120-120v-720h720v720H120Zm60-500h600v-160H180v160Zm220 220h160v-160H400v160Zm0 220h160v-160H400v160ZM180-400h160v-160H180v160Zm440 0h160v-160H620v160ZM180-180h160v-160H180v160Zm440 0h160v-160H620v160Z\"/>\n",
              "  </svg>\n",
              "    </button>\n",
              "\n",
              "  <style>\n",
              "    .colab-df-container {\n",
              "      display:flex;\n",
              "      gap: 12px;\n",
              "    }\n",
              "\n",
              "    .colab-df-convert {\n",
              "      background-color: #E8F0FE;\n",
              "      border: none;\n",
              "      border-radius: 50%;\n",
              "      cursor: pointer;\n",
              "      display: none;\n",
              "      fill: #1967D2;\n",
              "      height: 32px;\n",
              "      padding: 0 0 0 0;\n",
              "      width: 32px;\n",
              "    }\n",
              "\n",
              "    .colab-df-convert:hover {\n",
              "      background-color: #E2EBFA;\n",
              "      box-shadow: 0px 1px 2px rgba(60, 64, 67, 0.3), 0px 1px 3px 1px rgba(60, 64, 67, 0.15);\n",
              "      fill: #174EA6;\n",
              "    }\n",
              "\n",
              "    .colab-df-buttons div {\n",
              "      margin-bottom: 4px;\n",
              "    }\n",
              "\n",
              "    [theme=dark] .colab-df-convert {\n",
              "      background-color: #3B4455;\n",
              "      fill: #D2E3FC;\n",
              "    }\n",
              "\n",
              "    [theme=dark] .colab-df-convert:hover {\n",
              "      background-color: #434B5C;\n",
              "      box-shadow: 0px 1px 3px 1px rgba(0, 0, 0, 0.15);\n",
              "      filter: drop-shadow(0px 1px 2px rgba(0, 0, 0, 0.3));\n",
              "      fill: #FFFFFF;\n",
              "    }\n",
              "  </style>\n",
              "\n",
              "    <script>\n",
              "      const buttonEl =\n",
              "        document.querySelector('#df-1128f6ec-8bd7-499e-9c7a-b54bf2ec883d button.colab-df-convert');\n",
              "      buttonEl.style.display =\n",
              "        google.colab.kernel.accessAllowed ? 'block' : 'none';\n",
              "\n",
              "      async function convertToInteractive(key) {\n",
              "        const element = document.querySelector('#df-1128f6ec-8bd7-499e-9c7a-b54bf2ec883d');\n",
              "        const dataTable =\n",
              "          await google.colab.kernel.invokeFunction('convertToInteractive',\n",
              "                                                    [key], {});\n",
              "        if (!dataTable) return;\n",
              "\n",
              "        const docLinkHtml = 'Like what you see? Visit the ' +\n",
              "          '<a target=\"_blank\" href=https://colab.research.google.com/notebooks/data_table.ipynb>data table notebook</a>'\n",
              "          + ' to learn more about interactive tables.';\n",
              "        element.innerHTML = '';\n",
              "        dataTable['output_type'] = 'display_data';\n",
              "        await google.colab.output.renderOutput(dataTable, element);\n",
              "        const docLink = document.createElement('div');\n",
              "        docLink.innerHTML = docLinkHtml;\n",
              "        element.appendChild(docLink);\n",
              "      }\n",
              "    </script>\n",
              "  </div>\n",
              "\n",
              "\n",
              "<div id=\"df-d9b6f40f-be78-4c02-b222-d49ef9d8f952\">\n",
              "  <button class=\"colab-df-quickchart\" onclick=\"quickchart('df-d9b6f40f-be78-4c02-b222-d49ef9d8f952')\"\n",
              "            title=\"Suggest charts\"\n",
              "            style=\"display:none;\">\n",
              "\n",
              "<svg xmlns=\"http://www.w3.org/2000/svg\" height=\"24px\"viewBox=\"0 0 24 24\"\n",
              "     width=\"24px\">\n",
              "    <g>\n",
              "        <path d=\"M19 3H5c-1.1 0-2 .9-2 2v14c0 1.1.9 2 2 2h14c1.1 0 2-.9 2-2V5c0-1.1-.9-2-2-2zM9 17H7v-7h2v7zm4 0h-2V7h2v10zm4 0h-2v-4h2v4z\"/>\n",
              "    </g>\n",
              "</svg>\n",
              "  </button>\n",
              "\n",
              "<style>\n",
              "  .colab-df-quickchart {\n",
              "      --bg-color: #E8F0FE;\n",
              "      --fill-color: #1967D2;\n",
              "      --hover-bg-color: #E2EBFA;\n",
              "      --hover-fill-color: #174EA6;\n",
              "      --disabled-fill-color: #AAA;\n",
              "      --disabled-bg-color: #DDD;\n",
              "  }\n",
              "\n",
              "  [theme=dark] .colab-df-quickchart {\n",
              "      --bg-color: #3B4455;\n",
              "      --fill-color: #D2E3FC;\n",
              "      --hover-bg-color: #434B5C;\n",
              "      --hover-fill-color: #FFFFFF;\n",
              "      --disabled-bg-color: #3B4455;\n",
              "      --disabled-fill-color: #666;\n",
              "  }\n",
              "\n",
              "  .colab-df-quickchart {\n",
              "    background-color: var(--bg-color);\n",
              "    border: none;\n",
              "    border-radius: 50%;\n",
              "    cursor: pointer;\n",
              "    display: none;\n",
              "    fill: var(--fill-color);\n",
              "    height: 32px;\n",
              "    padding: 0;\n",
              "    width: 32px;\n",
              "  }\n",
              "\n",
              "  .colab-df-quickchart:hover {\n",
              "    background-color: var(--hover-bg-color);\n",
              "    box-shadow: 0 1px 2px rgba(60, 64, 67, 0.3), 0 1px 3px 1px rgba(60, 64, 67, 0.15);\n",
              "    fill: var(--button-hover-fill-color);\n",
              "  }\n",
              "\n",
              "  .colab-df-quickchart-complete:disabled,\n",
              "  .colab-df-quickchart-complete:disabled:hover {\n",
              "    background-color: var(--disabled-bg-color);\n",
              "    fill: var(--disabled-fill-color);\n",
              "    box-shadow: none;\n",
              "  }\n",
              "\n",
              "  .colab-df-spinner {\n",
              "    border: 2px solid var(--fill-color);\n",
              "    border-color: transparent;\n",
              "    border-bottom-color: var(--fill-color);\n",
              "    animation:\n",
              "      spin 1s steps(1) infinite;\n",
              "  }\n",
              "\n",
              "  @keyframes spin {\n",
              "    0% {\n",
              "      border-color: transparent;\n",
              "      border-bottom-color: var(--fill-color);\n",
              "      border-left-color: var(--fill-color);\n",
              "    }\n",
              "    20% {\n",
              "      border-color: transparent;\n",
              "      border-left-color: var(--fill-color);\n",
              "      border-top-color: var(--fill-color);\n",
              "    }\n",
              "    30% {\n",
              "      border-color: transparent;\n",
              "      border-left-color: var(--fill-color);\n",
              "      border-top-color: var(--fill-color);\n",
              "      border-right-color: var(--fill-color);\n",
              "    }\n",
              "    40% {\n",
              "      border-color: transparent;\n",
              "      border-right-color: var(--fill-color);\n",
              "      border-top-color: var(--fill-color);\n",
              "    }\n",
              "    60% {\n",
              "      border-color: transparent;\n",
              "      border-right-color: var(--fill-color);\n",
              "    }\n",
              "    80% {\n",
              "      border-color: transparent;\n",
              "      border-right-color: var(--fill-color);\n",
              "      border-bottom-color: var(--fill-color);\n",
              "    }\n",
              "    90% {\n",
              "      border-color: transparent;\n",
              "      border-bottom-color: var(--fill-color);\n",
              "    }\n",
              "  }\n",
              "</style>\n",
              "\n",
              "  <script>\n",
              "    async function quickchart(key) {\n",
              "      const quickchartButtonEl =\n",
              "        document.querySelector('#' + key + ' button');\n",
              "      quickchartButtonEl.disabled = true;  // To prevent multiple clicks.\n",
              "      quickchartButtonEl.classList.add('colab-df-spinner');\n",
              "      try {\n",
              "        const charts = await google.colab.kernel.invokeFunction(\n",
              "            'suggestCharts', [key], {});\n",
              "      } catch (error) {\n",
              "        console.error('Error during call to suggestCharts:', error);\n",
              "      }\n",
              "      quickchartButtonEl.classList.remove('colab-df-spinner');\n",
              "      quickchartButtonEl.classList.add('colab-df-quickchart-complete');\n",
              "    }\n",
              "    (() => {\n",
              "      let quickchartButtonEl =\n",
              "        document.querySelector('#df-d9b6f40f-be78-4c02-b222-d49ef9d8f952 button');\n",
              "      quickchartButtonEl.style.display =\n",
              "        google.colab.kernel.accessAllowed ? 'block' : 'none';\n",
              "    })();\n",
              "  </script>\n",
              "</div>\n",
              "\n",
              "    </div>\n",
              "  </div>\n"
            ],
            "application/vnd.google.colaboratory.intrinsic+json": {
              "type": "dataframe",
              "variable_name": "df_relative_servers_long",
              "summary": "{\n  \"name\": \"df_relative_servers_long\",\n  \"rows\": 17024,\n  \"fields\": [\n    {\n      \"column\": \"Country Name\",\n      \"properties\": {\n        \"dtype\": \"category\",\n        \"num_unique_values\": 266,\n        \"samples\": [\n          \"OECD members\",\n          \"Japan\",\n          \"Lower middle income\"\n        ],\n        \"semantic_type\": \"\",\n        \"description\": \"\"\n      }\n    },\n    {\n      \"column\": \"Country Code\",\n      \"properties\": {\n        \"dtype\": \"category\",\n        \"num_unique_values\": 266,\n        \"samples\": [\n          \"OED\",\n          \"JPN\",\n          \"LMC\"\n        ],\n        \"semantic_type\": \"\",\n        \"description\": \"\"\n      }\n    },\n    {\n      \"column\": \"Indicator Name\",\n      \"properties\": {\n        \"dtype\": \"category\",\n        \"num_unique_values\": 1,\n        \"samples\": [\n          \"Secure Internet servers (per 1 million people)\"\n        ],\n        \"semantic_type\": \"\",\n        \"description\": \"\"\n      }\n    },\n    {\n      \"column\": \"Indicator Code\",\n      \"properties\": {\n        \"dtype\": \"category\",\n        \"num_unique_values\": 1,\n        \"samples\": [\n          \"IT.NET.SECR.P6\"\n        ],\n        \"semantic_type\": \"\",\n        \"description\": \"\"\n      }\n    },\n    {\n      \"column\": \"Year\",\n      \"properties\": {\n        \"dtype\": \"number\",\n        \"std\": 18,\n        \"min\": 1960,\n        \"max\": 2023,\n        \"num_unique_values\": 64,\n        \"samples\": [\n          2012\n        ],\n        \"semantic_type\": \"\",\n        \"description\": \"\"\n      }\n    },\n    {\n      \"column\": \"Secure Internet servers (per 1 million people)\",\n      \"properties\": {\n        \"dtype\": \"number\",\n        \"std\": 75396.89351338152,\n        \"min\": 0.0,\n        \"max\": 3262663.430674078,\n        \"num_unique_values\": 3585,\n        \"samples\": [\n          51197.18982366616\n        ],\n        \"semantic_type\": \"\",\n        \"description\": \"\"\n      }\n    }\n  ]\n}"
            }
          },
          "metadata": {},
          "execution_count": 26
        }
      ]
    },
    {
      "cell_type": "code",
      "source": [
        "# Keep only the relevant columns\n",
        "df_internet_users_long = df_internet_users_long[[\"Country Code\", \"Year\", \"Internet_Usage\"]]\n",
        "df_internet_users_long.rename(columns={\"Country Code\": \"Iso3_code\"}, inplace=True)"
      ],
      "metadata": {
        "colab": {
          "base_uri": "https://localhost:8080/",
          "height": 0
        },
        "id": "Oday-NN-ELny",
        "outputId": "484ca855-ac01-46af-fdb2-ea7810a19acb"
      },
      "execution_count": 27,
      "outputs": [
        {
          "output_type": "stream",
          "name": "stderr",
          "text": [
            "<ipython-input-27-74a7411107cb>:3: SettingWithCopyWarning: \n",
            "A value is trying to be set on a copy of a slice from a DataFrame\n",
            "\n",
            "See the caveats in the documentation: https://pandas.pydata.org/pandas-docs/stable/user_guide/indexing.html#returning-a-view-versus-a-copy\n",
            "  df_internet_users_long.rename(columns={\"Country Code\": \"Iso3_code\"}, inplace=True)\n"
          ]
        }
      ]
    },
    {
      "cell_type": "code",
      "source": [
        "# Keep only the relevant columns\n",
        "df_relative_servers_long = df_relative_servers_long[[\"Country Code\", \"Year\", \"Secure Internet servers (per 1 million people)\"]]\n",
        "df_relative_servers_long.rename(columns={\"Country Code\": \"Iso3_code\"}, inplace=True)"
      ],
      "metadata": {
        "colab": {
          "base_uri": "https://localhost:8080/",
          "height": 0
        },
        "id": "gaaNprltHenx",
        "outputId": "d1c4b7cd-beaa-4c70-e457-1092014b0333"
      },
      "execution_count": 28,
      "outputs": [
        {
          "output_type": "stream",
          "name": "stderr",
          "text": [
            "<ipython-input-28-407aafa78533>:3: SettingWithCopyWarning: \n",
            "A value is trying to be set on a copy of a slice from a DataFrame\n",
            "\n",
            "See the caveats in the documentation: https://pandas.pydata.org/pandas-docs/stable/user_guide/indexing.html#returning-a-view-versus-a-copy\n",
            "  df_relative_servers_long.rename(columns={\"Country Code\": \"Iso3_code\"}, inplace=True)\n"
          ]
        }
      ]
    },
    {
      "cell_type": "code",
      "source": [
        "# Keep only the relevant columns\n",
        "df_absolute_servers_long = df_absolute_servers_long[[\"Country Code\", \"Year\", \"Secure Internet servers\"]]\n",
        "df_absolute_servers_long.rename(columns={\"Country Code\": \"Iso3_code\"}, inplace=True)"
      ],
      "metadata": {
        "colab": {
          "base_uri": "https://localhost:8080/",
          "height": 0
        },
        "id": "PQQtamkqHey_",
        "outputId": "eab59e02-7518-4210-dc40-8cf2953508e6"
      },
      "execution_count": 29,
      "outputs": [
        {
          "output_type": "stream",
          "name": "stderr",
          "text": [
            "<ipython-input-29-50d3d46a7212>:3: SettingWithCopyWarning: \n",
            "A value is trying to be set on a copy of a slice from a DataFrame\n",
            "\n",
            "See the caveats in the documentation: https://pandas.pydata.org/pandas-docs/stable/user_guide/indexing.html#returning-a-view-versus-a-copy\n",
            "  df_absolute_servers_long.rename(columns={\"Country Code\": \"Iso3_code\"}, inplace=True)\n"
          ]
        }
      ]
    },
    {
      "cell_type": "code",
      "source": [
        "# Check new column names\n",
        "print(df_internet_users_long.columns)\n",
        "print(df_absolute_servers_long.columns)\n",
        "print(df_relative_servers_long.columns)"
      ],
      "metadata": {
        "colab": {
          "base_uri": "https://localhost:8080/",
          "height": 0
        },
        "id": "1H5THCTwELsR",
        "outputId": "91211634-a9fb-4325-82ee-dfba4108e10e"
      },
      "execution_count": 30,
      "outputs": [
        {
          "output_type": "stream",
          "name": "stdout",
          "text": [
            "Index(['Iso3_code', 'Year', 'Internet_Usage'], dtype='object')\n",
            "Index(['Iso3_code', 'Year', 'Secure Internet servers'], dtype='object')\n",
            "Index(['Iso3_code', 'Year', 'Secure Internet servers (per 1 million people)'], dtype='object')\n"
          ]
        }
      ]
    },
    {
      "cell_type": "markdown",
      "source": [
        "# Merge datasets\n"
      ],
      "metadata": {
        "id": "dw71Ygk8KGSh"
      }
    },
    {
      "cell_type": "code",
      "source": [
        "# Start with your cleaned cybercrime dataset\n",
        "df_final = df_cyber_cleaned.copy()"
      ],
      "metadata": {
        "id": "UCAJWyaCGIor"
      },
      "execution_count": 31,
      "outputs": []
    },
    {
      "cell_type": "code",
      "source": [
        "# Merge in internet usage\n",
        "df_final = pd.merge(df_final, df_internet_users_long, on=[\"Iso3_code\", \"Year\"], how=\"left\")\n",
        "\n",
        "# Merge in absolute secure server count\n",
        "df_final = pd.merge(df_final, df_absolute_servers_long, on=[\"Iso3_code\", \"Year\"], how=\"left\")\n",
        "\n",
        "# Merge in secure servers per million\n",
        "df_final = pd.merge(df_final, df_relative_servers_long, on=[\"Iso3_code\", \"Year\"], how=\"left\")"
      ],
      "metadata": {
        "id": "yJ-OFwHLGIs3"
      },
      "execution_count": 32,
      "outputs": []
    },
    {
      "cell_type": "code",
      "source": [
        "df_final.columns"
      ],
      "metadata": {
        "colab": {
          "base_uri": "https://localhost:8080/",
          "height": 0
        },
        "id": "o3ShBNd2GIwi",
        "outputId": "7fe197f8-d094-4fd3-b94a-baf55369a7fc"
      },
      "execution_count": 33,
      "outputs": [
        {
          "output_type": "execute_result",
          "data": {
            "text/plain": [
              "Index(['Iso3_code', 'Country', 'Region', 'Subregion', 'Category', 'Year',\n",
              "       'Unit', 'Value', 'Source', 'Internet_Usage', 'Secure Internet servers',\n",
              "       'Secure Internet servers (per 1 million people)'],\n",
              "      dtype='object')"
            ]
          },
          "metadata": {},
          "execution_count": 33
        }
      ]
    },
    {
      "cell_type": "code",
      "source": [
        "df_final.head(3)"
      ],
      "metadata": {
        "colab": {
          "base_uri": "https://localhost:8080/",
          "height": 143
        },
        "id": "ePocriNoGI0G",
        "outputId": "ac3f01d7-a3e5-4018-aed2-e7f7fffb4ea5"
      },
      "execution_count": 34,
      "outputs": [
        {
          "output_type": "execute_result",
          "data": {
            "text/plain": [
              "  Iso3_code  Country    Region         Subregion                   Category  \\\n",
              "0       ARM  Armenia      Asia      Western Asia  Fraud: Cyber-related (Cy)   \n",
              "1       AUT  Austria    Europe    Western Europe  Fraud: Cyber-related (Cy)   \n",
              "2       CAN   Canada  Americas  Northern America  Fraud: Cyber-related (Cy)   \n",
              "\n",
              "   Year    Unit   Value Source  Internet_Usage  Secure Internet servers  \\\n",
              "0  2013  Counts    35.0    CTS         41.9000                    158.0   \n",
              "1  2013  Counts  7667.0    CTS         80.6188                  15751.0   \n",
              "2  2013  Counts  6914.0    CTS         85.8000                  82897.0   \n",
              "\n",
              "   Secure Internet servers (per 1 million people)  \n",
              "0                                       52.283256  \n",
              "1                                     1857.468016  \n",
              "2                                     2363.017557  "
            ],
            "text/html": [
              "\n",
              "  <div id=\"df-e3f8a7cd-4e9c-40a9-9c90-2cce3e3f6a81\" class=\"colab-df-container\">\n",
              "    <div>\n",
              "<style scoped>\n",
              "    .dataframe tbody tr th:only-of-type {\n",
              "        vertical-align: middle;\n",
              "    }\n",
              "\n",
              "    .dataframe tbody tr th {\n",
              "        vertical-align: top;\n",
              "    }\n",
              "\n",
              "    .dataframe thead th {\n",
              "        text-align: right;\n",
              "    }\n",
              "</style>\n",
              "<table border=\"1\" class=\"dataframe\">\n",
              "  <thead>\n",
              "    <tr style=\"text-align: right;\">\n",
              "      <th></th>\n",
              "      <th>Iso3_code</th>\n",
              "      <th>Country</th>\n",
              "      <th>Region</th>\n",
              "      <th>Subregion</th>\n",
              "      <th>Category</th>\n",
              "      <th>Year</th>\n",
              "      <th>Unit</th>\n",
              "      <th>Value</th>\n",
              "      <th>Source</th>\n",
              "      <th>Internet_Usage</th>\n",
              "      <th>Secure Internet servers</th>\n",
              "      <th>Secure Internet servers (per 1 million people)</th>\n",
              "    </tr>\n",
              "  </thead>\n",
              "  <tbody>\n",
              "    <tr>\n",
              "      <th>0</th>\n",
              "      <td>ARM</td>\n",
              "      <td>Armenia</td>\n",
              "      <td>Asia</td>\n",
              "      <td>Western Asia</td>\n",
              "      <td>Fraud: Cyber-related (Cy)</td>\n",
              "      <td>2013</td>\n",
              "      <td>Counts</td>\n",
              "      <td>35.0</td>\n",
              "      <td>CTS</td>\n",
              "      <td>41.9000</td>\n",
              "      <td>158.0</td>\n",
              "      <td>52.283256</td>\n",
              "    </tr>\n",
              "    <tr>\n",
              "      <th>1</th>\n",
              "      <td>AUT</td>\n",
              "      <td>Austria</td>\n",
              "      <td>Europe</td>\n",
              "      <td>Western Europe</td>\n",
              "      <td>Fraud: Cyber-related (Cy)</td>\n",
              "      <td>2013</td>\n",
              "      <td>Counts</td>\n",
              "      <td>7667.0</td>\n",
              "      <td>CTS</td>\n",
              "      <td>80.6188</td>\n",
              "      <td>15751.0</td>\n",
              "      <td>1857.468016</td>\n",
              "    </tr>\n",
              "    <tr>\n",
              "      <th>2</th>\n",
              "      <td>CAN</td>\n",
              "      <td>Canada</td>\n",
              "      <td>Americas</td>\n",
              "      <td>Northern America</td>\n",
              "      <td>Fraud: Cyber-related (Cy)</td>\n",
              "      <td>2013</td>\n",
              "      <td>Counts</td>\n",
              "      <td>6914.0</td>\n",
              "      <td>CTS</td>\n",
              "      <td>85.8000</td>\n",
              "      <td>82897.0</td>\n",
              "      <td>2363.017557</td>\n",
              "    </tr>\n",
              "  </tbody>\n",
              "</table>\n",
              "</div>\n",
              "    <div class=\"colab-df-buttons\">\n",
              "\n",
              "  <div class=\"colab-df-container\">\n",
              "    <button class=\"colab-df-convert\" onclick=\"convertToInteractive('df-e3f8a7cd-4e9c-40a9-9c90-2cce3e3f6a81')\"\n",
              "            title=\"Convert this dataframe to an interactive table.\"\n",
              "            style=\"display:none;\">\n",
              "\n",
              "  <svg xmlns=\"http://www.w3.org/2000/svg\" height=\"24px\" viewBox=\"0 -960 960 960\">\n",
              "    <path d=\"M120-120v-720h720v720H120Zm60-500h600v-160H180v160Zm220 220h160v-160H400v160Zm0 220h160v-160H400v160ZM180-400h160v-160H180v160Zm440 0h160v-160H620v160ZM180-180h160v-160H180v160Zm440 0h160v-160H620v160Z\"/>\n",
              "  </svg>\n",
              "    </button>\n",
              "\n",
              "  <style>\n",
              "    .colab-df-container {\n",
              "      display:flex;\n",
              "      gap: 12px;\n",
              "    }\n",
              "\n",
              "    .colab-df-convert {\n",
              "      background-color: #E8F0FE;\n",
              "      border: none;\n",
              "      border-radius: 50%;\n",
              "      cursor: pointer;\n",
              "      display: none;\n",
              "      fill: #1967D2;\n",
              "      height: 32px;\n",
              "      padding: 0 0 0 0;\n",
              "      width: 32px;\n",
              "    }\n",
              "\n",
              "    .colab-df-convert:hover {\n",
              "      background-color: #E2EBFA;\n",
              "      box-shadow: 0px 1px 2px rgba(60, 64, 67, 0.3), 0px 1px 3px 1px rgba(60, 64, 67, 0.15);\n",
              "      fill: #174EA6;\n",
              "    }\n",
              "\n",
              "    .colab-df-buttons div {\n",
              "      margin-bottom: 4px;\n",
              "    }\n",
              "\n",
              "    [theme=dark] .colab-df-convert {\n",
              "      background-color: #3B4455;\n",
              "      fill: #D2E3FC;\n",
              "    }\n",
              "\n",
              "    [theme=dark] .colab-df-convert:hover {\n",
              "      background-color: #434B5C;\n",
              "      box-shadow: 0px 1px 3px 1px rgba(0, 0, 0, 0.15);\n",
              "      filter: drop-shadow(0px 1px 2px rgba(0, 0, 0, 0.3));\n",
              "      fill: #FFFFFF;\n",
              "    }\n",
              "  </style>\n",
              "\n",
              "    <script>\n",
              "      const buttonEl =\n",
              "        document.querySelector('#df-e3f8a7cd-4e9c-40a9-9c90-2cce3e3f6a81 button.colab-df-convert');\n",
              "      buttonEl.style.display =\n",
              "        google.colab.kernel.accessAllowed ? 'block' : 'none';\n",
              "\n",
              "      async function convertToInteractive(key) {\n",
              "        const element = document.querySelector('#df-e3f8a7cd-4e9c-40a9-9c90-2cce3e3f6a81');\n",
              "        const dataTable =\n",
              "          await google.colab.kernel.invokeFunction('convertToInteractive',\n",
              "                                                    [key], {});\n",
              "        if (!dataTable) return;\n",
              "\n",
              "        const docLinkHtml = 'Like what you see? Visit the ' +\n",
              "          '<a target=\"_blank\" href=https://colab.research.google.com/notebooks/data_table.ipynb>data table notebook</a>'\n",
              "          + ' to learn more about interactive tables.';\n",
              "        element.innerHTML = '';\n",
              "        dataTable['output_type'] = 'display_data';\n",
              "        await google.colab.output.renderOutput(dataTable, element);\n",
              "        const docLink = document.createElement('div');\n",
              "        docLink.innerHTML = docLinkHtml;\n",
              "        element.appendChild(docLink);\n",
              "      }\n",
              "    </script>\n",
              "  </div>\n",
              "\n",
              "\n",
              "<div id=\"df-540a3200-4d9f-4ac0-aa96-d8fb9244f2ed\">\n",
              "  <button class=\"colab-df-quickchart\" onclick=\"quickchart('df-540a3200-4d9f-4ac0-aa96-d8fb9244f2ed')\"\n",
              "            title=\"Suggest charts\"\n",
              "            style=\"display:none;\">\n",
              "\n",
              "<svg xmlns=\"http://www.w3.org/2000/svg\" height=\"24px\"viewBox=\"0 0 24 24\"\n",
              "     width=\"24px\">\n",
              "    <g>\n",
              "        <path d=\"M19 3H5c-1.1 0-2 .9-2 2v14c0 1.1.9 2 2 2h14c1.1 0 2-.9 2-2V5c0-1.1-.9-2-2-2zM9 17H7v-7h2v7zm4 0h-2V7h2v10zm4 0h-2v-4h2v4z\"/>\n",
              "    </g>\n",
              "</svg>\n",
              "  </button>\n",
              "\n",
              "<style>\n",
              "  .colab-df-quickchart {\n",
              "      --bg-color: #E8F0FE;\n",
              "      --fill-color: #1967D2;\n",
              "      --hover-bg-color: #E2EBFA;\n",
              "      --hover-fill-color: #174EA6;\n",
              "      --disabled-fill-color: #AAA;\n",
              "      --disabled-bg-color: #DDD;\n",
              "  }\n",
              "\n",
              "  [theme=dark] .colab-df-quickchart {\n",
              "      --bg-color: #3B4455;\n",
              "      --fill-color: #D2E3FC;\n",
              "      --hover-bg-color: #434B5C;\n",
              "      --hover-fill-color: #FFFFFF;\n",
              "      --disabled-bg-color: #3B4455;\n",
              "      --disabled-fill-color: #666;\n",
              "  }\n",
              "\n",
              "  .colab-df-quickchart {\n",
              "    background-color: var(--bg-color);\n",
              "    border: none;\n",
              "    border-radius: 50%;\n",
              "    cursor: pointer;\n",
              "    display: none;\n",
              "    fill: var(--fill-color);\n",
              "    height: 32px;\n",
              "    padding: 0;\n",
              "    width: 32px;\n",
              "  }\n",
              "\n",
              "  .colab-df-quickchart:hover {\n",
              "    background-color: var(--hover-bg-color);\n",
              "    box-shadow: 0 1px 2px rgba(60, 64, 67, 0.3), 0 1px 3px 1px rgba(60, 64, 67, 0.15);\n",
              "    fill: var(--button-hover-fill-color);\n",
              "  }\n",
              "\n",
              "  .colab-df-quickchart-complete:disabled,\n",
              "  .colab-df-quickchart-complete:disabled:hover {\n",
              "    background-color: var(--disabled-bg-color);\n",
              "    fill: var(--disabled-fill-color);\n",
              "    box-shadow: none;\n",
              "  }\n",
              "\n",
              "  .colab-df-spinner {\n",
              "    border: 2px solid var(--fill-color);\n",
              "    border-color: transparent;\n",
              "    border-bottom-color: var(--fill-color);\n",
              "    animation:\n",
              "      spin 1s steps(1) infinite;\n",
              "  }\n",
              "\n",
              "  @keyframes spin {\n",
              "    0% {\n",
              "      border-color: transparent;\n",
              "      border-bottom-color: var(--fill-color);\n",
              "      border-left-color: var(--fill-color);\n",
              "    }\n",
              "    20% {\n",
              "      border-color: transparent;\n",
              "      border-left-color: var(--fill-color);\n",
              "      border-top-color: var(--fill-color);\n",
              "    }\n",
              "    30% {\n",
              "      border-color: transparent;\n",
              "      border-left-color: var(--fill-color);\n",
              "      border-top-color: var(--fill-color);\n",
              "      border-right-color: var(--fill-color);\n",
              "    }\n",
              "    40% {\n",
              "      border-color: transparent;\n",
              "      border-right-color: var(--fill-color);\n",
              "      border-top-color: var(--fill-color);\n",
              "    }\n",
              "    60% {\n",
              "      border-color: transparent;\n",
              "      border-right-color: var(--fill-color);\n",
              "    }\n",
              "    80% {\n",
              "      border-color: transparent;\n",
              "      border-right-color: var(--fill-color);\n",
              "      border-bottom-color: var(--fill-color);\n",
              "    }\n",
              "    90% {\n",
              "      border-color: transparent;\n",
              "      border-bottom-color: var(--fill-color);\n",
              "    }\n",
              "  }\n",
              "</style>\n",
              "\n",
              "  <script>\n",
              "    async function quickchart(key) {\n",
              "      const quickchartButtonEl =\n",
              "        document.querySelector('#' + key + ' button');\n",
              "      quickchartButtonEl.disabled = true;  // To prevent multiple clicks.\n",
              "      quickchartButtonEl.classList.add('colab-df-spinner');\n",
              "      try {\n",
              "        const charts = await google.colab.kernel.invokeFunction(\n",
              "            'suggestCharts', [key], {});\n",
              "      } catch (error) {\n",
              "        console.error('Error during call to suggestCharts:', error);\n",
              "      }\n",
              "      quickchartButtonEl.classList.remove('colab-df-spinner');\n",
              "      quickchartButtonEl.classList.add('colab-df-quickchart-complete');\n",
              "    }\n",
              "    (() => {\n",
              "      let quickchartButtonEl =\n",
              "        document.querySelector('#df-540a3200-4d9f-4ac0-aa96-d8fb9244f2ed button');\n",
              "      quickchartButtonEl.style.display =\n",
              "        google.colab.kernel.accessAllowed ? 'block' : 'none';\n",
              "    })();\n",
              "  </script>\n",
              "</div>\n",
              "\n",
              "    </div>\n",
              "  </div>\n"
            ],
            "application/vnd.google.colaboratory.intrinsic+json": {
              "type": "dataframe",
              "variable_name": "df_final",
              "summary": "{\n  \"name\": \"df_final\",\n  \"rows\": 2426,\n  \"fields\": [\n    {\n      \"column\": \"Iso3_code\",\n      \"properties\": {\n        \"dtype\": \"category\",\n        \"num_unique_values\": 93,\n        \"samples\": [\n          \"PRI\",\n          \"ATG\",\n          \"GBR_S\"\n        ],\n        \"semantic_type\": \"\",\n        \"description\": \"\"\n      }\n    },\n    {\n      \"column\": \"Country\",\n      \"properties\": {\n        \"dtype\": \"category\",\n        \"num_unique_values\": 93,\n        \"samples\": [\n          \"Puerto Rico\",\n          \"Antigua and Barbuda\",\n          \"United Kingdom (Scotland)\"\n        ],\n        \"semantic_type\": \"\",\n        \"description\": \"\"\n      }\n    },\n    {\n      \"column\": \"Region\",\n      \"properties\": {\n        \"dtype\": \"category\",\n        \"num_unique_values\": 4,\n        \"samples\": [\n          \"Europe\",\n          \"Africa\",\n          \"Asia\"\n        ],\n        \"semantic_type\": \"\",\n        \"description\": \"\"\n      }\n    },\n    {\n      \"column\": \"Subregion\",\n      \"properties\": {\n        \"dtype\": \"category\",\n        \"num_unique_values\": 13,\n        \"samples\": [\n          \"Southern Asia\",\n          \"Sub-Saharan Africa\",\n          \"Western Asia\"\n        ],\n        \"semantic_type\": \"\",\n        \"description\": \"\"\n      }\n    },\n    {\n      \"column\": \"Category\",\n      \"properties\": {\n        \"dtype\": \"category\",\n        \"num_unique_values\": 4,\n        \"samples\": [\n          \"Unlawful access to a computer system\",\n          \"Unlawful interception or access of computer data\",\n          \"Fraud: Cyber-related (Cy)\"\n        ],\n        \"semantic_type\": \"\",\n        \"description\": \"\"\n      }\n    },\n    {\n      \"column\": \"Year\",\n      \"properties\": {\n        \"dtype\": \"number\",\n        \"std\": 2,\n        \"min\": 2013,\n        \"max\": 2022,\n        \"num_unique_values\": 10,\n        \"samples\": [\n          2021,\n          2014,\n          2018\n        ],\n        \"semantic_type\": \"\",\n        \"description\": \"\"\n      }\n    },\n    {\n      \"column\": \"Unit\",\n      \"properties\": {\n        \"dtype\": \"category\",\n        \"num_unique_values\": 2,\n        \"samples\": [\n          \"Rate per 100,000 population\",\n          \"Counts\"\n        ],\n        \"semantic_type\": \"\",\n        \"description\": \"\"\n      }\n    },\n    {\n      \"column\": \"Value\",\n      \"properties\": {\n        \"dtype\": \"number\",\n        \"std\": 18430.23068808235,\n        \"min\": 0.0,\n        \"max\": 255717.0,\n        \"num_unique_values\": 1628,\n        \"samples\": [\n          3.91887221982736,\n          3.51814951096436\n        ],\n        \"semantic_type\": \"\",\n        \"description\": \"\"\n      }\n    },\n    {\n      \"column\": \"Source\",\n      \"properties\": {\n        \"dtype\": \"category\",\n        \"num_unique_values\": 5,\n        \"samples\": [\n          \"CTS/NGO\",\n          \"MoI\"\n        ],\n        \"semantic_type\": \"\",\n        \"description\": \"\"\n      }\n    },\n    {\n      \"column\": \"Internet_Usage\",\n      \"properties\": {\n        \"dtype\": \"number\",\n        \"std\": 14.324665688871372,\n        \"min\": 5.9,\n        \"max\": 100.0,\n        \"num_unique_values\": 500,\n        \"samples\": [\n          89.1347,\n          72.2\n        ],\n        \"semantic_type\": \"\",\n        \"description\": \"\"\n      }\n    },\n    {\n      \"column\": \"Secure Internet servers\",\n      \"properties\": {\n        \"dtype\": \"number\",\n        \"std\": 982617.516248276,\n        \"min\": 10.0,\n        \"max\": 10553940.0,\n        \"num_unique_values\": 505,\n        \"samples\": [\n          749930.0,\n          1185347.0\n        ],\n        \"semantic_type\": \"\",\n        \"description\": \"\"\n      }\n    },\n    {\n      \"column\": \"Secure Internet servers (per 1 million people)\",\n      \"properties\": {\n        \"dtype\": \"number\",\n        \"std\": 38234.49375998453,\n        \"min\": 3.9037258155879924,\n        \"max\": 342412.9634273824,\n        \"num_unique_values\": 514,\n        \"samples\": [\n          4776.582141424025,\n          71.5299693240418\n        ],\n        \"semantic_type\": \"\",\n        \"description\": \"\"\n      }\n    }\n  ]\n}"
            }
          },
          "metadata": {},
          "execution_count": 34
        }
      ]
    },
    {
      "cell_type": "code",
      "source": [
        "summary_final = pd.DataFrame({\n",
        "    'Data Type': df_final.dtypes,\n",
        "    'Missing Values': df_final.isnull().sum(),\n",
        "    'Unique Values': df_final.nunique(),\n",
        "})\n",
        "print(\"=== COLUMN SUMMARY ===\")\n",
        "print(summary_final)"
      ],
      "metadata": {
        "colab": {
          "base_uri": "https://localhost:8080/",
          "height": 0
        },
        "id": "v22xtLHUGI7p",
        "outputId": "d1099167-98d5-461a-c267-b8fac1d399ac"
      },
      "execution_count": 35,
      "outputs": [
        {
          "output_type": "stream",
          "name": "stdout",
          "text": [
            "=== COLUMN SUMMARY ===\n",
            "                                               Data Type  Missing Values  \\\n",
            "Iso3_code                                         object               0   \n",
            "Country                                           object               0   \n",
            "Region                                            object               0   \n",
            "Subregion                                         object               0   \n",
            "Category                                          object               0   \n",
            "Year                                               int64               0   \n",
            "Unit                                              object               0   \n",
            "Value                                            float64               0   \n",
            "Source                                            object               0   \n",
            "Internet_Usage                                   float64              80   \n",
            "Secure Internet servers                          float64              80   \n",
            "Secure Internet servers (per 1 million people)   float64              80   \n",
            "\n",
            "                                                Unique Values  \n",
            "Iso3_code                                                  93  \n",
            "Country                                                    93  \n",
            "Region                                                      4  \n",
            "Subregion                                                  13  \n",
            "Category                                                    4  \n",
            "Year                                                       10  \n",
            "Unit                                                        2  \n",
            "Value                                                    1628  \n",
            "Source                                                      5  \n",
            "Internet_Usage                                            500  \n",
            "Secure Internet servers                                   505  \n",
            "Secure Internet servers (per 1 million people)            514  \n"
          ]
        }
      ]
    },
    {
      "cell_type": "code",
      "source": [
        "wb_cols = [\n",
        "    \"Internet_Usage\",\n",
        "    \"Secure Internet servers\",\n",
        "    \"Secure Internet servers (per 1 million people)\"\n",
        "]\n",
        "\n",
        "# Filter rows with any missing World Bank data\n",
        "missing_wb_data = df_final[df_final[wb_cols].isnull().any(axis=1)]\n",
        "\n",
        "# List of affected countries\n",
        "countries_with_missing = missing_wb_data[\"Country\"].unique()\n",
        "\n",
        "# Show the list\n",
        "print(\"Countries with missing World Bank data:\")\n",
        "print(countries_with_missing)"
      ],
      "metadata": {
        "colab": {
          "base_uri": "https://localhost:8080/",
          "height": 0
        },
        "id": "TOfYmov4LUw2",
        "outputId": "84aee96b-ba3a-4d52-afd7-8032347ca01b"
      },
      "execution_count": 36,
      "outputs": [
        {
          "output_type": "stream",
          "name": "stdout",
          "text": [
            "Countries with missing World Bank data:\n",
            "['Kosovo under UNSCR 1244' 'United Kingdom (England and Wales)' 'Dominica'\n",
            " 'United Kingdom (Scotland)' 'Holy See']\n"
          ]
        }
      ]
    },
    {
      "cell_type": "code",
      "source": [
        "# Check how many missing values exist per year\n",
        "missing_by_year = df_final[df_final[wb_cols].isnull().any(axis=1)][\"Year\"].value_counts().sort_index()\n",
        "\n",
        "print(\"Missing values by year:\")\n",
        "print(missing_by_year)"
      ],
      "metadata": {
        "colab": {
          "base_uri": "https://localhost:8080/",
          "height": 0
        },
        "id": "iDtJlkKiLVLm",
        "outputId": "4084c6d6-7692-4453-a720-2fe997505027"
      },
      "execution_count": 37,
      "outputs": [
        {
          "output_type": "stream",
          "name": "stdout",
          "text": [
            "Missing values by year:\n",
            "Year\n",
            "2013     2\n",
            "2014    12\n",
            "2015    14\n",
            "2016    14\n",
            "2017    10\n",
            "2018     6\n",
            "2019     6\n",
            "2020     6\n",
            "2021     8\n",
            "2022     4\n",
            "Name: count, dtype: int64\n"
          ]
        }
      ]
    },
    {
      "cell_type": "code",
      "source": [
        "# Filter rows with any missing World Bank data\n",
        "missing_detailed = df_final[df_final[wb_cols].isnull().any(axis=1)]"
      ],
      "metadata": {
        "id": "QuuyJAvvMT-o"
      },
      "execution_count": 38,
      "outputs": []
    },
    {
      "cell_type": "code",
      "source": [
        "pivot_table = missing_detailed.pivot_table(index=\"Country\", columns=\"Year\",\n",
        "                                            values=\"Internet_Usage\", aggfunc=\"size\", fill_value=0)\n",
        "print(pivot_table)"
      ],
      "metadata": {
        "colab": {
          "base_uri": "https://localhost:8080/",
          "height": 0
        },
        "id": "pN34CL1FLVPU",
        "outputId": "f8db3acd-6d8e-441a-eba6-d27c232f47eb"
      },
      "execution_count": 39,
      "outputs": [
        {
          "output_type": "stream",
          "name": "stdout",
          "text": [
            "Year                                2013  2014  2015  2016  2017  2018  2019  \\\n",
            "Country                                                                        \n",
            "Dominica                               0     0     0     0     0     2     0   \n",
            "Holy See                               0     0     0     0     0     0     0   \n",
            "Kosovo under UNSCR 1244                2     4     4     4     2     0     0   \n",
            "United Kingdom (England and Wales)     0     4     6     6     4     0     0   \n",
            "United Kingdom (Scotland)              0     4     4     4     4     4     6   \n",
            "\n",
            "Year                                2020  2021  2022  \n",
            "Country                                               \n",
            "Dominica                               0     0     0  \n",
            "Holy See                               0     2     2  \n",
            "Kosovo under UNSCR 1244                0     0     0  \n",
            "United Kingdom (England and Wales)     0     0     0  \n",
            "United Kingdom (Scotland)              6     6     2  \n"
          ]
        }
      ]
    },
    {
      "cell_type": "code",
      "source": [
        "# Show only Dominica rows where any World Bank data is missing\n",
        "df_final[\n",
        "    (df_final[\"Country\"] == \"Holy See\") &\n",
        "    (df_final[[\n",
        "        \"Internet_Usage\",\n",
        "        \"Secure Internet servers\",\n",
        "        \"Secure Internet servers (per 1 million people)\"\n",
        "    ]].isnull().any(axis=1))\n",
        "]\n"
      ],
      "metadata": {
        "colab": {
          "base_uri": "https://localhost:8080/",
          "height": 261
        },
        "id": "I0F62mpwLVSt",
        "outputId": "8343a363-a7ec-4119-a6e8-bcbad3528df8"
      },
      "execution_count": 40,
      "outputs": [
        {
          "output_type": "execute_result",
          "data": {
            "text/plain": [
              "     Iso3_code   Country  Region        Subregion                   Category  \\\n",
              "307        VAT  Holy See  Europe  Southern Europe  Fraud: Cyber-related (Cy)   \n",
              "352        VAT  Holy See  Europe  Southern Europe  Fraud: Cyber-related (Cy)   \n",
              "1520       VAT  Holy See  Europe  Southern Europe  Fraud: Cyber-related (Cy)   \n",
              "1565       VAT  Holy See  Europe  Southern Europe  Fraud: Cyber-related (Cy)   \n",
              "\n",
              "      Year                         Unit  Value Source  Internet_Usage  \\\n",
              "307   2021                       Counts    0.0    CTS             NaN   \n",
              "352   2022                       Counts    0.0    CTS             NaN   \n",
              "1520  2021  Rate per 100,000 population    0.0    CTS             NaN   \n",
              "1565  2022  Rate per 100,000 population    0.0    CTS             NaN   \n",
              "\n",
              "      Secure Internet servers  Secure Internet servers (per 1 million people)  \n",
              "307                       NaN                                             NaN  \n",
              "352                       NaN                                             NaN  \n",
              "1520                      NaN                                             NaN  \n",
              "1565                      NaN                                             NaN  "
            ],
            "text/html": [
              "\n",
              "  <div id=\"df-06e6f137-27ac-4496-81b0-a4f5721c6faa\" class=\"colab-df-container\">\n",
              "    <div>\n",
              "<style scoped>\n",
              "    .dataframe tbody tr th:only-of-type {\n",
              "        vertical-align: middle;\n",
              "    }\n",
              "\n",
              "    .dataframe tbody tr th {\n",
              "        vertical-align: top;\n",
              "    }\n",
              "\n",
              "    .dataframe thead th {\n",
              "        text-align: right;\n",
              "    }\n",
              "</style>\n",
              "<table border=\"1\" class=\"dataframe\">\n",
              "  <thead>\n",
              "    <tr style=\"text-align: right;\">\n",
              "      <th></th>\n",
              "      <th>Iso3_code</th>\n",
              "      <th>Country</th>\n",
              "      <th>Region</th>\n",
              "      <th>Subregion</th>\n",
              "      <th>Category</th>\n",
              "      <th>Year</th>\n",
              "      <th>Unit</th>\n",
              "      <th>Value</th>\n",
              "      <th>Source</th>\n",
              "      <th>Internet_Usage</th>\n",
              "      <th>Secure Internet servers</th>\n",
              "      <th>Secure Internet servers (per 1 million people)</th>\n",
              "    </tr>\n",
              "  </thead>\n",
              "  <tbody>\n",
              "    <tr>\n",
              "      <th>307</th>\n",
              "      <td>VAT</td>\n",
              "      <td>Holy See</td>\n",
              "      <td>Europe</td>\n",
              "      <td>Southern Europe</td>\n",
              "      <td>Fraud: Cyber-related (Cy)</td>\n",
              "      <td>2021</td>\n",
              "      <td>Counts</td>\n",
              "      <td>0.0</td>\n",
              "      <td>CTS</td>\n",
              "      <td>NaN</td>\n",
              "      <td>NaN</td>\n",
              "      <td>NaN</td>\n",
              "    </tr>\n",
              "    <tr>\n",
              "      <th>352</th>\n",
              "      <td>VAT</td>\n",
              "      <td>Holy See</td>\n",
              "      <td>Europe</td>\n",
              "      <td>Southern Europe</td>\n",
              "      <td>Fraud: Cyber-related (Cy)</td>\n",
              "      <td>2022</td>\n",
              "      <td>Counts</td>\n",
              "      <td>0.0</td>\n",
              "      <td>CTS</td>\n",
              "      <td>NaN</td>\n",
              "      <td>NaN</td>\n",
              "      <td>NaN</td>\n",
              "    </tr>\n",
              "    <tr>\n",
              "      <th>1520</th>\n",
              "      <td>VAT</td>\n",
              "      <td>Holy See</td>\n",
              "      <td>Europe</td>\n",
              "      <td>Southern Europe</td>\n",
              "      <td>Fraud: Cyber-related (Cy)</td>\n",
              "      <td>2021</td>\n",
              "      <td>Rate per 100,000 population</td>\n",
              "      <td>0.0</td>\n",
              "      <td>CTS</td>\n",
              "      <td>NaN</td>\n",
              "      <td>NaN</td>\n",
              "      <td>NaN</td>\n",
              "    </tr>\n",
              "    <tr>\n",
              "      <th>1565</th>\n",
              "      <td>VAT</td>\n",
              "      <td>Holy See</td>\n",
              "      <td>Europe</td>\n",
              "      <td>Southern Europe</td>\n",
              "      <td>Fraud: Cyber-related (Cy)</td>\n",
              "      <td>2022</td>\n",
              "      <td>Rate per 100,000 population</td>\n",
              "      <td>0.0</td>\n",
              "      <td>CTS</td>\n",
              "      <td>NaN</td>\n",
              "      <td>NaN</td>\n",
              "      <td>NaN</td>\n",
              "    </tr>\n",
              "  </tbody>\n",
              "</table>\n",
              "</div>\n",
              "    <div class=\"colab-df-buttons\">\n",
              "\n",
              "  <div class=\"colab-df-container\">\n",
              "    <button class=\"colab-df-convert\" onclick=\"convertToInteractive('df-06e6f137-27ac-4496-81b0-a4f5721c6faa')\"\n",
              "            title=\"Convert this dataframe to an interactive table.\"\n",
              "            style=\"display:none;\">\n",
              "\n",
              "  <svg xmlns=\"http://www.w3.org/2000/svg\" height=\"24px\" viewBox=\"0 -960 960 960\">\n",
              "    <path d=\"M120-120v-720h720v720H120Zm60-500h600v-160H180v160Zm220 220h160v-160H400v160Zm0 220h160v-160H400v160ZM180-400h160v-160H180v160Zm440 0h160v-160H620v160ZM180-180h160v-160H180v160Zm440 0h160v-160H620v160Z\"/>\n",
              "  </svg>\n",
              "    </button>\n",
              "\n",
              "  <style>\n",
              "    .colab-df-container {\n",
              "      display:flex;\n",
              "      gap: 12px;\n",
              "    }\n",
              "\n",
              "    .colab-df-convert {\n",
              "      background-color: #E8F0FE;\n",
              "      border: none;\n",
              "      border-radius: 50%;\n",
              "      cursor: pointer;\n",
              "      display: none;\n",
              "      fill: #1967D2;\n",
              "      height: 32px;\n",
              "      padding: 0 0 0 0;\n",
              "      width: 32px;\n",
              "    }\n",
              "\n",
              "    .colab-df-convert:hover {\n",
              "      background-color: #E2EBFA;\n",
              "      box-shadow: 0px 1px 2px rgba(60, 64, 67, 0.3), 0px 1px 3px 1px rgba(60, 64, 67, 0.15);\n",
              "      fill: #174EA6;\n",
              "    }\n",
              "\n",
              "    .colab-df-buttons div {\n",
              "      margin-bottom: 4px;\n",
              "    }\n",
              "\n",
              "    [theme=dark] .colab-df-convert {\n",
              "      background-color: #3B4455;\n",
              "      fill: #D2E3FC;\n",
              "    }\n",
              "\n",
              "    [theme=dark] .colab-df-convert:hover {\n",
              "      background-color: #434B5C;\n",
              "      box-shadow: 0px 1px 3px 1px rgba(0, 0, 0, 0.15);\n",
              "      filter: drop-shadow(0px 1px 2px rgba(0, 0, 0, 0.3));\n",
              "      fill: #FFFFFF;\n",
              "    }\n",
              "  </style>\n",
              "\n",
              "    <script>\n",
              "      const buttonEl =\n",
              "        document.querySelector('#df-06e6f137-27ac-4496-81b0-a4f5721c6faa button.colab-df-convert');\n",
              "      buttonEl.style.display =\n",
              "        google.colab.kernel.accessAllowed ? 'block' : 'none';\n",
              "\n",
              "      async function convertToInteractive(key) {\n",
              "        const element = document.querySelector('#df-06e6f137-27ac-4496-81b0-a4f5721c6faa');\n",
              "        const dataTable =\n",
              "          await google.colab.kernel.invokeFunction('convertToInteractive',\n",
              "                                                    [key], {});\n",
              "        if (!dataTable) return;\n",
              "\n",
              "        const docLinkHtml = 'Like what you see? Visit the ' +\n",
              "          '<a target=\"_blank\" href=https://colab.research.google.com/notebooks/data_table.ipynb>data table notebook</a>'\n",
              "          + ' to learn more about interactive tables.';\n",
              "        element.innerHTML = '';\n",
              "        dataTable['output_type'] = 'display_data';\n",
              "        await google.colab.output.renderOutput(dataTable, element);\n",
              "        const docLink = document.createElement('div');\n",
              "        docLink.innerHTML = docLinkHtml;\n",
              "        element.appendChild(docLink);\n",
              "      }\n",
              "    </script>\n",
              "  </div>\n",
              "\n",
              "\n",
              "<div id=\"df-194afbc9-417c-4bc0-b19e-b5ac4beabb10\">\n",
              "  <button class=\"colab-df-quickchart\" onclick=\"quickchart('df-194afbc9-417c-4bc0-b19e-b5ac4beabb10')\"\n",
              "            title=\"Suggest charts\"\n",
              "            style=\"display:none;\">\n",
              "\n",
              "<svg xmlns=\"http://www.w3.org/2000/svg\" height=\"24px\"viewBox=\"0 0 24 24\"\n",
              "     width=\"24px\">\n",
              "    <g>\n",
              "        <path d=\"M19 3H5c-1.1 0-2 .9-2 2v14c0 1.1.9 2 2 2h14c1.1 0 2-.9 2-2V5c0-1.1-.9-2-2-2zM9 17H7v-7h2v7zm4 0h-2V7h2v10zm4 0h-2v-4h2v4z\"/>\n",
              "    </g>\n",
              "</svg>\n",
              "  </button>\n",
              "\n",
              "<style>\n",
              "  .colab-df-quickchart {\n",
              "      --bg-color: #E8F0FE;\n",
              "      --fill-color: #1967D2;\n",
              "      --hover-bg-color: #E2EBFA;\n",
              "      --hover-fill-color: #174EA6;\n",
              "      --disabled-fill-color: #AAA;\n",
              "      --disabled-bg-color: #DDD;\n",
              "  }\n",
              "\n",
              "  [theme=dark] .colab-df-quickchart {\n",
              "      --bg-color: #3B4455;\n",
              "      --fill-color: #D2E3FC;\n",
              "      --hover-bg-color: #434B5C;\n",
              "      --hover-fill-color: #FFFFFF;\n",
              "      --disabled-bg-color: #3B4455;\n",
              "      --disabled-fill-color: #666;\n",
              "  }\n",
              "\n",
              "  .colab-df-quickchart {\n",
              "    background-color: var(--bg-color);\n",
              "    border: none;\n",
              "    border-radius: 50%;\n",
              "    cursor: pointer;\n",
              "    display: none;\n",
              "    fill: var(--fill-color);\n",
              "    height: 32px;\n",
              "    padding: 0;\n",
              "    width: 32px;\n",
              "  }\n",
              "\n",
              "  .colab-df-quickchart:hover {\n",
              "    background-color: var(--hover-bg-color);\n",
              "    box-shadow: 0 1px 2px rgba(60, 64, 67, 0.3), 0 1px 3px 1px rgba(60, 64, 67, 0.15);\n",
              "    fill: var(--button-hover-fill-color);\n",
              "  }\n",
              "\n",
              "  .colab-df-quickchart-complete:disabled,\n",
              "  .colab-df-quickchart-complete:disabled:hover {\n",
              "    background-color: var(--disabled-bg-color);\n",
              "    fill: var(--disabled-fill-color);\n",
              "    box-shadow: none;\n",
              "  }\n",
              "\n",
              "  .colab-df-spinner {\n",
              "    border: 2px solid var(--fill-color);\n",
              "    border-color: transparent;\n",
              "    border-bottom-color: var(--fill-color);\n",
              "    animation:\n",
              "      spin 1s steps(1) infinite;\n",
              "  }\n",
              "\n",
              "  @keyframes spin {\n",
              "    0% {\n",
              "      border-color: transparent;\n",
              "      border-bottom-color: var(--fill-color);\n",
              "      border-left-color: var(--fill-color);\n",
              "    }\n",
              "    20% {\n",
              "      border-color: transparent;\n",
              "      border-left-color: var(--fill-color);\n",
              "      border-top-color: var(--fill-color);\n",
              "    }\n",
              "    30% {\n",
              "      border-color: transparent;\n",
              "      border-left-color: var(--fill-color);\n",
              "      border-top-color: var(--fill-color);\n",
              "      border-right-color: var(--fill-color);\n",
              "    }\n",
              "    40% {\n",
              "      border-color: transparent;\n",
              "      border-right-color: var(--fill-color);\n",
              "      border-top-color: var(--fill-color);\n",
              "    }\n",
              "    60% {\n",
              "      border-color: transparent;\n",
              "      border-right-color: var(--fill-color);\n",
              "    }\n",
              "    80% {\n",
              "      border-color: transparent;\n",
              "      border-right-color: var(--fill-color);\n",
              "      border-bottom-color: var(--fill-color);\n",
              "    }\n",
              "    90% {\n",
              "      border-color: transparent;\n",
              "      border-bottom-color: var(--fill-color);\n",
              "    }\n",
              "  }\n",
              "</style>\n",
              "\n",
              "  <script>\n",
              "    async function quickchart(key) {\n",
              "      const quickchartButtonEl =\n",
              "        document.querySelector('#' + key + ' button');\n",
              "      quickchartButtonEl.disabled = true;  // To prevent multiple clicks.\n",
              "      quickchartButtonEl.classList.add('colab-df-spinner');\n",
              "      try {\n",
              "        const charts = await google.colab.kernel.invokeFunction(\n",
              "            'suggestCharts', [key], {});\n",
              "      } catch (error) {\n",
              "        console.error('Error during call to suggestCharts:', error);\n",
              "      }\n",
              "      quickchartButtonEl.classList.remove('colab-df-spinner');\n",
              "      quickchartButtonEl.classList.add('colab-df-quickchart-complete');\n",
              "    }\n",
              "    (() => {\n",
              "      let quickchartButtonEl =\n",
              "        document.querySelector('#df-194afbc9-417c-4bc0-b19e-b5ac4beabb10 button');\n",
              "      quickchartButtonEl.style.display =\n",
              "        google.colab.kernel.accessAllowed ? 'block' : 'none';\n",
              "    })();\n",
              "  </script>\n",
              "</div>\n",
              "\n",
              "    </div>\n",
              "  </div>\n"
            ],
            "application/vnd.google.colaboratory.intrinsic+json": {
              "type": "dataframe",
              "summary": "{\n  \"name\": \"]\",\n  \"rows\": 4,\n  \"fields\": [\n    {\n      \"column\": \"Iso3_code\",\n      \"properties\": {\n        \"dtype\": \"category\",\n        \"num_unique_values\": 1,\n        \"samples\": [\n          \"VAT\"\n        ],\n        \"semantic_type\": \"\",\n        \"description\": \"\"\n      }\n    },\n    {\n      \"column\": \"Country\",\n      \"properties\": {\n        \"dtype\": \"category\",\n        \"num_unique_values\": 1,\n        \"samples\": [\n          \"Holy See\"\n        ],\n        \"semantic_type\": \"\",\n        \"description\": \"\"\n      }\n    },\n    {\n      \"column\": \"Region\",\n      \"properties\": {\n        \"dtype\": \"category\",\n        \"num_unique_values\": 1,\n        \"samples\": [\n          \"Europe\"\n        ],\n        \"semantic_type\": \"\",\n        \"description\": \"\"\n      }\n    },\n    {\n      \"column\": \"Subregion\",\n      \"properties\": {\n        \"dtype\": \"category\",\n        \"num_unique_values\": 1,\n        \"samples\": [\n          \"Southern Europe\"\n        ],\n        \"semantic_type\": \"\",\n        \"description\": \"\"\n      }\n    },\n    {\n      \"column\": \"Category\",\n      \"properties\": {\n        \"dtype\": \"category\",\n        \"num_unique_values\": 1,\n        \"samples\": [\n          \"Fraud: Cyber-related (Cy)\"\n        ],\n        \"semantic_type\": \"\",\n        \"description\": \"\"\n      }\n    },\n    {\n      \"column\": \"Year\",\n      \"properties\": {\n        \"dtype\": \"number\",\n        \"std\": 0,\n        \"min\": 2021,\n        \"max\": 2022,\n        \"num_unique_values\": 2,\n        \"samples\": [\n          2022\n        ],\n        \"semantic_type\": \"\",\n        \"description\": \"\"\n      }\n    },\n    {\n      \"column\": \"Unit\",\n      \"properties\": {\n        \"dtype\": \"string\",\n        \"num_unique_values\": 2,\n        \"samples\": [\n          \"Rate per 100,000 population\"\n        ],\n        \"semantic_type\": \"\",\n        \"description\": \"\"\n      }\n    },\n    {\n      \"column\": \"Value\",\n      \"properties\": {\n        \"dtype\": \"number\",\n        \"std\": 0.0,\n        \"min\": 0.0,\n        \"max\": 0.0,\n        \"num_unique_values\": 1,\n        \"samples\": [\n          0.0\n        ],\n        \"semantic_type\": \"\",\n        \"description\": \"\"\n      }\n    },\n    {\n      \"column\": \"Source\",\n      \"properties\": {\n        \"dtype\": \"category\",\n        \"num_unique_values\": 1,\n        \"samples\": [\n          \"CTS\"\n        ],\n        \"semantic_type\": \"\",\n        \"description\": \"\"\n      }\n    },\n    {\n      \"column\": \"Internet_Usage\",\n      \"properties\": {\n        \"dtype\": \"number\",\n        \"std\": null,\n        \"min\": null,\n        \"max\": null,\n        \"num_unique_values\": 0,\n        \"samples\": [],\n        \"semantic_type\": \"\",\n        \"description\": \"\"\n      }\n    },\n    {\n      \"column\": \"Secure Internet servers\",\n      \"properties\": {\n        \"dtype\": \"number\",\n        \"std\": null,\n        \"min\": null,\n        \"max\": null,\n        \"num_unique_values\": 0,\n        \"samples\": [],\n        \"semantic_type\": \"\",\n        \"description\": \"\"\n      }\n    },\n    {\n      \"column\": \"Secure Internet servers (per 1 million people)\",\n      \"properties\": {\n        \"dtype\": \"number\",\n        \"std\": null,\n        \"min\": null,\n        \"max\": null,\n        \"num_unique_values\": 0,\n        \"samples\": [],\n        \"semantic_type\": \"\",\n        \"description\": \"\"\n      }\n    }\n  ]\n}"
            }
          },
          "metadata": {},
          "execution_count": 40
        }
      ]
    },
    {
      "cell_type": "code",
      "source": [
        "df_final_clean = df_final.dropna(subset=[\n",
        "    \"Internet_Usage\",\n",
        "    \"Secure Internet servers\",\n",
        "    \"Secure Internet servers (per 1 million people)\"\n",
        "]).reset_index(drop=True)"
      ],
      "metadata": {
        "id": "wkI9Q4b2LVZz"
      },
      "execution_count": 41,
      "outputs": []
    },
    {
      "cell_type": "markdown",
      "source": [
        "# Data exploration"
      ],
      "metadata": {
        "id": "lU-7OOsuO6EU"
      }
    },
    {
      "cell_type": "markdown",
      "source": [
        "## Time trend analysis"
      ],
      "metadata": {
        "id": "fIP81_5QPLxE"
      }
    },
    {
      "cell_type": "code",
      "source": [
        "df_final_clean.groupby(\"Year\")[\"Value\"].sum().plot(kind=\"line\", marker=\"o\", title=\"Global Cybercrime Trend Over Time\")"
      ],
      "metadata": {
        "colab": {
          "base_uri": "https://localhost:8080/",
          "height": 490
        },
        "id": "eg1biutZO80O",
        "outputId": "d87c78ea-4ddc-4987-8d81-2f56cb655d46"
      },
      "execution_count": 42,
      "outputs": [
        {
          "output_type": "execute_result",
          "data": {
            "text/plain": [
              "<Axes: title={'center': 'Global Cybercrime Trend Over Time'}, xlabel='Year'>"
            ]
          },
          "metadata": {},
          "execution_count": 42
        },
        {
          "output_type": "display_data",
          "data": {
            "text/plain": [
              "<Figure size 640x480 with 1 Axes>"
            ],
            "image/png": "[encoded data removed]"
          },
          "metadata": {}
        }
      ]
    },
    {
      "cell_type": "code",
      "source": [
        "# Aggregate by country and year\n",
        "cyber_by_country_year = df_final_clean.groupby([\"Iso3_code\", \"Year\"])[\"Value\"].sum().reset_index()\n",
        "\n",
        "# Make sure years are sorted and unique\n",
        "years_sorted = sorted(cyber_by_country_year[\"Year\"].unique())\n",
        "\n",
        "fig = px.choropleth(\n",
        "    cyber_by_country_year,\n",
        "    locations=\"Iso3_code\",\n",
        "    color=\"Value\",\n",
        "    animation_frame=\"Year\",\n",
        "    color_continuous_scale=\"Viridis\",\n",
        "    title=\"Cybercrime Growth Over Time\",\n",
        "    category_orders={\"Year\": years_sorted},\n",
        ")\n",
        "\n",
        "fig.show()"
      ],
      "metadata": {
        "colab": {
          "base_uri": "https://localhost:8080/",
          "height": 542
        },
        "id": "dxfg-af4QsY8",
        "outputId": "08efb095-ea86-427c-c653-c6dea88c3c8c"
      },
      "execution_count": 43,
      "outputs": [
        {
          "output_type": "display_data",
          "data": {
            "text/html": [
              "<html>\n",
              "<head><meta charset=\"utf-8\" /></head>\n",
              "<body>\n",
              "    <div>            <script src=\"https://cdnjs.cloudflare.com/ajax/libs/mathjax/2.7.5/MathJax.js?config=TeX-AMS-MML_SVG\"></script><script type=\"text/javascript\">if (window.MathJax && window.MathJax.Hub && window.MathJax.Hub.Config) {window.MathJax.Hub.Config({SVG: {font: \"STIX-Web\"}});}</script>                <script type=\"text/javascript\">window.PlotlyConfig = {MathJaxConfig: 'local'};</script>\n",
              "        <script charset=\"utf-8\" src=\"https://cdn.plot.ly/plotly-2.35.2.min.js\"></script>                <div id=\"67628378-6324-4778-b28a-198e24166312\" class=\"plotly-graph-div\" style=\"height:525px; width:100%;\"></div>            <script type=\"text/javascript\">                                    window.PLOTLYENV=window.PLOTLYENV || {};                                    if (document.getElementById(\"67628378-6324-4778-b28a-198e24166312\")) {                    Plotly.newPlot(                        \"67628378-6324-4778-b28a-198e24166312\",                        [{\"coloraxis\":\"coloraxis\",\"geo\":\"geo\",\"hovertemplate\":\"Year=2013\\u003cbr\\u003eIso3_code=%{location}\\u003cbr\\u003eValue=%{z}\\u003cextra\\u003e\\u003c\\u002fextra\\u003e\",\"locations\":[\"ARM\",\"AUT\",\"CAN\",\"COL\",\"CZE\",\"DEU\",\"DOM\",\"HND\",\"ITA\",\"LTU\",\"MAC\",\"POL\",\"RUS\",\"SGP\",\"SRB\",\"SVK\",\"SVN\",\"SWE\",\"TUR\"],\"name\":\"\",\"z\":[36.2063204297258,7757.417651242597,6933.7184032907435,7318.794392179754,1756.548492361016,181047.3818430699,492.8045441536131,1186.090557980291,29137.230386353764,986.5369907436454,341.2101517846685,15321.583133295877,688.4779209350112,684.2671276575354,17.22466932639907,244.43234660063948,124.7422039930032,69567.59192913785,20201.346334244838],\"type\":\"choropleth\"}],                        {\"template\":{\"data\":{\"histogram2dcontour\":[{\"type\":\"histogram2dcontour\",\"colorbar\":{\"outlinewidth\":0,\"ticks\":\"\"},\"colorscale\":[[0.0,\"#0d0887\"],[0.1111111111111111,\"#46039f\"],[0.2222222222222222,\"#7201a8\"],[0.3333333333333333,\"#9c179e\"],[0.4444444444444444,\"#bd3786\"],[0.5555555555555556,\"#d8576b\"],[0.6666666666666666,\"#ed7953\"],[0.7777777777777778,\"#fb9f3a\"],[0.8888888888888888,\"#fdca26\"],[1.0,\"#f0f921\"]]}],\"choropleth\":[{\"type\":\"choropleth\",\"colorbar\":{\"outlinewidth\":0,\"ticks\":\"\"}}],\"histogram2d\":[{\"type\":\"histogram2d\",\"colorbar\":{\"outlinewidth\":0,\"ticks\":\"\"},\"colorscale\":[[0.0,\"#0d0887\"],[0.1111111111111111,\"#46039f\"],[0.2222222222222222,\"#7201a8\"],[0.3333333333333333,\"#9c179e\"],[0.4444444444444444,\"#bd3786\"],[0.5555555555555556,\"#d8576b\"],[0.6666666666666666,\"#ed7953\"],[0.7777777777777778,\"#fb9f3a\"],[0.8888888888888888,\"#fdca26\"],[1.0,\"#f0f921\"]]}],\"heatmap\":[{\"type\":\"heatmap\",\"colorbar\":{\"outlinewidth\":0,\"ticks\":\"\"},\"colorscale\":[[0.0,\"#0d0887\"],[0.1111111111111111,\"#46039f\"],[0.2222222222222222,\"#7201a8\"],[0.3333333333333333,\"#9c179e\"],[0.4444444444444444,\"#bd3786\"],[0.5555555555555556,\"#d8576b\"],[0.6666666666666666,\"#ed7953\"],[0.7777777777777778,\"#fb9f3a\"],[0.8888888888888888,\"#fdca26\"],[1.0,\"#f0f921\"]]}],\"heatmapgl\":[{\"type\":\"heatmapgl\",\"colorbar\":{\"outlinewidth\":0,\"ticks\":\"\"},\"colorscale\":[[0.0,\"#0d0887\"],[0.1111111111111111,\"#46039f\"],[0.2222222222222222,\"#7201a8\"],[0.3333333333333333,\"#9c179e\"],[0.4444444444444444,\"#bd3786\"],[0.5555555555555556,\"#d8576b\"],[0.6666666666666666,\"#ed7953\"],[0.7777777777777778,\"#fb9f3a\"],[0.8888888888888888,\"#fdca26\"],[1.0,\"#f0f921\"]]}],\"contourcarpet\":[{\"type\":\"contourcarpet\",\"colorbar\":{\"outlinewidth\":0,\"ticks\":\"\"}}],\"contour\":[{\"type\":\"contour\",\"colorbar\":{\"outlinewidth\":0,\"ticks\":\"\"},\"colorscale\":[[0.0,\"#0d0887\"],[0.1111111111111111,\"#46039f\"],[0.2222222222222222,\"#7201a8\"],[0.3333333333333333,\"#9c179e\"],[0.4444444444444444,\"#bd3786\"],[0.5555555555555556,\"#d8576b\"],[0.6666666666666666,\"#ed7953\"],[0.7777777777777778,\"#fb9f3a\"],[0.8888888888888888,\"#fdca26\"],[1.0,\"#f0f921\"]]}],\"surface\":[{\"type\":\"surface\",\"colorbar\":{\"outlinewidth\":0,\"ticks\":\"\"},\"colorscale\":[[0.0,\"#0d0887\"],[0.1111111111111111,\"#46039f\"],[0.2222222222222222,\"#7201a8\"],[0.3333333333333333,\"#9c179e\"],[0.4444444444444444,\"#bd3786\"],[0.5555555555555556,\"#d8576b\"],[0.6666666666666666,\"#ed7953\"],[0.7777777777777778,\"#fb9f3a\"],[0.8888888888888888,\"#fdca26\"],[1.0,\"#f0f921\"]]}],\"mesh3d\":[{\"type\":\"mesh3d\",\"colorbar\":{\"outlinewidth\":0,\"ticks\":\"\"}}],\"scatter\":[{\"fillpattern\":{\"fillmode\":\"overlay\",\"size\":10,\"solidity\":0.2},\"type\":\"scatter\"}],\"parcoords\":[{\"type\":\"parcoords\",\"line\":{\"colorbar\":{\"outlinewidth\":0,\"ticks\":\"\"}}}],\"scatterpolargl\":[{\"type\":\"scatterpolargl\",\"marker\":{\"colorbar\":{\"outlinewidth\":0,\"ticks\":\"\"}}}],\"bar\":[{\"error_x\":{\"color\":\"#2a3f5f\"},\"error_y\":{\"color\":\"#2a3f5f\"},\"marker\":{\"line\":{\"color\":\"#E5ECF6\",\"width\":0.5},\"pattern\":{\"fillmode\":\"overlay\",\"size\":10,\"solidity\":0.2}},\"type\":\"bar\"}],\"scattergeo\":[{\"type\":\"scattergeo\",\"marker\":{\"colorbar\":{\"outlinewidth\":0,\"ticks\":\"\"}}}],\"scatterpolar\":[{\"type\":\"scatterpolar\",\"marker\":{\"colorbar\":{\"outlinewidth\":0,\"ticks\":\"\"}}}],\"histogram\":[{\"marker\":{\"pattern\":{\"fillmode\":\"overlay\",\"size\":10,\"solidity\":0.2}},\"type\":\"histogram\"}],\"scattergl\":[{\"type\":\"scattergl\",\"marker\":{\"colorbar\":{\"outlinewidth\":0,\"ticks\":\"\"}}}],\"scatter3d\":[{\"type\":\"scatter3d\",\"line\":{\"colorbar\":{\"outlinewidth\":0,\"ticks\":\"\"}},\"marker\":{\"colorbar\":{\"outlinewidth\":0,\"ticks\":\"\"}}}],\"scattermapbox\":[{\"type\":\"scattermapbox\",\"marker\":{\"colorbar\":{\"outlinewidth\":0,\"ticks\":\"\"}}}],\"scatterternary\":[{\"type\":\"scatterternary\",\"marker\":{\"colorbar\":{\"outlinewidth\":0,\"ticks\":\"\"}}}],\"scattercarpet\":[{\"type\":\"scattercarpet\",\"marker\":{\"colorbar\":{\"outlinewidth\":0,\"ticks\":\"\"}}}],\"carpet\":[{\"aaxis\":{\"endlinecolor\":\"#2a3f5f\",\"gridcolor\":\"white\",\"linecolor\":\"white\",\"minorgridcolor\":\"white\",\"startlinecolor\":\"#2a3f5f\"},\"baxis\":{\"endlinecolor\":\"#2a3f5f\",\"gridcolor\":\"white\",\"linecolor\":\"white\",\"minorgridcolor\":\"white\",\"startlinecolor\":\"#2a3f5f\"},\"type\":\"carpet\"}],\"table\":[{\"cells\":{\"fill\":{\"color\":\"#EBF0F8\"},\"line\":{\"color\":\"white\"}},\"header\":{\"fill\":{\"color\":\"#C8D4E3\"},\"line\":{\"color\":\"white\"}},\"type\":\"table\"}],\"barpolar\":[{\"marker\":{\"line\":{\"color\":\"#E5ECF6\",\"width\":0.5},\"pattern\":{\"fillmode\":\"overlay\",\"size\":10,\"solidity\":0.2}},\"type\":\"barpolar\"}],\"pie\":[{\"automargin\":true,\"type\":\"pie\"}]},\"layout\":{\"autotypenumbers\":\"strict\",\"colorway\":[\"#636efa\",\"#EF553B\",\"#00cc96\",\"#ab63fa\",\"#FFA15A\",\"#19d3f3\",\"#FF6692\",\"#B6E880\",\"#FF97FF\",\"#FECB52\"],\"font\":{\"color\":\"#2a3f5f\"},\"hovermode\":\"closest\",\"hoverlabel\":{\"align\":\"left\"},\"paper_bgcolor\":\"white\",\"plot_bgcolor\":\"#E5ECF6\",\"polar\":{\"bgcolor\":\"#E5ECF6\",\"angularaxis\":{\"gridcolor\":\"white\",\"linecolor\":\"white\",\"ticks\":\"\"},\"radialaxis\":{\"gridcolor\":\"white\",\"linecolor\":\"white\",\"ticks\":\"\"}},\"ternary\":{\"bgcolor\":\"#E5ECF6\",\"aaxis\":{\"gridcolor\":\"white\",\"linecolor\":\"white\",\"ticks\":\"\"},\"baxis\":{\"gridcolor\":\"white\",\"linecolor\":\"white\",\"ticks\":\"\"},\"caxis\":{\"gridcolor\":\"white\",\"linecolor\":\"white\",\"ticks\":\"\"}},\"coloraxis\":{\"colorbar\":{\"outlinewidth\":0,\"ticks\":\"\"}},\"colorscale\":{\"sequential\":[[0.0,\"#0d0887\"],[0.1111111111111111,\"#46039f\"],[0.2222222222222222,\"#7201a8\"],[0.3333333333333333,\"#9c179e\"],[0.4444444444444444,\"#bd3786\"],[0.5555555555555556,\"#d8576b\"],[0.6666666666666666,\"#ed7953\"],[0.7777777777777778,\"#fb9f3a\"],[0.8888888888888888,\"#fdca26\"],[1.0,\"#f0f921\"]],\"sequentialminus\":[[0.0,\"#0d0887\"],[0.1111111111111111,\"#46039f\"],[0.2222222222222222,\"#7201a8\"],[0.3333333333333333,\"#9c179e\"],[0.4444444444444444,\"#bd3786\"],[0.5555555555555556,\"#d8576b\"],[0.6666666666666666,\"#ed7953\"],[0.7777777777777778,\"#fb9f3a\"],[0.8888888888888888,\"#fdca26\"],[1.0,\"#f0f921\"]],\"diverging\":[[0,\"#8e0152\"],[0.1,\"#c51b7d\"],[0.2,\"#de77ae\"],[0.3,\"#f1b6da\"],[0.4,\"#fde0ef\"],[0.5,\"#f7f7f7\"],[0.6,\"#e6f5d0\"],[0.7,\"#b8e186\"],[0.8,\"#7fbc41\"],[0.9,\"#4d9221\"],[1,\"#276419\"]]},\"xaxis\":{\"gridcolor\":\"white\",\"linecolor\":\"white\",\"ticks\":\"\",\"title\":{\"standoff\":15},\"zerolinecolor\":\"white\",\"automargin\":true,\"zerolinewidth\":2},\"yaxis\":{\"gridcolor\":\"white\",\"linecolor\":\"white\",\"ticks\":\"\",\"title\":{\"standoff\":15},\"zerolinecolor\":\"white\",\"automargin\":true,\"zerolinewidth\":2},\"scene\":{\"xaxis\":{\"backgroundcolor\":\"#E5ECF6\",\"gridcolor\":\"white\",\"linecolor\":\"white\",\"showbackground\":true,\"ticks\":\"\",\"zerolinecolor\":\"white\",\"gridwidth\":2},\"yaxis\":{\"backgroundcolor\":\"#E5ECF6\",\"gridcolor\":\"white\",\"linecolor\":\"white\",\"showbackground\":true,\"ticks\":\"\",\"zerolinecolor\":\"white\",\"gridwidth\":2},\"zaxis\":{\"backgroundcolor\":\"#E5ECF6\",\"gridcolor\":\"white\",\"linecolor\":\"white\",\"showbackground\":true,\"ticks\":\"\",\"zerolinecolor\":\"white\",\"gridwidth\":2}},\"shapedefaults\":{\"line\":{\"color\":\"#2a3f5f\"}},\"annotationdefaults\":{\"arrowcolor\":\"#2a3f5f\",\"arrowhead\":0,\"arrowwidth\":1},\"geo\":{\"bgcolor\":\"white\",\"landcolor\":\"#E5ECF6\",\"subunitcolor\":\"white\",\"showland\":true,\"showlakes\":true,\"lakecolor\":\"white\"},\"title\":{\"x\":0.05},\"mapbox\":{\"style\":\"light\"}}},\"geo\":{\"domain\":{\"x\":[0.0,1.0],\"y\":[0.0,1.0]},\"center\":{}},\"coloraxis\":{\"colorbar\":{\"title\":{\"text\":\"Value\"}},\"colorscale\":[[0.0,\"#440154\"],[0.1111111111111111,\"#482878\"],[0.2222222222222222,\"#3e4989\"],[0.3333333333333333,\"#31688e\"],[0.4444444444444444,\"#26828e\"],[0.5555555555555556,\"#1f9e89\"],[0.6666666666666666,\"#35b779\"],[0.7777777777777778,\"#6ece58\"],[0.8888888888888888,\"#b5de2b\"],[1.0,\"#fde725\"]]},\"legend\":{\"tracegroupgap\":0},\"title\":{\"text\":\"Cybercrime Growth Over Time\"},\"updatemenus\":[{\"buttons\":[{\"args\":[null,{\"frame\":{\"duration\":500,\"redraw\":true},\"mode\":\"immediate\",\"fromcurrent\":true,\"transition\":{\"duration\":500,\"easing\":\"linear\"}}],\"label\":\"&#9654;\",\"method\":\"animate\"},{\"args\":[[null],{\"frame\":{\"duration\":0,\"redraw\":true},\"mode\":\"immediate\",\"fromcurrent\":true,\"transition\":{\"duration\":0,\"easing\":\"linear\"}}],\"label\":\"&#9724;\",\"method\":\"animate\"}],\"direction\":\"left\",\"pad\":{\"r\":10,\"t\":70},\"showactive\":false,\"type\":\"buttons\",\"x\":0.1,\"xanchor\":\"right\",\"y\":0,\"yanchor\":\"top\"}],\"sliders\":[{\"active\":0,\"currentvalue\":{\"prefix\":\"Year=\"},\"len\":0.9,\"pad\":{\"b\":10,\"t\":60},\"steps\":[{\"args\":[[\"2013\"],{\"frame\":{\"duration\":0,\"redraw\":true},\"mode\":\"immediate\",\"fromcurrent\":true,\"transition\":{\"duration\":0,\"easing\":\"linear\"}}],\"label\":\"2013\",\"method\":\"animate\"},{\"args\":[[\"2014\"],{\"frame\":{\"duration\":0,\"redraw\":true},\"mode\":\"immediate\",\"fromcurrent\":true,\"transition\":{\"duration\":0,\"easing\":\"linear\"}}],\"label\":\"2014\",\"method\":\"animate\"},{\"args\":[[\"2015\"],{\"frame\":{\"duration\":0,\"redraw\":true},\"mode\":\"immediate\",\"fromcurrent\":true,\"transition\":{\"duration\":0,\"easing\":\"linear\"}}],\"label\":\"2015\",\"method\":\"animate\"},{\"args\":[[\"2016\"],{\"frame\":{\"duration\":0,\"redraw\":true},\"mode\":\"immediate\",\"fromcurrent\":true,\"transition\":{\"duration\":0,\"easing\":\"linear\"}}],\"label\":\"2016\",\"method\":\"animate\"},{\"args\":[[\"2017\"],{\"frame\":{\"duration\":0,\"redraw\":true},\"mode\":\"immediate\",\"fromcurrent\":true,\"transition\":{\"duration\":0,\"easing\":\"linear\"}}],\"label\":\"2017\",\"method\":\"animate\"},{\"args\":[[\"2018\"],{\"frame\":{\"duration\":0,\"redraw\":true},\"mode\":\"immediate\",\"fromcurrent\":true,\"transition\":{\"duration\":0,\"easing\":\"linear\"}}],\"label\":\"2018\",\"method\":\"animate\"},{\"args\":[[\"2019\"],{\"frame\":{\"duration\":0,\"redraw\":true},\"mode\":\"immediate\",\"fromcurrent\":true,\"transition\":{\"duration\":0,\"easing\":\"linear\"}}],\"label\":\"2019\",\"method\":\"animate\"},{\"args\":[[\"2020\"],{\"frame\":{\"duration\":0,\"redraw\":true},\"mode\":\"immediate\",\"fromcurrent\":true,\"transition\":{\"duration\":0,\"easing\":\"linear\"}}],\"label\":\"2020\",\"method\":\"animate\"},{\"args\":[[\"2021\"],{\"frame\":{\"duration\":0,\"redraw\":true},\"mode\":\"immediate\",\"fromcurrent\":true,\"transition\":{\"duration\":0,\"easing\":\"linear\"}}],\"label\":\"2021\",\"method\":\"animate\"},{\"args\":[[\"2022\"],{\"frame\":{\"duration\":0,\"redraw\":true},\"mode\":\"immediate\",\"fromcurrent\":true,\"transition\":{\"duration\":0,\"easing\":\"linear\"}}],\"label\":\"2022\",\"method\":\"animate\"}],\"x\":0.1,\"xanchor\":\"left\",\"y\":0,\"yanchor\":\"top\"}]},                        {\"responsive\": true}                    ).then(function(){\n",
              "                            Plotly.addFrames('67628378-6324-4778-b28a-198e24166312', [{\"data\":[{\"coloraxis\":\"coloraxis\",\"geo\":\"geo\",\"hovertemplate\":\"Year=2013\\u003cbr\\u003eIso3_code=%{location}\\u003cbr\\u003eValue=%{z}\\u003cextra\\u003e\\u003c\\u002fextra\\u003e\",\"locations\":[\"ARM\",\"AUT\",\"CAN\",\"COL\",\"CZE\",\"DEU\",\"DOM\",\"HND\",\"ITA\",\"LTU\",\"MAC\",\"POL\",\"RUS\",\"SGP\",\"SRB\",\"SVK\",\"SVN\",\"SWE\",\"TUR\"],\"name\":\"\",\"z\":[36.2063204297258,7757.417651242597,6933.7184032907435,7318.794392179754,1756.548492361016,181047.3818430699,492.8045441536131,1186.090557980291,29137.230386353764,986.5369907436454,341.2101517846685,15321.583133295877,688.4779209350112,684.2671276575354,17.22466932639907,244.43234660063948,124.7422039930032,69567.59192913785,20201.346334244838],\"type\":\"choropleth\"}],\"name\":\"2013\"},{\"data\":[{\"coloraxis\":\"coloraxis\",\"geo\":\"geo\",\"hovertemplate\":\"Year=2014\\u003cbr\\u003eIso3_code=%{location}\\u003cbr\\u003eValue=%{z}\\u003cextra\\u003e\\u003c\\u002fextra\\u003e\",\"locations\":[\"ARM\",\"AUT\",\"BEL\",\"CAN\",\"CHE\",\"COL\",\"CZE\",\"DEU\",\"DMA\",\"DNK\",\"DOM\",\"EST\",\"FIN\",\"GRC\",\"GRD\",\"HND\",\"ITA\",\"LBN\",\"LTU\",\"MAC\",\"MCO\",\"MDV\",\"MKD\",\"NLD\",\"OMN\",\"POL\",\"PRT\",\"RUS\",\"SGP\",\"SRB\",\"SVK\",\"SVN\",\"SWE\",\"TUR\"],\"name\":\"\",\"z\":[52.76474862712937,6712.638061770176,3180.2014683552593,8391.635341478714,1195.4239148263555,7485.00113218347,2809.4614608742154,183520.918435184,0.0,190.30935203418082,419.03613458904124,40.89077583859125,448.0564832718111,140.2795765135664,0.0,1286.9463336754002,33983.24242326184,179.82101249485405,2396.430909858267,496.51030592534846,22.6158958737192,4.959835676132246,79.60995225838138,2057.0619926258464,7.174595462313819,24713.890107149542,344.2762088057575,2731.8920876567477,2343.324821353623,10.132556376226809,76.38387388369813,170.85573591618365,77721.24779653961,16875.576689923764],\"type\":\"choropleth\"}],\"name\":\"2014\"},{\"data\":[{\"coloraxis\":\"coloraxis\",\"geo\":\"geo\",\"hovertemplate\":\"Year=2015\\u003cbr\\u003eIso3_code=%{location}\\u003cbr\\u003eValue=%{z}\\u003cextra\\u003e\\u003c\\u002fextra\\u003e\",\"locations\":[\"ALB\",\"ARM\",\"ATG\",\"AUT\",\"BEL\",\"CAN\",\"CHE\",\"COL\",\"CZE\",\"DEU\",\"DMA\",\"DNK\",\"DOM\",\"ECU\",\"EST\",\"FIN\",\"GRC\",\"GRD\",\"HND\",\"ITA\",\"LBN\",\"LTU\",\"MAC\",\"MCO\",\"MDV\",\"MEX\",\"MKD\",\"NLD\",\"OMN\",\"POL\",\"PRT\",\"RUS\",\"SGP\",\"SRB\",\"SVK\",\"SVN\",\"SWE\"],\"name\":\"\",\"z\":[99.33046427712793,64.15382851703696,0.0,7559.468826269861,3447.3779129724803,9341.06897781565,1307.6006014200893,7738.388040270521,3127.438041285095,182500.0919158216,0.0,159.76515746603084,359.4211584426887,1602.835821431866,143.11670724759387,534.5812343586349,1083.9383332896873,0.0,1095.6628038111976,35334.56599381076,330.0789662037775,2110.8988499425564,498.72899962453624,22.3220892274211,2.459155796153193,4803.995009666966,41.89756741345432,2238.0566627475164,2.0477124618031923,34928.3635724047,489.67901205506456,8374.784954128541,4545.043995966031,19.252676509170296,24.442441576972392,132.0551829001635,104113.43464253323],\"type\":\"choropleth\"}],\"name\":\"2015\"},{\"data\":[{\"coloraxis\":\"coloraxis\",\"geo\":\"geo\",\"hovertemplate\":\"Year=2016\\u003cbr\\u003eIso3_code=%{location}\\u003cbr\\u003eValue=%{z}\\u003cextra\\u003e\\u003c\\u002fextra\\u003e\",\"locations\":[\"ALB\",\"ARE\",\"ARM\",\"ATG\",\"AUT\",\"AZE\",\"BEL\",\"BGR\",\"BIH\",\"BLR\",\"BRB\",\"CAN\",\"CHE\",\"COL\",\"CRI\",\"CZE\",\"DEU\",\"DMA\",\"DNK\",\"DOM\",\"ECU\",\"ESP\",\"EST\",\"FIN\",\"FRA\",\"GRC\",\"GRD\",\"GUY\",\"HND\",\"HRV\",\"ITA\",\"JAM\",\"JPN\",\"LBN\",\"LTU\",\"LVA\",\"MAC\",\"MCO\",\"MDA\",\"MDV\",\"MEX\",\"MKD\",\"MLT\",\"MNG\",\"NLD\",\"OMN\",\"PER\",\"PHL\",\"POL\",\"PRI\",\"PRT\",\"RUS\",\"SEN\",\"SGP\",\"SLV\",\"SRB\",\"SVK\",\"SVN\",\"SWE\",\"UGA\"],\"name\":\"\",\"z\":[139.68577049512626,1016.1737893366027,76.58214447098315,0.0,12006.878414287115,4.0400952342002725,3648.9612301530215,172.34613009291365,10.287274927276352,273.79148052504553,0.0,12505.532761846724,1681.849758112424,17880.464864747282,9.181994477478689,3042.6295316753854,188652.86037084527,0.0,349.0103135578831,355.34359462258794,1417.5707759654517,73814.49095335678,128.04306169191887,599.7184081289572,10404.233959295612,1042.6095329543723,0.0,0.0,1163.1659927629782,1526.3003763716185,42700.90980304657,1.0356799310378293,755.5945169411264,192.01983504350798,971.007646384704,4.202688048904572,251.6264531741048,18.4878137602676,11.341072262980356,6.10070940721295,340.27979112637837,73.3172274044686,234.2653275034477,25.825203701533724,1885.9492215979383,2.045474492220451,14.044968680759274,315.3003568038592,35395.62227879898,5.145656197190525,608.8358116176782,6342.367746413136,81.54910202498658,5109.921199355805,2.0319973890130565,24.32028663518605,43.791721319987246,136.22003617190265,129092.07444473033,106.27356039551569],\"type\":\"choropleth\"}],\"name\":\"2016\"},{\"data\":[{\"coloraxis\":\"coloraxis\",\"geo\":\"geo\",\"hovertemplate\":\"Year=2017\\u003cbr\\u003eIso3_code=%{location}\\u003cbr\\u003eValue=%{z}\\u003cextra\\u003e\\u003c\\u002fextra\\u003e\",\"locations\":[\"ALB\",\"ARM\",\"ATG\",\"AUT\",\"AZE\",\"BEL\",\"BEN\",\"BGR\",\"BHS\",\"BLR\",\"BRB\",\"CAN\",\"CHE\",\"CHL\",\"COL\",\"CRI\",\"CZE\",\"DEU\",\"DMA\",\"DNK\",\"ECU\",\"ESP\",\"EST\",\"FIN\",\"FRA\",\"GRC\",\"GRD\",\"HRV\",\"ITA\",\"JAM\",\"KAZ\",\"KNA\",\"LBN\",\"LTU\",\"LVA\",\"MAC\",\"MAR\",\"MDA\",\"MDV\",\"MEX\",\"MKD\",\"MLT\",\"MNE\",\"MNG\",\"NLD\",\"OMN\",\"PER\",\"PHL\",\"POL\",\"PRI\",\"PRT\",\"PRY\",\"ROU\",\"RUS\",\"SGP\",\"SLV\",\"SRB\",\"SVK\",\"SVN\",\"SWE\",\"UKR\",\"VCT\"],\"name\":\"\",\"z\":[159.34842004546158,99.366149787354,0.0,3414.3745556690224,7.069502590808362,3919.1253758402877,187.60389363287857,180.4782702342063,130.0638564482983,496.05774898649304,16.29819440016906,14828.454831802772,1776.7769170817612,1777.6251331826086,10917.532830354508,2685.724936031216,3307.1072559383665,191517.51279790635,0.0,469.0351594874579,1400.3368549358493,97617.1010744637,130.18371916338594,580.3483208487802,10048.641348204083,1298.0274266478955,0.0,1157.976956527028,55600.50711685508,43.49552624007612,79.43134481191018,0.0,336.41801189409114,1116.1498906849833,6.306926879274917,272.9553200784831,0.0,14.440181530863327,3.6349985818365003,304.2474778869146,45.03600509285367,225.999201246306,1.1581182661383411,521.3112114546694,2328.453672120237,37.81464529683252,598.8889125169943,529.4956037325687,37160.188152580195,94.73288323934591,725.9754829721572,2.0314692818898687,979.9495267567102,4298.953540803166,5294.276897146268,6.095744859099471,13.174148814180535,52.955984804989214,185.4350302517356,135460.51030354368,2578.761661536892,0.0],\"type\":\"choropleth\"}],\"name\":\"2017\"},{\"data\":[{\"coloraxis\":\"coloraxis\",\"geo\":\"geo\",\"hovertemplate\":\"Year=2018\\u003cbr\\u003eIso3_code=%{location}\\u003cbr\\u003eValue=%{z}\\u003cextra\\u003e\\u003c\\u002fextra\\u003e\",\"locations\":[\"ALB\",\"ARM\",\"ATG\",\"AUT\",\"AZE\",\"BEL\",\"BGR\",\"BHS\",\"BIH\",\"BLR\",\"BRB\",\"CAN\",\"CHE\",\"CHL\",\"COL\",\"CRI\",\"CYP\",\"CZE\",\"DEU\",\"DNK\",\"DZA\",\"ECU\",\"ESP\",\"EST\",\"FIN\",\"FRA\",\"GRC\",\"GTM\",\"GUY\",\"HRV\",\"IRL\",\"ISR\",\"ITA\",\"KNA\",\"LTU\",\"LVA\",\"MAC\",\"MDA\",\"MEX\",\"MLT\",\"MNE\",\"MNG\",\"MYS\",\"NLD\",\"OMN\",\"PAN\",\"PER\",\"PHL\",\"POL\",\"PRT\",\"PRY\",\"QAT\",\"ROU\",\"RUS\",\"SGP\",\"SLV\",\"SRB\",\"SVK\",\"SVN\",\"SWE\",\"VCT\"],\"name\":\"\",\"z\":[131.41430052627499,52.79795435099665,0.0,4026.0313234084947,4.0393990773918045,5508.700172143379,181.5149523753725,182.3268571172648,51.47053244156325,947.6745174653919,16.29048745300575,18343.396178030802,2367.4827428341096,2132.341365972084,21461.464530138852,2976.9082332057196,0.0,3670.514859757752,217002.45915393298,495.44505839228975,88.20988858088535,1937.3189769995565,139389.2556680203,202.2192855867876,926.4990741481084,9825.26187700738,1743.2414745189885,22.130562434481398,0.0,1358.8953198965985,37.76533139780333,996.6478682686408,72273.50117184396,0.0,1103.0637189999889,17.878266570436203,327.6257951338805,6.190971078385034,644.5192967863544,273.1770676951744,1.158364537745792,624.1214197511939,353.0864441645479,2957.007941030807,108.3037683782579,96.25676459184372,2092.4774674803807,612.5636976710333,39506.29104262593,627.0350821951955,13.20175909095424,11.397580972786667,1148.8296151898044,8384.752741565146,6057.415721148563,1.0159328449703913,29.390109093335347,116.09299277036234,229.3992356799201,174367.1038837869,0.0],\"type\":\"choropleth\"}],\"name\":\"2018\"},{\"data\":[{\"coloraxis\":\"coloraxis\",\"geo\":\"geo\",\"hovertemplate\":\"Year=2019\\u003cbr\\u003eIso3_code=%{location}\\u003cbr\\u003eValue=%{z}\\u003cextra\\u003e\\u003c\\u002fextra\\u003e\",\"locations\":[\"ALB\",\"ARE\",\"ATG\",\"AUT\",\"AZE\",\"BEL\",\"BGR\",\"BHS\",\"BIH\",\"BLR\",\"BLZ\",\"BRB\",\"CAN\",\"CHE\",\"CHL\",\"COL\",\"CRI\",\"CYP\",\"CZE\",\"DEU\",\"DMA\",\"DNK\",\"DOM\",\"DZA\",\"ECU\",\"ESP\",\"EST\",\"FIN\",\"FRA\",\"GEO\",\"GRC\",\"GTM\",\"GUY\",\"HRV\",\"IRL\",\"ISL\",\"ISR\",\"ITA\",\"KNA\",\"LIE\",\"LTU\",\"LVA\",\"MAC\",\"MDA\",\"MEX\",\"MLT\",\"MNE\",\"MNG\",\"MYS\",\"NLD\",\"PAN\",\"PER\",\"PHL\",\"POL\",\"PRT\",\"PRY\",\"QAT\",\"ROU\",\"RUS\",\"SAU\",\"SGP\",\"SLV\",\"SRB\",\"SVK\",\"SVN\",\"VCT\"],\"name\":\"\",\"z\":[135.55829114884247,252.71395254947075,0.0,12727.73519190445,10.09772541172449,6456.609766607521,165.3112266629914,199.5494330835951,68.99362516038268,2227.793121873117,0.0,8.14148429845867,25150.850404896144,1866.5145571925148,1712.9498214395073,10006.899414209624,5362.431348253881,0.0,5051.490379259649,230955.4301352089,0.0,47.81092114085217,5104.480926141184,126.29504486894845,2240.8461327922273,194339.46266652283,195.7147438771581,1463.0253621410127,11269.472115074219,1853.8942063126474,876.2087954406005,28.163682022417657,0.0,1853.8282976798607,207.14622573972852,149.43022996359218,1011.6172083383675,93614.47285427529,0.0,118.7543786705473,935.7295073537696,5.2608846284689825,441.86160678969793,21.67535168939225,526.4205130049203,224.1301012936961,4.634521792650968,176.29013776013713,324.9876838265554,4887.990132268925,111.57529062981685,7485.73581600239,723.6550051886286,52530.11093438621,898.6492386774906,20.30627744724486,15.534333605843473,1098.5981775652804,21699.879003511178,2356.559232577604,9201.217105706135,31.493613516857778,40.540463414950516,144.60362997357498,581.2671908115,1.953075335839922],\"type\":\"choropleth\"}],\"name\":\"2019\"},{\"data\":[{\"coloraxis\":\"coloraxis\",\"geo\":\"geo\",\"hovertemplate\":\"Year=2020\\u003cbr\\u003eIso3_code=%{location}\\u003cbr\\u003eValue=%{z}\\u003cextra\\u003e\\u003c\\u002fextra\\u003e\",\"locations\":[\"ALB\",\"ARE\",\"ATG\",\"AUT\",\"AZE\",\"BEL\",\"BGR\",\"BHS\",\"BIH\",\"BLZ\",\"BRB\",\"CAN\",\"CHE\",\"CHL\",\"COL\",\"CRI\",\"CYP\",\"CZE\",\"DEU\",\"DMA\",\"DNK\",\"DOM\",\"DZA\",\"ECU\",\"ESP\",\"EST\",\"FIN\",\"FRA\",\"GRC\",\"GRD\",\"GTM\",\"GUY\",\"HRV\",\"IRL\",\"ISL\",\"ISR\",\"ITA\",\"JPN\",\"KNA\",\"LIE\",\"LTU\",\"LVA\",\"MAC\",\"MAR\",\"MEX\",\"MLT\",\"MNE\",\"MNG\",\"MUS\",\"MYS\",\"NLD\",\"OMN\",\"PAN\",\"PER\",\"POL\",\"PRT\",\"QAT\",\"ROU\",\"RUS\",\"SGP\",\"SLV\",\"SRB\",\"SVK\",\"SVN\",\"VCT\"],\"name\":\"\",\"z\":[229.7436935115871,232.47650310009735,0.0,23090.337804594794,11.1069523812024,9430.870341316951,198.80835485569568,265.40219794007703,109.19430281026322,0.0,14.91887221982736,35398.180804147305,2022.1402888403497,1260.4973032823557,72697.45838504007,4145.365931402928,0.0,5145.400173431581,248293.61071861332,0.0,547.2350352519147,3690.246470073995,151.34751256718212,2943.641464730897,256256.8995904193,263.428756683245,4338.059854582755,13646.130565758065,1618.2489024214838,0.0,357.04461063961236,0.0,1001.8718826811688,145.8911556717499,146.3634367781296,1440.2603668402703,116802.97624419756,2808.2404130740447,0.0,225.55547528124686,1033.3867204771748,5.263566839496229,583.1164823010486,35.09539703318497,475.3769892073625,322.39076525444455,3.476911520990068,451.2955513024632,395.2780152685872,244.73493991399334,11329.613051847944,307.62499595567107,316.1954223142388,9211.57564114867,55148.13644917568,1044.0405974174885,9.326041476098442,1161.9458784132673,26592.2492016455,15435.841521048686,78.2236340628576,28.380537931137585,126.27244363377665,476.4861725854382,0.0],\"type\":\"choropleth\"}],\"name\":\"2020\"},{\"data\":[{\"coloraxis\":\"coloraxis\",\"geo\":\"geo\",\"hovertemplate\":\"Year=2021\\u003cbr\\u003eIso3_code=%{location}\\u003cbr\\u003eValue=%{z}\\u003cextra\\u003e\\u003c\\u002fextra\\u003e\",\"locations\":[\"ALB\",\"ARE\",\"AUT\",\"AZE\",\"BEL\",\"BGR\",\"BHS\",\"BIH\",\"BLZ\",\"BRB\",\"CAN\",\"CHE\",\"CHL\",\"COL\",\"CRI\",\"CYP\",\"CZE\",\"DEU\",\"DMA\",\"DNK\",\"DZA\",\"ECU\",\"ESP\",\"EST\",\"FIN\",\"FRA\",\"GRC\",\"GRD\",\"GTM\",\"GUY\",\"HND\",\"HRV\",\"IRL\",\"ISL\",\"ISR\",\"ITA\",\"JPN\",\"KGZ\",\"KNA\",\"LIE\",\"LTU\",\"LVA\",\"MAC\",\"MAR\",\"MEX\",\"MLT\",\"MNE\",\"MNG\",\"MUS\",\"MYS\",\"NLD\",\"OMN\",\"PAN\",\"PER\",\"POL\",\"PRT\",\"PRY\",\"QAT\",\"ROU\",\"SGP\",\"SLV\",\"SRB\",\"SVK\",\"SVN\",\"SWZ\",\"VCT\"],\"name\":\"\",\"z\":[381.9260064945301,157.6657510374906,27555.421985585876,7.067875549598021,8582.281304095452,239.4273093820561,174.3216749958017,148.4024001641117,1.249980626501446,0.0,40365.51693706714,2578.327817693959,1563.9822768829208,29034.24987164322,8191.919034636881,0.0,7071.646046509902,268340.3327457837,0.0,641.7785108265956,213.4821407702106,6016.6166333955825,199740.73860810348,256.987493047721,5539.284101566621,15920.63295258045,4184.682672649544,0.0,341.9308874063207,3.372871370563297,111.07021110205864,1231.60491963816,219.31161895074848,186.6937907570173,901.0111695888758,141840.02804052577,1517.2165710686031,4.0612769128201105,0.0,609.0179049424302,1890.490798811907,18.960553791279132,712.5903959615908,125.33714000358987,801.6321764157661,400.977461708445,18.548344889811954,311.02089532087354,368.3296674532206,391.16161751247415,14668.3347808121,2.04424317731493,715.0642865629711,8097.947462458778,84255.37089139668,867.3478270334126,909.3655558587004,5.185995643982018,1381.1086516533048,21404.313817010127,175.7398700826459,10.137046958729268,116.09265620852548,711.037217904983,0.0,3.91695740520646],\"type\":\"choropleth\"}],\"name\":\"2021\"},{\"data\":[{\"coloraxis\":\"coloraxis\",\"geo\":\"geo\",\"hovertemplate\":\"Year=2022\\u003cbr\\u003eIso3_code=%{location}\\u003cbr\\u003eValue=%{z}\\u003cextra\\u003e\\u003c\\u002fextra\\u003e\",\"locations\":[\"ALB\",\"ATG\",\"AUT\",\"BGR\",\"BHS\",\"BIH\",\"BLZ\",\"BRB\",\"CAN\",\"CHL\",\"CRI\",\"CZE\",\"DEU\",\"DMA\",\"DZA\",\"ECU\",\"ESP\",\"FIN\",\"GRC\",\"GRD\",\"GUY\",\"HRV\",\"IRL\",\"ISL\",\"ITA\",\"KNA\",\"LIE\",\"LTU\",\"MAC\",\"MAR\",\"MEX\",\"MNE\",\"OMN\",\"PER\",\"POL\",\"PRY\",\"SGP\",\"SLV\",\"SRB\",\"SVK\",\"SVN\",\"THA\",\"VCT\"],\"name\":\"\",\"z\":[149.06628209832738,0.0,18661.44061149376,161.3444574151428,130.6107555416797,64.94833721016359,1.246747558741341,0.0,41447.50415681439,432.19345978646004,12934.941494884313,8790.980861609687,243649.90171318903,0.0,181.40308908769916,3094.093494805844,234423.8812893883,5054.608880249057,5660.991484424944,0.0,0.0,1460.356665010486,101.99079912369004,142.0349827097722,101870.2600800976,0.0,651.8719454827469,2639.616329491592,711.4747100882736,41.10945601017012,1035.811738440573,5.797343252283392,678.509544614446,12005.154609871423,89088.96127553842,1357.7323479547376,25016.751716977884,173.6986966715443,1.013847796514385,54.956860985641235,793.7573481822247,10157.147029619964,1.962024098703673],\"type\":\"choropleth\"}],\"name\":\"2022\"}]);\n",
              "                        }).then(function(){\n",
              "                            \n",
              "var gd = document.getElementById('67628378-6324-4778-b28a-198e24166312');\n",
              "var x = new MutationObserver(function (mutations, observer) {{\n",
              "        var display = window.getComputedStyle(gd).display;\n",
              "        if (!display || display === 'none') {{\n",
              "            console.log([gd, 'removed!']);\n",
              "            Plotly.purge(gd);\n",
              "            observer.disconnect();\n",
              "        }}\n",
              "}});\n",
              "\n",
              "// Listen for the removal of the full notebook cells\n",
              "var notebookContainer = gd.closest('#notebook-container');\n",
              "if (notebookContainer) {{\n",
              "    x.observe(notebookContainer, {childList: true});\n",
              "}}\n",
              "\n",
              "// Listen for the clearing of the current output cell\n",
              "var outputEl = gd.closest('.output');\n",
              "if (outputEl) {{\n",
              "    x.observe(outputEl, {childList: true});\n",
              "}}\n",
              "\n",
              "                        })                };                            </script>        </div>\n",
              "</body>\n",
              "</html>"
            ]
          },
          "metadata": {}
        }
      ]
    },
    {
      "cell_type": "markdown",
      "source": [
        "## Cybercrime category"
      ],
      "metadata": {
        "id": "5SiTymTiPQOW"
      }
    },
    {
      "cell_type": "code",
      "source": [
        "df_final_clean.groupby(\"Category\")[\"Value\"].sum().plot(kind=\"bar\", title=\"Cybercrime by Category\")"
      ],
      "metadata": {
        "colab": {
          "base_uri": "https://localhost:8080/",
          "height": 924
        },
        "id": "z3afRofDQBxV",
        "outputId": "1dd5c81a-1f2b-4eb8-8a53-bac013a46448"
      },
      "execution_count": 44,
      "outputs": [
        {
          "output_type": "execute_result",
          "data": {
            "text/plain": [
              "<Axes: title={'center': 'Cybercrime by Category'}, xlabel='Category'>"
            ]
          },
          "metadata": {},
          "execution_count": 44
        },
        {
          "output_type": "display_data",
          "data": {
            "text/plain": [
              "<Figure size 640x480 with 1 Axes>"
            ],
            "image/png": "[encoded data removed]"
          },
          "metadata": {}
        }
      ]
    },
    {
      "cell_type": "markdown",
      "source": [
        "## Geographical analysis"
      ],
      "metadata": {
        "id": "9cskejGLPUVL"
      }
    },
    {
      "cell_type": "code",
      "source": [
        "sns.boxplot(data=df_final_clean, x=\"Region\", y=\"Value\")\n",
        "plt.title(\"Distribution of Cybercrime Reports by Region\")"
      ],
      "metadata": {
        "colab": {
          "base_uri": "https://localhost:8080/",
          "height": 490
        },
        "id": "o6N2fhNZPdJp",
        "outputId": "4b76948a-be85-4a5c-be95-1959b84aed2a"
      },
      "execution_count": 45,
      "outputs": [
        {
          "output_type": "execute_result",
          "data": {
            "text/plain": [
              "Text(0.5, 1.0, 'Distribution of Cybercrime Reports by Region')"
            ]
          },
          "metadata": {},
          "execution_count": 45
        },
        {
          "output_type": "display_data",
          "data": {
            "text/plain": [
              "<Figure size 640x480 with 1 Axes>"
            ],
            "image/png": "[encoded data removed]"
          },
          "metadata": {}
        }
      ]
    },
    {
      "cell_type": "code",
      "source": [
        "import plotly.express as px\n",
        "\n",
        "# Aggregate by country\n",
        "country_totals = df_final_clean.groupby(\"Iso3_code\")[\"Value\"].sum().reset_index()\n",
        "\n",
        "# Plot\n",
        "fig = px.choropleth(\n",
        "    country_totals,\n",
        "    locations=\"Iso3_code\",\n",
        "    color=\"Value\",\n",
        "    color_continuous_scale=\"Reds\",\n",
        "    projection=\"natural earth\",\n",
        "    title=\"Total Reported Cybercrime by Country\"\n",
        ")\n",
        "fig.show()"
      ],
      "metadata": {
        "colab": {
          "base_uri": "https://localhost:8080/",
          "height": 542
        },
        "id": "TY3_OrVMQczN",
        "outputId": "9f7e9aaa-d51d-4b6a-b87a-0025348a7b93"
      },
      "execution_count": 46,
      "outputs": [
        {
          "output_type": "display_data",
          "data": {
            "text/html": [
              "<html>\n",
              "<head><meta charset=\"utf-8\" /></head>\n",
              "<body>\n",
              "    <div>            <script src=\"https://cdnjs.cloudflare.com/ajax/libs/mathjax/2.7.5/MathJax.js?config=TeX-AMS-MML_SVG\"></script><script type=\"text/javascript\">if (window.MathJax && window.MathJax.Hub && window.MathJax.Hub.Config) {window.MathJax.Hub.Config({SVG: {font: \"STIX-Web\"}});}</script>                <script type=\"text/javascript\">window.PlotlyConfig = {MathJaxConfig: 'local'};</script>\n",
              "        <script charset=\"utf-8\" src=\"https://cdn.plot.ly/plotly-2.35.2.min.js\"></script>                <div id=\"c1dab237-c531-41ba-98c5-a0e954362434\" class=\"plotly-graph-div\" style=\"height:525px; width:100%;\"></div>            <script type=\"text/javascript\">                                    window.PLOTLYENV=window.PLOTLYENV || {};                                    if (document.getElementById(\"c1dab237-c531-41ba-98c5-a0e954362434\")) {                    Plotly.newPlot(                        \"c1dab237-c531-41ba-98c5-a0e954362434\",                        [{\"coloraxis\":\"coloraxis\",\"geo\":\"geo\",\"hovertemplate\":\"Iso3_code=%{location}\\u003cbr\\u003eValue=%{z}\\u003cextra\\u003e\\u003c\\u002fextra\\u003e\",\"locations\":[\"ALB\",\"ARE\",\"ARM\",\"ATG\",\"AUT\",\"AZE\",\"BEL\",\"BEN\",\"BGR\",\"BHS\",\"BIH\",\"BLR\",\"BLZ\",\"BRB\",\"CAN\",\"CHE\",\"CHL\",\"COL\",\"CRI\",\"CYP\",\"CZE\",\"DEU\",\"DMA\",\"DNK\",\"DOM\",\"DZA\",\"ECU\",\"ESP\",\"EST\",\"FIN\",\"FRA\",\"GEO\",\"GRC\",\"GRD\",\"GTM\",\"GUY\",\"HND\",\"HRV\",\"IRL\",\"ISL\",\"ISR\",\"ITA\",\"JAM\",\"JPN\",\"KAZ\",\"KGZ\",\"KNA\",\"LBN\",\"LIE\",\"LTU\",\"LVA\",\"MAC\",\"MAR\",\"MCO\",\"MDA\",\"MDV\",\"MEX\",\"MKD\",\"MLT\",\"MNE\",\"MNG\",\"MUS\",\"MYS\",\"NLD\",\"OMN\",\"PAN\",\"PER\",\"PHL\",\"POL\",\"PRI\",\"PRT\",\"PRY\",\"QAT\",\"ROU\",\"RUS\",\"SAU\",\"SEN\",\"SGP\",\"SLV\",\"SRB\",\"SVK\",\"SVN\",\"SWE\",\"SWZ\",\"THA\",\"TUR\",\"UGA\",\"UKR\",\"VCT\"],\"name\":\"\",\"z\":[1426.0732285972779,1659.0299960236614,381.87114618322596,0.0,123511.74442622614,43.42155024492535,44174.12757148435,187.60389363287857,1299.2307010183783,1082.2747751267166,453.2964727137608,3945.3168688500477,2.496728185242787,55.64903837146084,212705.8587971904,14796.116598001563,8879.589360545937,184540.2534607673,36306.47297289242,0.0,43773.21710270265,2135480.499829555,0.0,2900.389508157205,10421.332828023109,760.7376758749257,20653.260155057276,1195581.8298502748,1360.5845431364016,19484.18171929574,71114.37281791981,1853.8942063126474,17648.22819886108,0.0,749.2697425028322,3.372871370563297,4842.935899331926,9590.834417804921,712.1051308837203,624.5224402085113,4349.536613036154,723157.6941142682,44.53120617111394,5081.051501083774,79.43134481191018,4.0612769128201105,0.0,1038.3378256362307,1605.1997043769713,15183.311362748589,57.87288675786004,4637.700220861632,201.54199304694495,63.4257988614079,53.647576561620966,17.15469946133489,8932.282992535236,239.86075216915796,1680.9399247015137,34.77360425962051,2109.864419290871,763.6076827218078,1313.9706854175708,42352.467455051315,1145.56497983886,1239.0917640988705,39505.824878159394,2181.01466339609,468048.51783735224,99.87853943653643,5605.839260774244,2302.637409633527,41.4439516987106,5770.431849578367,79113.35719665843,2356.559232577604,81.54910202498658,95092.37392337066,468.2994894269885,193.56634285582987,1000.0249517581672,3541.255354397055,690321.9630002716,0.0,10157.147029619964,37076.9230241686,106.27356039551569,2578.761661536892,7.832056839750055],\"type\":\"choropleth\"}],                        {\"template\":{\"data\":{\"histogram2dcontour\":[{\"type\":\"histogram2dcontour\",\"colorbar\":{\"outlinewidth\":0,\"ticks\":\"\"},\"colorscale\":[[0.0,\"#0d0887\"],[0.1111111111111111,\"#46039f\"],[0.2222222222222222,\"#7201a8\"],[0.3333333333333333,\"#9c179e\"],[0.4444444444444444,\"#bd3786\"],[0.5555555555555556,\"#d8576b\"],[0.6666666666666666,\"#ed7953\"],[0.7777777777777778,\"#fb9f3a\"],[0.8888888888888888,\"#fdca26\"],[1.0,\"#f0f921\"]]}],\"choropleth\":[{\"type\":\"choropleth\",\"colorbar\":{\"outlinewidth\":0,\"ticks\":\"\"}}],\"histogram2d\":[{\"type\":\"histogram2d\",\"colorbar\":{\"outlinewidth\":0,\"ticks\":\"\"},\"colorscale\":[[0.0,\"#0d0887\"],[0.1111111111111111,\"#46039f\"],[0.2222222222222222,\"#7201a8\"],[0.3333333333333333,\"#9c179e\"],[0.4444444444444444,\"#bd3786\"],[0.5555555555555556,\"#d8576b\"],[0.6666666666666666,\"#ed7953\"],[0.7777777777777778,\"#fb9f3a\"],[0.8888888888888888,\"#fdca26\"],[1.0,\"#f0f921\"]]}],\"heatmap\":[{\"type\":\"heatmap\",\"colorbar\":{\"outlinewidth\":0,\"ticks\":\"\"},\"colorscale\":[[0.0,\"#0d0887\"],[0.1111111111111111,\"#46039f\"],[0.2222222222222222,\"#7201a8\"],[0.3333333333333333,\"#9c179e\"],[0.4444444444444444,\"#bd3786\"],[0.5555555555555556,\"#d8576b\"],[0.6666666666666666,\"#ed7953\"],[0.7777777777777778,\"#fb9f3a\"],[0.8888888888888888,\"#fdca26\"],[1.0,\"#f0f921\"]]}],\"heatmapgl\":[{\"type\":\"heatmapgl\",\"colorbar\":{\"outlinewidth\":0,\"ticks\":\"\"},\"colorscale\":[[0.0,\"#0d0887\"],[0.1111111111111111,\"#46039f\"],[0.2222222222222222,\"#7201a8\"],[0.3333333333333333,\"#9c179e\"],[0.4444444444444444,\"#bd3786\"],[0.5555555555555556,\"#d8576b\"],[0.6666666666666666,\"#ed7953\"],[0.7777777777777778,\"#fb9f3a\"],[0.8888888888888888,\"#fdca26\"],[1.0,\"#f0f921\"]]}],\"contourcarpet\":[{\"type\":\"contourcarpet\",\"colorbar\":{\"outlinewidth\":0,\"ticks\":\"\"}}],\"contour\":[{\"type\":\"contour\",\"colorbar\":{\"outlinewidth\":0,\"ticks\":\"\"},\"colorscale\":[[0.0,\"#0d0887\"],[0.1111111111111111,\"#46039f\"],[0.2222222222222222,\"#7201a8\"],[0.3333333333333333,\"#9c179e\"],[0.4444444444444444,\"#bd3786\"],[0.5555555555555556,\"#d8576b\"],[0.6666666666666666,\"#ed7953\"],[0.7777777777777778,\"#fb9f3a\"],[0.8888888888888888,\"#fdca26\"],[1.0,\"#f0f921\"]]}],\"surface\":[{\"type\":\"surface\",\"colorbar\":{\"outlinewidth\":0,\"ticks\":\"\"},\"colorscale\":[[0.0,\"#0d0887\"],[0.1111111111111111,\"#46039f\"],[0.2222222222222222,\"#7201a8\"],[0.3333333333333333,\"#9c179e\"],[0.4444444444444444,\"#bd3786\"],[0.5555555555555556,\"#d8576b\"],[0.6666666666666666,\"#ed7953\"],[0.7777777777777778,\"#fb9f3a\"],[0.8888888888888888,\"#fdca26\"],[1.0,\"#f0f921\"]]}],\"mesh3d\":[{\"type\":\"mesh3d\",\"colorbar\":{\"outlinewidth\":0,\"ticks\":\"\"}}],\"scatter\":[{\"fillpattern\":{\"fillmode\":\"overlay\",\"size\":10,\"solidity\":0.2},\"type\":\"scatter\"}],\"parcoords\":[{\"type\":\"parcoords\",\"line\":{\"colorbar\":{\"outlinewidth\":0,\"ticks\":\"\"}}}],\"scatterpolargl\":[{\"type\":\"scatterpolargl\",\"marker\":{\"colorbar\":{\"outlinewidth\":0,\"ticks\":\"\"}}}],\"bar\":[{\"error_x\":{\"color\":\"#2a3f5f\"},\"error_y\":{\"color\":\"#2a3f5f\"},\"marker\":{\"line\":{\"color\":\"#E5ECF6\",\"width\":0.5},\"pattern\":{\"fillmode\":\"overlay\",\"size\":10,\"solidity\":0.2}},\"type\":\"bar\"}],\"scattergeo\":[{\"type\":\"scattergeo\",\"marker\":{\"colorbar\":{\"outlinewidth\":0,\"ticks\":\"\"}}}],\"scatterpolar\":[{\"type\":\"scatterpolar\",\"marker\":{\"colorbar\":{\"outlinewidth\":0,\"ticks\":\"\"}}}],\"histogram\":[{\"marker\":{\"pattern\":{\"fillmode\":\"overlay\",\"size\":10,\"solidity\":0.2}},\"type\":\"histogram\"}],\"scattergl\":[{\"type\":\"scattergl\",\"marker\":{\"colorbar\":{\"outlinewidth\":0,\"ticks\":\"\"}}}],\"scatter3d\":[{\"type\":\"scatter3d\",\"line\":{\"colorbar\":{\"outlinewidth\":0,\"ticks\":\"\"}},\"marker\":{\"colorbar\":{\"outlinewidth\":0,\"ticks\":\"\"}}}],\"scattermapbox\":[{\"type\":\"scattermapbox\",\"marker\":{\"colorbar\":{\"outlinewidth\":0,\"ticks\":\"\"}}}],\"scatterternary\":[{\"type\":\"scatterternary\",\"marker\":{\"colorbar\":{\"outlinewidth\":0,\"ticks\":\"\"}}}],\"scattercarpet\":[{\"type\":\"scattercarpet\",\"marker\":{\"colorbar\":{\"outlinewidth\":0,\"ticks\":\"\"}}}],\"carpet\":[{\"aaxis\":{\"endlinecolor\":\"#2a3f5f\",\"gridcolor\":\"white\",\"linecolor\":\"white\",\"minorgridcolor\":\"white\",\"startlinecolor\":\"#2a3f5f\"},\"baxis\":{\"endlinecolor\":\"#2a3f5f\",\"gridcolor\":\"white\",\"linecolor\":\"white\",\"minorgridcolor\":\"white\",\"startlinecolor\":\"#2a3f5f\"},\"type\":\"carpet\"}],\"table\":[{\"cells\":{\"fill\":{\"color\":\"#EBF0F8\"},\"line\":{\"color\":\"white\"}},\"header\":{\"fill\":{\"color\":\"#C8D4E3\"},\"line\":{\"color\":\"white\"}},\"type\":\"table\"}],\"barpolar\":[{\"marker\":{\"line\":{\"color\":\"#E5ECF6\",\"width\":0.5},\"pattern\":{\"fillmode\":\"overlay\",\"size\":10,\"solidity\":0.2}},\"type\":\"barpolar\"}],\"pie\":[{\"automargin\":true,\"type\":\"pie\"}]},\"layout\":{\"autotypenumbers\":\"strict\",\"colorway\":[\"#636efa\",\"#EF553B\",\"#00cc96\",\"#ab63fa\",\"#FFA15A\",\"#19d3f3\",\"#FF6692\",\"#B6E880\",\"#FF97FF\",\"#FECB52\"],\"font\":{\"color\":\"#2a3f5f\"},\"hovermode\":\"closest\",\"hoverlabel\":{\"align\":\"left\"},\"paper_bgcolor\":\"white\",\"plot_bgcolor\":\"#E5ECF6\",\"polar\":{\"bgcolor\":\"#E5ECF6\",\"angularaxis\":{\"gridcolor\":\"white\",\"linecolor\":\"white\",\"ticks\":\"\"},\"radialaxis\":{\"gridcolor\":\"white\",\"linecolor\":\"white\",\"ticks\":\"\"}},\"ternary\":{\"bgcolor\":\"#E5ECF6\",\"aaxis\":{\"gridcolor\":\"white\",\"linecolor\":\"white\",\"ticks\":\"\"},\"baxis\":{\"gridcolor\":\"white\",\"linecolor\":\"white\",\"ticks\":\"\"},\"caxis\":{\"gridcolor\":\"white\",\"linecolor\":\"white\",\"ticks\":\"\"}},\"coloraxis\":{\"colorbar\":{\"outlinewidth\":0,\"ticks\":\"\"}},\"colorscale\":{\"sequential\":[[0.0,\"#0d0887\"],[0.1111111111111111,\"#46039f\"],[0.2222222222222222,\"#7201a8\"],[0.3333333333333333,\"#9c179e\"],[0.4444444444444444,\"#bd3786\"],[0.5555555555555556,\"#d8576b\"],[0.6666666666666666,\"#ed7953\"],[0.7777777777777778,\"#fb9f3a\"],[0.8888888888888888,\"#fdca26\"],[1.0,\"#f0f921\"]],\"sequentialminus\":[[0.0,\"#0d0887\"],[0.1111111111111111,\"#46039f\"],[0.2222222222222222,\"#7201a8\"],[0.3333333333333333,\"#9c179e\"],[0.4444444444444444,\"#bd3786\"],[0.5555555555555556,\"#d8576b\"],[0.6666666666666666,\"#ed7953\"],[0.7777777777777778,\"#fb9f3a\"],[0.8888888888888888,\"#fdca26\"],[1.0,\"#f0f921\"]],\"diverging\":[[0,\"#8e0152\"],[0.1,\"#c51b7d\"],[0.2,\"#de77ae\"],[0.3,\"#f1b6da\"],[0.4,\"#fde0ef\"],[0.5,\"#f7f7f7\"],[0.6,\"#e6f5d0\"],[0.7,\"#b8e186\"],[0.8,\"#7fbc41\"],[0.9,\"#4d9221\"],[1,\"#276419\"]]},\"xaxis\":{\"gridcolor\":\"white\",\"linecolor\":\"white\",\"ticks\":\"\",\"title\":{\"standoff\":15},\"zerolinecolor\":\"white\",\"automargin\":true,\"zerolinewidth\":2},\"yaxis\":{\"gridcolor\":\"white\",\"linecolor\":\"white\",\"ticks\":\"\",\"title\":{\"standoff\":15},\"zerolinecolor\":\"white\",\"automargin\":true,\"zerolinewidth\":2},\"scene\":{\"xaxis\":{\"backgroundcolor\":\"#E5ECF6\",\"gridcolor\":\"white\",\"linecolor\":\"white\",\"showbackground\":true,\"ticks\":\"\",\"zerolinecolor\":\"white\",\"gridwidth\":2},\"yaxis\":{\"backgroundcolor\":\"#E5ECF6\",\"gridcolor\":\"white\",\"linecolor\":\"white\",\"showbackground\":true,\"ticks\":\"\",\"zerolinecolor\":\"white\",\"gridwidth\":2},\"zaxis\":{\"backgroundcolor\":\"#E5ECF6\",\"gridcolor\":\"white\",\"linecolor\":\"white\",\"showbackground\":true,\"ticks\":\"\",\"zerolinecolor\":\"white\",\"gridwidth\":2}},\"shapedefaults\":{\"line\":{\"color\":\"#2a3f5f\"}},\"annotationdefaults\":{\"arrowcolor\":\"#2a3f5f\",\"arrowhead\":0,\"arrowwidth\":1},\"geo\":{\"bgcolor\":\"white\",\"landcolor\":\"#E5ECF6\",\"subunitcolor\":\"white\",\"showland\":true,\"showlakes\":true,\"lakecolor\":\"white\"},\"title\":{\"x\":0.05},\"mapbox\":{\"style\":\"light\"}}},\"geo\":{\"domain\":{\"x\":[0.0,1.0],\"y\":[0.0,1.0]},\"projection\":{\"type\":\"natural earth\"},\"center\":{}},\"coloraxis\":{\"colorbar\":{\"title\":{\"text\":\"Value\"}},\"colorscale\":[[0.0,\"rgb(255,245,240)\"],[0.125,\"rgb(254,224,210)\"],[0.25,\"rgb(252,187,161)\"],[0.375,\"rgb(252,146,114)\"],[0.5,\"rgb(251,106,74)\"],[0.625,\"rgb(239,59,44)\"],[0.75,\"rgb(203,24,29)\"],[0.875,\"rgb(165,15,21)\"],[1.0,\"rgb(103,0,13)\"]]},\"legend\":{\"tracegroupgap\":0},\"title\":{\"text\":\"Total Reported Cybercrime by Country\"}},                        {\"responsive\": true}                    ).then(function(){\n",
              "                            \n",
              "var gd = document.getElementById('c1dab237-c531-41ba-98c5-a0e954362434');\n",
              "var x = new MutationObserver(function (mutations, observer) {{\n",
              "        var display = window.getComputedStyle(gd).display;\n",
              "        if (!display || display === 'none') {{\n",
              "            console.log([gd, 'removed!']);\n",
              "            Plotly.purge(gd);\n",
              "            observer.disconnect();\n",
              "        }}\n",
              "}});\n",
              "\n",
              "// Listen for the removal of the full notebook cells\n",
              "var notebookContainer = gd.closest('#notebook-container');\n",
              "if (notebookContainer) {{\n",
              "    x.observe(notebookContainer, {childList: true});\n",
              "}}\n",
              "\n",
              "// Listen for the clearing of the current output cell\n",
              "var outputEl = gd.closest('.output');\n",
              "if (outputEl) {{\n",
              "    x.observe(outputEl, {childList: true});\n",
              "}}\n",
              "\n",
              "                        })                };                            </script>        </div>\n",
              "</body>\n",
              "</html>"
            ]
          },
          "metadata": {}
        }
      ]
    },
    {
      "cell_type": "code",
      "source": [
        "g = sns.FacetGrid(df_final_clean, col=\"Region\", col_wrap=2, height=4)\n",
        "g.map_dataframe(sns.lineplot, x=\"Year\", y=\"Value\")\n",
        "g.fig.suptitle(\"Cybercrime Trends by Region\", y=1.02)"
      ],
      "metadata": {
        "colab": {
          "base_uri": "https://localhost:8080/",
          "height": 855
        },
        "id": "_75VUtxPRag5",
        "outputId": "e1673197-0e82-4869-baa6-45dabaed9de6"
      },
      "execution_count": 47,
      "outputs": [
        {
          "output_type": "execute_result",
          "data": {
            "text/plain": [
              "Text(0.5, 1.02, 'Cybercrime Trends by Region')"
            ]
          },
          "metadata": {},
          "execution_count": 47
        },
        {
          "output_type": "display_data",
          "data": {
            "text/plain": [
              "<Figure size 800x800 with 4 Axes>"
            ],
            "image/png": "[encoded data removed]"
          },
          "metadata": {}
        }
      ]
    },
    {
      "cell_type": "code",
      "source": [
        "sns.violinplot(data=df_final_clean, x=\"Region\", y=\"Value\", inner=\"quartile\")\n",
        "plt.title(\"Distribution of Cybercrime Reports by Region\")"
      ],
      "metadata": {
        "colab": {
          "base_uri": "https://localhost:8080/",
          "height": 490
        },
        "id": "jvqYxnihRJQ8",
        "outputId": "cb245bbf-0ce2-4085-a4ff-2220241160d6"
      },
      "execution_count": 48,
      "outputs": [
        {
          "output_type": "execute_result",
          "data": {
            "text/plain": [
              "Text(0.5, 1.0, 'Distribution of Cybercrime Reports by Region')"
            ]
          },
          "metadata": {},
          "execution_count": 48
        },
        {
          "output_type": "display_data",
          "data": {
            "text/plain": [
              "<Figure size 640x480 with 1 Axes>"
            ],
            "image/png": "[encoded data removed]"
          },
          "metadata": {}
        }
      ]
    },
    {
      "cell_type": "markdown",
      "source": [
        "## Correlations"
      ],
      "metadata": {
        "id": "jb3GK9O4PaHw"
      }
    },
    {
      "cell_type": "code",
      "source": [
        "sns.heatmap(df_final_clean[[\"Value\", \"Internet_Usage\",\n",
        "                            \"Secure Internet servers (per 1 million people)\"]].corr(), annot=True)\n"
      ],
      "metadata": {
        "colab": {
          "base_uri": "https://localhost:8080/",
          "height": 755
        },
        "id": "UuvwzsMyPcCc",
        "outputId": "f711bd7f-680d-455f-87fa-6b5f6ab491de"
      },
      "execution_count": 49,
      "outputs": [
        {
          "output_type": "execute_result",
          "data": {
            "text/plain": [
              "<Axes: >"
            ]
          },
          "metadata": {},
          "execution_count": 49
        },
        {
          "output_type": "display_data",
          "data": {
            "text/plain": [
              "<Figure size 640x480 with 2 Axes>"
            ],
            "image/png": "[encoded data removed]"
          },
          "metadata": {}
        }
      ]
    },
    {
      "cell_type": "code",
      "source": [
        "sns.scatterplot(data=df_final_clean, x=\"Internet_Usage\", y=\"Value\", hue=\"Region\")\n",
        "plt.title(\"Cybercrime vs. Internet Usage\")"
      ],
      "metadata": {
        "colab": {
          "base_uri": "https://localhost:8080/",
          "height": 490
        },
        "id": "FEj00BPjPwBC",
        "outputId": "87b6acca-a1f0-4294-e229-18599694f78f"
      },
      "execution_count": 50,
      "outputs": [
        {
          "output_type": "execute_result",
          "data": {
            "text/plain": [
              "Text(0.5, 1.0, 'Cybercrime vs. Internet Usage')"
            ]
          },
          "metadata": {},
          "execution_count": 50
        },
        {
          "output_type": "display_data",
          "data": {
            "text/plain": [
              "<Figure size 640x480 with 1 Axes>"
            ],
            "image/png": "[encoded data removed]"
          },
          "metadata": {}
        }
      ]
    },
    {
      "cell_type": "code",
      "source": [
        "latest = df_final_clean[df_final_clean[\"Year\"] == df_final_clean[\"Year\"].max()]\n",
        "\n",
        "fig = px.scatter(\n",
        "    latest,\n",
        "    x=\"Internet_Usage\",\n",
        "    y=\"Value\",\n",
        "    size=\"Secure Internet servers (per 1 million people)\",\n",
        "    color=\"Region\",\n",
        "    hover_name=\"Country\",\n",
        "    title=\"Cybercrime vs. Internet Usage (Bubble = Server Density)\",\n",
        "    size_max=60\n",
        ")\n",
        "fig.show()"
      ],
      "metadata": {
        "colab": {
          "base_uri": "https://localhost:8080/",
          "height": 542
        },
        "id": "TpKquR3AQ-tA",
        "outputId": "05f6cc2e-0382-474f-bcc1-492e607a2a8e"
      },
      "execution_count": 51,
      "outputs": [
        {
          "output_type": "display_data",
          "data": {
            "text/html": [
              "<html>\n",
              "<head><meta charset=\"utf-8\" /></head>\n",
              "<body>\n",
              "    <div>            <script src=\"https://cdnjs.cloudflare.com/ajax/libs/mathjax/2.7.5/MathJax.js?config=TeX-AMS-MML_SVG\"></script><script type=\"text/javascript\">if (window.MathJax && window.MathJax.Hub && window.MathJax.Hub.Config) {window.MathJax.Hub.Config({SVG: {font: \"STIX-Web\"}});}</script>                <script type=\"text/javascript\">window.PlotlyConfig = {MathJaxConfig: 'local'};</script>\n",
              "        <script charset=\"utf-8\" src=\"https://cdn.plot.ly/plotly-2.35.2.min.js\"></script>                <div id=\"2fb603fa-d179-4ec0-bd52-2e729acc58a7\" class=\"plotly-graph-div\" style=\"height:525px; width:100%;\"></div>            <script type=\"text/javascript\">                                    window.PLOTLYENV=window.PLOTLYENV || {};                                    if (document.getElementById(\"2fb603fa-d179-4ec0-bd52-2e729acc58a7\")) {                    Plotly.newPlot(                        \"2fb603fa-d179-4ec0-bd52-2e729acc58a7\",                        [{\"hovertemplate\":\"\\u003cb\\u003e%{hovertext}\\u003c\\u002fb\\u003e\\u003cbr\\u003e\\u003cbr\\u003eRegion=Europe\\u003cbr\\u003eInternet_Usage=%{x}\\u003cbr\\u003eValue=%{y}\\u003cbr\\u003eSecure Internet servers (per 1 million people)=%{marker.size}\\u003cextra\\u003e\\u003c\\u002fextra\\u003e\",\"hovertext\":[\"Albania\",\"Austria\",\"Bulgaria\",\"Bosnia and Herzegovina\",\"Czechia\",\"Germany\",\"Spain\",\"Finland\",\"Greece\",\"Croatia\",\"Ireland\",\"Iceland\",\"Italy\",\"Liechtenstein\",\"Lithuania\",\"Montenegro\",\"Poland\",\"Serbia\",\"Slovakia\",\"Slovenia\",\"Albania\",\"Austria\",\"Bulgaria\",\"Bosnia and Herzegovina\",\"Czechia\",\"Germany\",\"Spain\",\"Finland\",\"Greece\",\"Croatia\",\"Ireland\",\"Iceland\",\"Italy\",\"Liechtenstein\",\"Lithuania\",\"Montenegro\",\"Poland\",\"Serbia\",\"Slovakia\",\"Slovenia\"],\"legendgroup\":\"Europe\",\"marker\":{\"color\":\"#636efa\",\"size\":[1107.3953923567396,39544.447259748034,56268.36806393907,4776.582141424025,85606.06245170828,125945.03316517694,27061.612746815914,131286.012181913,13068.17495876642,29826.947062758176,135993.76657568192,85331.79058803203,28070.904321197326,66037.0192185957,66487.28881047337,1278.3269308974373,34772.62853538,11871.198954332158,36900.61696483934,61863.7776292141,1107.3953923567396,39544.447259748034,56268.36806393907,4776.582141424025,85606.06245170828,125945.03316517694,27061.612746815914,131286.012181913,13068.17495876642,29826.947062758176,135993.76657568192,85331.79058803203,28070.904321197326,66037.0192185957,66487.28881047337,1278.3269308974373,34772.62853538,11871.198954332158,36900.61696483934,61863.7776292141],\"sizemode\":\"area\",\"sizeref\":95.11471206316178,\"symbol\":\"circle\"},\"mode\":\"markers\",\"name\":\"Europe\",\"orientation\":\"v\",\"showlegend\":true,\"x\":[82.6137,93.6141,79.1269,78.8455,84.5401,91.6298,94.4855,92.9888,83.1707,82.0716,95.5905,99.8565,85.0607,96.8046,87.7242,88.2219,86.9411,83.5383,89.0677,88.9125,82.6137,93.6141,79.1269,78.8455,84.5401,91.6298,94.4855,92.9888,83.1707,82.0716,95.5905,99.8565,85.0607,96.8046,87.7242,88.2219,86.9411,83.5383,89.0677,88.9125],\"xaxis\":\"x\",\"y\":[144.0,18455.0,159.0,63.0,8708.0,243358.0,233932.0,4965.0,5607.0,1425.0,100.0,112.0,101698.0,184.0,2547.0,5.0,88866.0,1.0,54.0,758.0,5.06628209832739,206.440611493759,2.34445741514281,1.94833721016358,82.9808616096877,291.901713189024,491.881289388291,89.6088802490567,53.9914844249445,35.356665010486,1.99079912369004,30.0349827097722,172.2600800976,467.871945482747,92.616329491592,0.797343252283392,222.96127553841,0.013847796514385,0.956860985641238,35.7573481822247],\"yaxis\":\"y\",\"type\":\"scatter\"},{\"hovertemplate\":\"\\u003cb\\u003e%{hovertext}\\u003c\\u002fb\\u003e\\u003cbr\\u003e\\u003cbr\\u003eRegion=Americas\\u003cbr\\u003eInternet_Usage=%{x}\\u003cbr\\u003eValue=%{y}\\u003cbr\\u003eSecure Internet servers (per 1 million people)=%{marker.size}\\u003cextra\\u003e\\u003c\\u002fextra\\u003e\",\"hovertext\":[\"Antigua and Barbuda\",\"Bahamas\",\"Belize\",\"Barbados\",\"Canada\",\"Chile\",\"Costa Rica\",\"Dominica\",\"Ecuador\",\"Grenada\",\"Guyana\",\"Saint Kitts and Nevis\",\"Mexico\",\"Peru\",\"Paraguay\",\"El Salvador\",\"Saint Vincent and the Grenadines\",\"Antigua and Barbuda\",\"Bahamas\",\"Belize\",\"Barbados\",\"Canada\",\"Chile\",\"Costa Rica\",\"Dominica\",\"Ecuador\",\"Grenada\",\"Guyana\",\"Saint Kitts and Nevis\",\"Mexico\",\"Peru\",\"Paraguay\",\"El Salvador\",\"Saint Vincent and the Grenadines\"],\"legendgroup\":\"Americas\",\"marker\":{\"color\":\"#EF553B\",\"size\":[829.3838862559242,5189.441009412937,342412.9634273824,981.1630855985096,43649.79983079199,11563.268231081864,1892.8462847061994,59198.51554784066,837.0223414105232,718.4829745195145,87.62993876858029,9398.616968892504,381.88950820622756,701.5890277522283,626.5842107878985,173.39883531393866,225.3885502616467,829.3838862559242,5189.441009412937,342412.9634273824,981.1630855985096,43649.79983079199,11563.268231081864,1892.8462847061994,59198.51554784066,837.0223414105232,718.4829745195145,87.62993876858029,9398.616968892504,381.88950820622756,701.5890277522283,626.5842107878985,173.39883531393866,225.3885502616467],\"sizemode\":\"area\",\"sizeref\":95.11471206316178,\"symbol\":\"circle\"},\"mode\":\"markers\",\"name\":\"Americas\",\"orientation\":\"v\",\"showlegend\":true,\"x\":[91.4123,94.4117,70.354,76.2053,94.0,90.6769,82.598,83.3767,69.7181,79.8955,85.3163,76.4575,78.6322,74.675,76.2592,62.8885,77.7418,91.4123,94.4117,70.354,76.2053,94.0,90.6769,82.598,83.3767,69.7181,79.8955,85.3163,76.4575,78.6322,74.675,76.2592,62.8885,77.7418],\"xaxis\":\"x\",\"y\":[0.0,105.0,1.0,0.0,41340.0,430.0,12690.0,0.0,3077.0,0.0,0.0,0.0,1035.0,11970.0,1338.0,171.0,1.0,0.0,25.6107555416797,0.246747558741341,0.0,107.504156814394,2.19345978646006,244.941494884313,0.0,17.0934948058441,0.0,0.0,0.0,0.811738440573046,35.1546098714233,19.7323479547377,2.69869667154431,0.962024098703673],\"yaxis\":\"y\",\"type\":\"scatter\"},{\"hovertemplate\":\"\\u003cb\\u003e%{hovertext}\\u003c\\u002fb\\u003e\\u003cbr\\u003e\\u003cbr\\u003eRegion=Africa\\u003cbr\\u003eInternet_Usage=%{x}\\u003cbr\\u003eValue=%{y}\\u003cbr\\u003eSecure Internet servers (per 1 million people)=%{marker.size}\\u003cextra\\u003e\\u003c\\u002fextra\\u003e\",\"hovertext\":[\"Algeria\",\"Morocco\",\"Algeria\",\"Morocco\"],\"legendgroup\":\"Africa\",\"marker\":{\"color\":\"#00cc96\",\"size\":[75.07027283382517,545.6070369190077,75.07027283382517,545.6070369190077],\"sizemode\":\"area\",\"sizeref\":95.11471206316178,\"symbol\":\"circle\"},\"mode\":\"markers\",\"name\":\"Africa\",\"orientation\":\"v\",\"showlegend\":true,\"x\":[71.2432,89.9,71.2432,89.9],\"xaxis\":\"x\",\"y\":[181.0,41.0,0.403089087699158,0.109456010170119],\"yaxis\":\"y\",\"type\":\"scatter\"},{\"hovertemplate\":\"\\u003cb\\u003e%{hovertext}\\u003c\\u002fb\\u003e\\u003cbr\\u003e\\u003cbr\\u003eRegion=Asia\\u003cbr\\u003eInternet_Usage=%{x}\\u003cbr\\u003eValue=%{y}\\u003cbr\\u003eSecure Internet servers (per 1 million people)=%{marker.size}\\u003cextra\\u003e\\u003c\\u002fextra\\u003e\",\"hovertext\":[\"China, Macao Special Administrative Region\",\"Oman\",\"Singapore\",\"Thailand\",\"China, Macao Special Administrative Region\",\"Oman\",\"Singapore\",\"Thailand\"],\"legendgroup\":\"Asia\",\"marker\":{\"color\":\"#ab63fa\",\"size\":[6022.44204931345,284.34159382659516,212649.33860467462,2746.247947088944,6022.44204931345,284.34159382659516,212649.33860467462,2746.247947088944],\"sizemode\":\"area\",\"sizeref\":95.11471206316178,\"symbol\":\"circle\"},\"mode\":\"markers\",\"name\":\"Asia\",\"orientation\":\"v\",\"showlegend\":true,\"x\":[89.7864,97.849,95.9539,87.9772,89.7864,97.849,95.9539,87.9772],\"xaxis\":\"x\",\"y\":[622.0,664.0,24605.0,10143.0,89.4747100882736,14.509544614446,411.751716977885,14.1470296199649],\"yaxis\":\"y\",\"type\":\"scatter\"}],                        {\"template\":{\"data\":{\"histogram2dcontour\":[{\"type\":\"histogram2dcontour\",\"colorbar\":{\"outlinewidth\":0,\"ticks\":\"\"},\"colorscale\":[[0.0,\"#0d0887\"],[0.1111111111111111,\"#46039f\"],[0.2222222222222222,\"#7201a8\"],[0.3333333333333333,\"#9c179e\"],[0.4444444444444444,\"#bd3786\"],[0.5555555555555556,\"#d8576b\"],[0.6666666666666666,\"#ed7953\"],[0.7777777777777778,\"#fb9f3a\"],[0.8888888888888888,\"#fdca26\"],[1.0,\"#f0f921\"]]}],\"choropleth\":[{\"type\":\"choropleth\",\"colorbar\":{\"outlinewidth\":0,\"ticks\":\"\"}}],\"histogram2d\":[{\"type\":\"histogram2d\",\"colorbar\":{\"outlinewidth\":0,\"ticks\":\"\"},\"colorscale\":[[0.0,\"#0d0887\"],[0.1111111111111111,\"#46039f\"],[0.2222222222222222,\"#7201a8\"],[0.3333333333333333,\"#9c179e\"],[0.4444444444444444,\"#bd3786\"],[0.5555555555555556,\"#d8576b\"],[0.6666666666666666,\"#ed7953\"],[0.7777777777777778,\"#fb9f3a\"],[0.8888888888888888,\"#fdca26\"],[1.0,\"#f0f921\"]]}],\"heatmap\":[{\"type\":\"heatmap\",\"colorbar\":{\"outlinewidth\":0,\"ticks\":\"\"},\"colorscale\":[[0.0,\"#0d0887\"],[0.1111111111111111,\"#46039f\"],[0.2222222222222222,\"#7201a8\"],[0.3333333333333333,\"#9c179e\"],[0.4444444444444444,\"#bd3786\"],[0.5555555555555556,\"#d8576b\"],[0.6666666666666666,\"#ed7953\"],[0.7777777777777778,\"#fb9f3a\"],[0.8888888888888888,\"#fdca26\"],[1.0,\"#f0f921\"]]}],\"heatmapgl\":[{\"type\":\"heatmapgl\",\"colorbar\":{\"outlinewidth\":0,\"ticks\":\"\"},\"colorscale\":[[0.0,\"#0d0887\"],[0.1111111111111111,\"#46039f\"],[0.2222222222222222,\"#7201a8\"],[0.3333333333333333,\"#9c179e\"],[0.4444444444444444,\"#bd3786\"],[0.5555555555555556,\"#d8576b\"],[0.6666666666666666,\"#ed7953\"],[0.7777777777777778,\"#fb9f3a\"],[0.8888888888888888,\"#fdca26\"],[1.0,\"#f0f921\"]]}],\"contourcarpet\":[{\"type\":\"contourcarpet\",\"colorbar\":{\"outlinewidth\":0,\"ticks\":\"\"}}],\"contour\":[{\"type\":\"contour\",\"colorbar\":{\"outlinewidth\":0,\"ticks\":\"\"},\"colorscale\":[[0.0,\"#0d0887\"],[0.1111111111111111,\"#46039f\"],[0.2222222222222222,\"#7201a8\"],[0.3333333333333333,\"#9c179e\"],[0.4444444444444444,\"#bd3786\"],[0.5555555555555556,\"#d8576b\"],[0.6666666666666666,\"#ed7953\"],[0.7777777777777778,\"#fb9f3a\"],[0.8888888888888888,\"#fdca26\"],[1.0,\"#f0f921\"]]}],\"surface\":[{\"type\":\"surface\",\"colorbar\":{\"outlinewidth\":0,\"ticks\":\"\"},\"colorscale\":[[0.0,\"#0d0887\"],[0.1111111111111111,\"#46039f\"],[0.2222222222222222,\"#7201a8\"],[0.3333333333333333,\"#9c179e\"],[0.4444444444444444,\"#bd3786\"],[0.5555555555555556,\"#d8576b\"],[0.6666666666666666,\"#ed7953\"],[0.7777777777777778,\"#fb9f3a\"],[0.8888888888888888,\"#fdca26\"],[1.0,\"#f0f921\"]]}],\"mesh3d\":[{\"type\":\"mesh3d\",\"colorbar\":{\"outlinewidth\":0,\"ticks\":\"\"}}],\"scatter\":[{\"fillpattern\":{\"fillmode\":\"overlay\",\"size\":10,\"solidity\":0.2},\"type\":\"scatter\"}],\"parcoords\":[{\"type\":\"parcoords\",\"line\":{\"colorbar\":{\"outlinewidth\":0,\"ticks\":\"\"}}}],\"scatterpolargl\":[{\"type\":\"scatterpolargl\",\"marker\":{\"colorbar\":{\"outlinewidth\":0,\"ticks\":\"\"}}}],\"bar\":[{\"error_x\":{\"color\":\"#2a3f5f\"},\"error_y\":{\"color\":\"#2a3f5f\"},\"marker\":{\"line\":{\"color\":\"#E5ECF6\",\"width\":0.5},\"pattern\":{\"fillmode\":\"overlay\",\"size\":10,\"solidity\":0.2}},\"type\":\"bar\"}],\"scattergeo\":[{\"type\":\"scattergeo\",\"marker\":{\"colorbar\":{\"outlinewidth\":0,\"ticks\":\"\"}}}],\"scatterpolar\":[{\"type\":\"scatterpolar\",\"marker\":{\"colorbar\":{\"outlinewidth\":0,\"ticks\":\"\"}}}],\"histogram\":[{\"marker\":{\"pattern\":{\"fillmode\":\"overlay\",\"size\":10,\"solidity\":0.2}},\"type\":\"histogram\"}],\"scattergl\":[{\"type\":\"scattergl\",\"marker\":{\"colorbar\":{\"outlinewidth\":0,\"ticks\":\"\"}}}],\"scatter3d\":[{\"type\":\"scatter3d\",\"line\":{\"colorbar\":{\"outlinewidth\":0,\"ticks\":\"\"}},\"marker\":{\"colorbar\":{\"outlinewidth\":0,\"ticks\":\"\"}}}],\"scattermapbox\":[{\"type\":\"scattermapbox\",\"marker\":{\"colorbar\":{\"outlinewidth\":0,\"ticks\":\"\"}}}],\"scatterternary\":[{\"type\":\"scatterternary\",\"marker\":{\"colorbar\":{\"outlinewidth\":0,\"ticks\":\"\"}}}],\"scattercarpet\":[{\"type\":\"scattercarpet\",\"marker\":{\"colorbar\":{\"outlinewidth\":0,\"ticks\":\"\"}}}],\"carpet\":[{\"aaxis\":{\"endlinecolor\":\"#2a3f5f\",\"gridcolor\":\"white\",\"linecolor\":\"white\",\"minorgridcolor\":\"white\",\"startlinecolor\":\"#2a3f5f\"},\"baxis\":{\"endlinecolor\":\"#2a3f5f\",\"gridcolor\":\"white\",\"linecolor\":\"white\",\"minorgridcolor\":\"white\",\"startlinecolor\":\"#2a3f5f\"},\"type\":\"carpet\"}],\"table\":[{\"cells\":{\"fill\":{\"color\":\"#EBF0F8\"},\"line\":{\"color\":\"white\"}},\"header\":{\"fill\":{\"color\":\"#C8D4E3\"},\"line\":{\"color\":\"white\"}},\"type\":\"table\"}],\"barpolar\":[{\"marker\":{\"line\":{\"color\":\"#E5ECF6\",\"width\":0.5},\"pattern\":{\"fillmode\":\"overlay\",\"size\":10,\"solidity\":0.2}},\"type\":\"barpolar\"}],\"pie\":[{\"automargin\":true,\"type\":\"pie\"}]},\"layout\":{\"autotypenumbers\":\"strict\",\"colorway\":[\"#636efa\",\"#EF553B\",\"#00cc96\",\"#ab63fa\",\"#FFA15A\",\"#19d3f3\",\"#FF6692\",\"#B6E880\",\"#FF97FF\",\"#FECB52\"],\"font\":{\"color\":\"#2a3f5f\"},\"hovermode\":\"closest\",\"hoverlabel\":{\"align\":\"left\"},\"paper_bgcolor\":\"white\",\"plot_bgcolor\":\"#E5ECF6\",\"polar\":{\"bgcolor\":\"#E5ECF6\",\"angularaxis\":{\"gridcolor\":\"white\",\"linecolor\":\"white\",\"ticks\":\"\"},\"radialaxis\":{\"gridcolor\":\"white\",\"linecolor\":\"white\",\"ticks\":\"\"}},\"ternary\":{\"bgcolor\":\"#E5ECF6\",\"aaxis\":{\"gridcolor\":\"white\",\"linecolor\":\"white\",\"ticks\":\"\"},\"baxis\":{\"gridcolor\":\"white\",\"linecolor\":\"white\",\"ticks\":\"\"},\"caxis\":{\"gridcolor\":\"white\",\"linecolor\":\"white\",\"ticks\":\"\"}},\"coloraxis\":{\"colorbar\":{\"outlinewidth\":0,\"ticks\":\"\"}},\"colorscale\":{\"sequential\":[[0.0,\"#0d0887\"],[0.1111111111111111,\"#46039f\"],[0.2222222222222222,\"#7201a8\"],[0.3333333333333333,\"#9c179e\"],[0.4444444444444444,\"#bd3786\"],[0.5555555555555556,\"#d8576b\"],[0.6666666666666666,\"#ed7953\"],[0.7777777777777778,\"#fb9f3a\"],[0.8888888888888888,\"#fdca26\"],[1.0,\"#f0f921\"]],\"sequentialminus\":[[0.0,\"#0d0887\"],[0.1111111111111111,\"#46039f\"],[0.2222222222222222,\"#7201a8\"],[0.3333333333333333,\"#9c179e\"],[0.4444444444444444,\"#bd3786\"],[0.5555555555555556,\"#d8576b\"],[0.6666666666666666,\"#ed7953\"],[0.7777777777777778,\"#fb9f3a\"],[0.8888888888888888,\"#fdca26\"],[1.0,\"#f0f921\"]],\"diverging\":[[0,\"#8e0152\"],[0.1,\"#c51b7d\"],[0.2,\"#de77ae\"],[0.3,\"#f1b6da\"],[0.4,\"#fde0ef\"],[0.5,\"#f7f7f7\"],[0.6,\"#e6f5d0\"],[0.7,\"#b8e186\"],[0.8,\"#7fbc41\"],[0.9,\"#4d9221\"],[1,\"#276419\"]]},\"xaxis\":{\"gridcolor\":\"white\",\"linecolor\":\"white\",\"ticks\":\"\",\"title\":{\"standoff\":15},\"zerolinecolor\":\"white\",\"automargin\":true,\"zerolinewidth\":2},\"yaxis\":{\"gridcolor\":\"white\",\"linecolor\":\"white\",\"ticks\":\"\",\"title\":{\"standoff\":15},\"zerolinecolor\":\"white\",\"automargin\":true,\"zerolinewidth\":2},\"scene\":{\"xaxis\":{\"backgroundcolor\":\"#E5ECF6\",\"gridcolor\":\"white\",\"linecolor\":\"white\",\"showbackground\":true,\"ticks\":\"\",\"zerolinecolor\":\"white\",\"gridwidth\":2},\"yaxis\":{\"backgroundcolor\":\"#E5ECF6\",\"gridcolor\":\"white\",\"linecolor\":\"white\",\"showbackground\":true,\"ticks\":\"\",\"zerolinecolor\":\"white\",\"gridwidth\":2},\"zaxis\":{\"backgroundcolor\":\"#E5ECF6\",\"gridcolor\":\"white\",\"linecolor\":\"white\",\"showbackground\":true,\"ticks\":\"\",\"zerolinecolor\":\"white\",\"gridwidth\":2}},\"shapedefaults\":{\"line\":{\"color\":\"#2a3f5f\"}},\"annotationdefaults\":{\"arrowcolor\":\"#2a3f5f\",\"arrowhead\":0,\"arrowwidth\":1},\"geo\":{\"bgcolor\":\"white\",\"landcolor\":\"#E5ECF6\",\"subunitcolor\":\"white\",\"showland\":true,\"showlakes\":true,\"lakecolor\":\"white\"},\"title\":{\"x\":0.05},\"mapbox\":{\"style\":\"light\"}}},\"xaxis\":{\"anchor\":\"y\",\"domain\":[0.0,1.0],\"title\":{\"text\":\"Internet_Usage\"}},\"yaxis\":{\"anchor\":\"x\",\"domain\":[0.0,1.0],\"title\":{\"text\":\"Value\"}},\"legend\":{\"title\":{\"text\":\"Region\"},\"tracegroupgap\":0,\"itemsizing\":\"constant\"},\"title\":{\"text\":\"Cybercrime vs. Internet Usage (Bubble = Server Density)\"}},                        {\"responsive\": true}                    ).then(function(){\n",
              "                            \n",
              "var gd = document.getElementById('2fb603fa-d179-4ec0-bd52-2e729acc58a7');\n",
              "var x = new MutationObserver(function (mutations, observer) {{\n",
              "        var display = window.getComputedStyle(gd).display;\n",
              "        if (!display || display === 'none') {{\n",
              "            console.log([gd, 'removed!']);\n",
              "            Plotly.purge(gd);\n",
              "            observer.disconnect();\n",
              "        }}\n",
              "}});\n",
              "\n",
              "// Listen for the removal of the full notebook cells\n",
              "var notebookContainer = gd.closest('#notebook-container');\n",
              "if (notebookContainer) {{\n",
              "    x.observe(notebookContainer, {childList: true});\n",
              "}}\n",
              "\n",
              "// Listen for the clearing of the current output cell\n",
              "var outputEl = gd.closest('.output');\n",
              "if (outputEl) {{\n",
              "    x.observe(outputEl, {childList: true});\n",
              "}}\n",
              "\n",
              "                        })                };                            </script>        </div>\n",
              "</body>\n",
              "</html>"
            ]
          },
          "metadata": {}
        }
      ]
    },
    {
      "cell_type": "markdown",
      "source": [
        "## Groupings"
      ],
      "metadata": {
        "id": "dHrUb56CP2yI"
      }
    },
    {
      "cell_type": "code",
      "source": [
        "df_final_clean[\"Internet_Level\"] = pd.qcut(df_final_clean[\"Internet_Usage\"], q=3, labels=[\"Low\", \"Medium\", \"High\"])\n",
        "sns.boxplot(data=df_final_clean, x=\"Internet_Level\", y=\"Value\")"
      ],
      "metadata": {
        "colab": {
          "base_uri": "https://localhost:8080/",
          "height": 468
        },
        "id": "ROrHxIbIP4Tu",
        "outputId": "dfc762f9-83b3-426b-c1d2-8df921c66d7c"
      },
      "execution_count": 52,
      "outputs": [
        {
          "output_type": "execute_result",
          "data": {
            "text/plain": [
              "<Axes: xlabel='Internet_Level', ylabel='Value'>"
            ]
          },
          "metadata": {},
          "execution_count": 52
        },
        {
          "output_type": "display_data",
          "data": {
            "text/plain": [
              "<Figure size 640x480 with 1 Axes>"
            ],
            "image/png": "[encoded data removed]"
          },
          "metadata": {}
        }
      ]
    },
    {
      "cell_type": "code",
      "source": [
        "# Create one for counts\n",
        "df_counts = df_final_clean[df_final_clean[\"Unit\"] == \"Counts\"]\n",
        "\n",
        "# Create one for rates\n",
        "df_rates = df_final_clean[df_final_clean[\"Unit\"] == \"Rate per 100,000 population\"]\n",
        "\n",
        "# Merge them side-by-side on shared keys\n",
        "df_combined = pd.merge(\n",
        "    df_counts,\n",
        "    df_rates,\n",
        "    on=[\"Iso3_code\", \"Country\", \"Region\", \"Subregion\", \"Category\", \"Year\"],\n",
        "    suffixes=(\"_count\", \"_rate\")\n",
        ")"
      ],
      "metadata": {
        "id": "4eL0FOa0W3Eh"
      },
      "execution_count": 53,
      "outputs": []
    },
    {
      "cell_type": "code",
      "source": [
        "df_combined.columns"
      ],
      "metadata": {
        "colab": {
          "base_uri": "https://localhost:8080/",
          "height": 0
        },
        "id": "gS-o3T-gXBLI",
        "outputId": "ba061a0e-016b-47f2-95fb-317852a4d302"
      },
      "execution_count": 54,
      "outputs": [
        {
          "output_type": "execute_result",
          "data": {
            "text/plain": [
              "Index(['Iso3_code', 'Country', 'Region', 'Subregion', 'Category', 'Year',\n",
              "       'Unit_count', 'Value_count', 'Source_count', 'Internet_Usage_count',\n",
              "       'Secure Internet servers_count',\n",
              "       'Secure Internet servers (per 1 million people)_count',\n",
              "       'Internet_Level_count', 'Unit_rate', 'Value_rate', 'Source_rate',\n",
              "       'Internet_Usage_rate', 'Secure Internet servers_rate',\n",
              "       'Secure Internet servers (per 1 million people)_rate',\n",
              "       'Internet_Level_rate'],\n",
              "      dtype='object')"
            ]
          },
          "metadata": {},
          "execution_count": 54
        }
      ]
    },
    {
      "cell_type": "code",
      "source": [
        "(df_combined[\"Internet_Usage_count\"] == df_combined[\"Internet_Usage_rate\"]).all()"
      ],
      "metadata": {
        "colab": {
          "base_uri": "https://localhost:8080/",
          "height": 0
        },
        "id": "_0uSjHZ3YEs5",
        "outputId": "51bc25be-152f-40f7-cebe-ae1af6a0906b"
      },
      "execution_count": 55,
      "outputs": [
        {
          "output_type": "execute_result",
          "data": {
            "text/plain": [
              "np.True_"
            ]
          },
          "metadata": {},
          "execution_count": 55
        }
      ]
    },
    {
      "cell_type": "code",
      "source": [
        "columns_to_drop = [\n",
        "    'Unit_count', 'Source_count', 'Internet_Usage_count',\n",
        "    'Secure Internet servers_count',\n",
        "    'Secure Internet servers (per 1 million people)_count',\n",
        "    'Internet_Level_count'\n",
        "]\n",
        "\n",
        "df_combined_clean = df_combined.drop(columns=columns_to_drop)"
      ],
      "metadata": {
        "id": "9Qb9xQQUXgMB"
      },
      "execution_count": 56,
      "outputs": []
    },
    {
      "cell_type": "code",
      "source": [
        "df_combined_clean.head()"
      ],
      "metadata": {
        "colab": {
          "base_uri": "https://localhost:8080/",
          "height": 414
        },
        "id": "dExuxiQcXhdb",
        "outputId": "03e32f41-1fc8-4a63-9984-6a6de092433d"
      },
      "execution_count": 57,
      "outputs": [
        {
          "output_type": "execute_result",
          "data": {
            "text/plain": [
              "  Iso3_code   Country    Region                        Subregion  \\\n",
              "0       ARM   Armenia      Asia                     Western Asia   \n",
              "1       AUT   Austria    Europe                   Western Europe   \n",
              "2       CAN    Canada  Americas                 Northern America   \n",
              "3       COL  Colombia  Americas  Latin America and the Caribbean   \n",
              "4       CZE   Czechia    Europe                   Eastern Europe   \n",
              "\n",
              "                    Category  Year  Value_count                    Unit_rate  \\\n",
              "0  Fraud: Cyber-related (Cy)  2013         35.0  Rate per 100,000 population   \n",
              "1  Fraud: Cyber-related (Cy)  2013       7667.0  Rate per 100,000 population   \n",
              "2  Fraud: Cyber-related (Cy)  2013       6914.0  Rate per 100,000 population   \n",
              "3  Fraud: Cyber-related (Cy)  2013       7303.0  Rate per 100,000 population   \n",
              "4  Fraud: Cyber-related (Cy)  2013       1740.0  Rate per 100,000 population   \n",
              "\n",
              "   Value_rate Source_rate  Internet_Usage_rate  Secure Internet servers_rate  \\\n",
              "0    1.206320         CTS              41.9000                         158.0   \n",
              "1   90.417651         CTS              80.6188                       15751.0   \n",
              "2   19.718403         CTS              85.8000                       82897.0   \n",
              "3   15.794392         CTS              51.7000                        1923.0   \n",
              "4   16.548492         CTS              74.1104                       11354.0   \n",
              "\n",
              "   Secure Internet servers (per 1 million people)_rate Internet_Level_rate  \n",
              "0                                          52.283256                   Low  \n",
              "1                                        1857.468016                Medium  \n",
              "2                                        2363.017557                  High  \n",
              "3                                          41.667042                   Low  \n",
              "4                                        1079.865539                Medium  "
            ],
            "text/html": [
              "\n",
              "  <div id=\"df-0e903942-4e45-49f7-b7ab-9e3566d1d0f4\" class=\"colab-df-container\">\n",
              "    <div>\n",
              "<style scoped>\n",
              "    .dataframe tbody tr th:only-of-type {\n",
              "        vertical-align: middle;\n",
              "    }\n",
              "\n",
              "    .dataframe tbody tr th {\n",
              "        vertical-align: top;\n",
              "    }\n",
              "\n",
              "    .dataframe thead th {\n",
              "        text-align: right;\n",
              "    }\n",
              "</style>\n",
              "<table border=\"1\" class=\"dataframe\">\n",
              "  <thead>\n",
              "    <tr style=\"text-align: right;\">\n",
              "      <th></th>\n",
              "      <th>Iso3_code</th>\n",
              "      <th>Country</th>\n",
              "      <th>Region</th>\n",
              "      <th>Subregion</th>\n",
              "      <th>Category</th>\n",
              "      <th>Year</th>\n",
              "      <th>Value_count</th>\n",
              "      <th>Unit_rate</th>\n",
              "      <th>Value_rate</th>\n",
              "      <th>Source_rate</th>\n",
              "      <th>Internet_Usage_rate</th>\n",
              "      <th>Secure Internet servers_rate</th>\n",
              "      <th>Secure Internet servers (per 1 million people)_rate</th>\n",
              "      <th>Internet_Level_rate</th>\n",
              "    </tr>\n",
              "  </thead>\n",
              "  <tbody>\n",
              "    <tr>\n",
              "      <th>0</th>\n",
              "      <td>ARM</td>\n",
              "      <td>Armenia</td>\n",
              "      <td>Asia</td>\n",
              "      <td>Western Asia</td>\n",
              "      <td>Fraud: Cyber-related (Cy)</td>\n",
              "      <td>2013</td>\n",
              "      <td>35.0</td>\n",
              "      <td>Rate per 100,000 population</td>\n",
              "      <td>1.206320</td>\n",
              "      <td>CTS</td>\n",
              "      <td>41.9000</td>\n",
              "      <td>158.0</td>\n",
              "      <td>52.283256</td>\n",
              "      <td>Low</td>\n",
              "    </tr>\n",
              "    <tr>\n",
              "      <th>1</th>\n",
              "      <td>AUT</td>\n",
              "      <td>Austria</td>\n",
              "      <td>Europe</td>\n",
              "      <td>Western Europe</td>\n",
              "      <td>Fraud: Cyber-related (Cy)</td>\n",
              "      <td>2013</td>\n",
              "      <td>7667.0</td>\n",
              "      <td>Rate per 100,000 population</td>\n",
              "      <td>90.417651</td>\n",
              "      <td>CTS</td>\n",
              "      <td>80.6188</td>\n",
              "      <td>15751.0</td>\n",
              "      <td>1857.468016</td>\n",
              "      <td>Medium</td>\n",
              "    </tr>\n",
              "    <tr>\n",
              "      <th>2</th>\n",
              "      <td>CAN</td>\n",
              "      <td>Canada</td>\n",
              "      <td>Americas</td>\n",
              "      <td>Northern America</td>\n",
              "      <td>Fraud: Cyber-related (Cy)</td>\n",
              "      <td>2013</td>\n",
              "      <td>6914.0</td>\n",
              "      <td>Rate per 100,000 population</td>\n",
              "      <td>19.718403</td>\n",
              "      <td>CTS</td>\n",
              "      <td>85.8000</td>\n",
              "      <td>82897.0</td>\n",
              "      <td>2363.017557</td>\n",
              "      <td>High</td>\n",
              "    </tr>\n",
              "    <tr>\n",
              "      <th>3</th>\n",
              "      <td>COL</td>\n",
              "      <td>Colombia</td>\n",
              "      <td>Americas</td>\n",
              "      <td>Latin America and the Caribbean</td>\n",
              "      <td>Fraud: Cyber-related (Cy)</td>\n",
              "      <td>2013</td>\n",
              "      <td>7303.0</td>\n",
              "      <td>Rate per 100,000 population</td>\n",
              "      <td>15.794392</td>\n",
              "      <td>CTS</td>\n",
              "      <td>51.7000</td>\n",
              "      <td>1923.0</td>\n",
              "      <td>41.667042</td>\n",
              "      <td>Low</td>\n",
              "    </tr>\n",
              "    <tr>\n",
              "      <th>4</th>\n",
              "      <td>CZE</td>\n",
              "      <td>Czechia</td>\n",
              "      <td>Europe</td>\n",
              "      <td>Eastern Europe</td>\n",
              "      <td>Fraud: Cyber-related (Cy)</td>\n",
              "      <td>2013</td>\n",
              "      <td>1740.0</td>\n",
              "      <td>Rate per 100,000 population</td>\n",
              "      <td>16.548492</td>\n",
              "      <td>CTS</td>\n",
              "      <td>74.1104</td>\n",
              "      <td>11354.0</td>\n",
              "      <td>1079.865539</td>\n",
              "      <td>Medium</td>\n",
              "    </tr>\n",
              "  </tbody>\n",
              "</table>\n",
              "</div>\n",
              "    <div class=\"colab-df-buttons\">\n",
              "\n",
              "  <div class=\"colab-df-container\">\n",
              "    <button class=\"colab-df-convert\" onclick=\"convertToInteractive('df-0e903942-4e45-49f7-b7ab-9e3566d1d0f4')\"\n",
              "            title=\"Convert this dataframe to an interactive table.\"\n",
              "            style=\"display:none;\">\n",
              "\n",
              "  <svg xmlns=\"http://www.w3.org/2000/svg\" height=\"24px\" viewBox=\"0 -960 960 960\">\n",
              "    <path d=\"M120-120v-720h720v720H120Zm60-500h600v-160H180v160Zm220 220h160v-160H400v160Zm0 220h160v-160H400v160ZM180-400h160v-160H180v160Zm440 0h160v-160H620v160ZM180-180h160v-160H180v160Zm440 0h160v-160H620v160Z\"/>\n",
              "  </svg>\n",
              "    </button>\n",
              "\n",
              "  <style>\n",
              "    .colab-df-container {\n",
              "      display:flex;\n",
              "      gap: 12px;\n",
              "    }\n",
              "\n",
              "    .colab-df-convert {\n",
              "      background-color: #E8F0FE;\n",
              "      border: none;\n",
              "      border-radius: 50%;\n",
              "      cursor: pointer;\n",
              "      display: none;\n",
              "      fill: #1967D2;\n",
              "      height: 32px;\n",
              "      padding: 0 0 0 0;\n",
              "      width: 32px;\n",
              "    }\n",
              "\n",
              "    .colab-df-convert:hover {\n",
              "      background-color: #E2EBFA;\n",
              "      box-shadow: 0px 1px 2px rgba(60, 64, 67, 0.3), 0px 1px 3px 1px rgba(60, 64, 67, 0.15);\n",
              "      fill: #174EA6;\n",
              "    }\n",
              "\n",
              "    .colab-df-buttons div {\n",
              "      margin-bottom: 4px;\n",
              "    }\n",
              "\n",
              "    [theme=dark] .colab-df-convert {\n",
              "      background-color: #3B4455;\n",
              "      fill: #D2E3FC;\n",
              "    }\n",
              "\n",
              "    [theme=dark] .colab-df-convert:hover {\n",
              "      background-color: #434B5C;\n",
              "      box-shadow: 0px 1px 3px 1px rgba(0, 0, 0, 0.15);\n",
              "      filter: drop-shadow(0px 1px 2px rgba(0, 0, 0, 0.3));\n",
              "      fill: #FFFFFF;\n",
              "    }\n",
              "  </style>\n",
              "\n",
              "    <script>\n",
              "      const buttonEl =\n",
              "        document.querySelector('#df-0e903942-4e45-49f7-b7ab-9e3566d1d0f4 button.colab-df-convert');\n",
              "      buttonEl.style.display =\n",
              "        google.colab.kernel.accessAllowed ? 'block' : 'none';\n",
              "\n",
              "      async function convertToInteractive(key) {\n",
              "        const element = document.querySelector('#df-0e903942-4e45-49f7-b7ab-9e3566d1d0f4');\n",
              "        const dataTable =\n",
              "          await google.colab.kernel.invokeFunction('convertToInteractive',\n",
              "                                                    [key], {});\n",
              "        if (!dataTable) return;\n",
              "\n",
              "        const docLinkHtml = 'Like what you see? Visit the ' +\n",
              "          '<a target=\"_blank\" href=https://colab.research.google.com/notebooks/data_table.ipynb>data table notebook</a>'\n",
              "          + ' to learn more about interactive tables.';\n",
              "        element.innerHTML = '';\n",
              "        dataTable['output_type'] = 'display_data';\n",
              "        await google.colab.output.renderOutput(dataTable, element);\n",
              "        const docLink = document.createElement('div');\n",
              "        docLink.innerHTML = docLinkHtml;\n",
              "        element.appendChild(docLink);\n",
              "      }\n",
              "    </script>\n",
              "  </div>\n",
              "\n",
              "\n",
              "<div id=\"df-74972f4d-5023-4f2d-ad83-dadb889678e3\">\n",
              "  <button class=\"colab-df-quickchart\" onclick=\"quickchart('df-74972f4d-5023-4f2d-ad83-dadb889678e3')\"\n",
              "            title=\"Suggest charts\"\n",
              "            style=\"display:none;\">\n",
              "\n",
              "<svg xmlns=\"http://www.w3.org/2000/svg\" height=\"24px\"viewBox=\"0 0 24 24\"\n",
              "     width=\"24px\">\n",
              "    <g>\n",
              "        <path d=\"M19 3H5c-1.1 0-2 .9-2 2v14c0 1.1.9 2 2 2h14c1.1 0 2-.9 2-2V5c0-1.1-.9-2-2-2zM9 17H7v-7h2v7zm4 0h-2V7h2v10zm4 0h-2v-4h2v4z\"/>\n",
              "    </g>\n",
              "</svg>\n",
              "  </button>\n",
              "\n",
              "<style>\n",
              "  .colab-df-quickchart {\n",
              "      --bg-color: #E8F0FE;\n",
              "      --fill-color: #1967D2;\n",
              "      --hover-bg-color: #E2EBFA;\n",
              "      --hover-fill-color: #174EA6;\n",
              "      --disabled-fill-color: #AAA;\n",
              "      --disabled-bg-color: #DDD;\n",
              "  }\n",
              "\n",
              "  [theme=dark] .colab-df-quickchart {\n",
              "      --bg-color: #3B4455;\n",
              "      --fill-color: #D2E3FC;\n",
              "      --hover-bg-color: #434B5C;\n",
              "      --hover-fill-color: #FFFFFF;\n",
              "      --disabled-bg-color: #3B4455;\n",
              "      --disabled-fill-color: #666;\n",
              "  }\n",
              "\n",
              "  .colab-df-quickchart {\n",
              "    background-color: var(--bg-color);\n",
              "    border: none;\n",
              "    border-radius: 50%;\n",
              "    cursor: pointer;\n",
              "    display: none;\n",
              "    fill: var(--fill-color);\n",
              "    height: 32px;\n",
              "    padding: 0;\n",
              "    width: 32px;\n",
              "  }\n",
              "\n",
              "  .colab-df-quickchart:hover {\n",
              "    background-color: var(--hover-bg-color);\n",
              "    box-shadow: 0 1px 2px rgba(60, 64, 67, 0.3), 0 1px 3px 1px rgba(60, 64, 67, 0.15);\n",
              "    fill: var(--button-hover-fill-color);\n",
              "  }\n",
              "\n",
              "  .colab-df-quickchart-complete:disabled,\n",
              "  .colab-df-quickchart-complete:disabled:hover {\n",
              "    background-color: var(--disabled-bg-color);\n",
              "    fill: var(--disabled-fill-color);\n",
              "    box-shadow: none;\n",
              "  }\n",
              "\n",
              "  .colab-df-spinner {\n",
              "    border: 2px solid var(--fill-color);\n",
              "    border-color: transparent;\n",
              "    border-bottom-color: var(--fill-color);\n",
              "    animation:\n",
              "      spin 1s steps(1) infinite;\n",
              "  }\n",
              "\n",
              "  @keyframes spin {\n",
              "    0% {\n",
              "      border-color: transparent;\n",
              "      border-bottom-color: var(--fill-color);\n",
              "      border-left-color: var(--fill-color);\n",
              "    }\n",
              "    20% {\n",
              "      border-color: transparent;\n",
              "      border-left-color: var(--fill-color);\n",
              "      border-top-color: var(--fill-color);\n",
              "    }\n",
              "    30% {\n",
              "      border-color: transparent;\n",
              "      border-left-color: var(--fill-color);\n",
              "      border-top-color: var(--fill-color);\n",
              "      border-right-color: var(--fill-color);\n",
              "    }\n",
              "    40% {\n",
              "      border-color: transparent;\n",
              "      border-right-color: var(--fill-color);\n",
              "      border-top-color: var(--fill-color);\n",
              "    }\n",
              "    60% {\n",
              "      border-color: transparent;\n",
              "      border-right-color: var(--fill-color);\n",
              "    }\n",
              "    80% {\n",
              "      border-color: transparent;\n",
              "      border-right-color: var(--fill-color);\n",
              "      border-bottom-color: var(--fill-color);\n",
              "    }\n",
              "    90% {\n",
              "      border-color: transparent;\n",
              "      border-bottom-color: var(--fill-color);\n",
              "    }\n",
              "  }\n",
              "</style>\n",
              "\n",
              "  <script>\n",
              "    async function quickchart(key) {\n",
              "      const quickchartButtonEl =\n",
              "        document.querySelector('#' + key + ' button');\n",
              "      quickchartButtonEl.disabled = true;  // To prevent multiple clicks.\n",
              "      quickchartButtonEl.classList.add('colab-df-spinner');\n",
              "      try {\n",
              "        const charts = await google.colab.kernel.invokeFunction(\n",
              "            'suggestCharts', [key], {});\n",
              "      } catch (error) {\n",
              "        console.error('Error during call to suggestCharts:', error);\n",
              "      }\n",
              "      quickchartButtonEl.classList.remove('colab-df-spinner');\n",
              "      quickchartButtonEl.classList.add('colab-df-quickchart-complete');\n",
              "    }\n",
              "    (() => {\n",
              "      let quickchartButtonEl =\n",
              "        document.querySelector('#df-74972f4d-5023-4f2d-ad83-dadb889678e3 button');\n",
              "      quickchartButtonEl.style.display =\n",
              "        google.colab.kernel.accessAllowed ? 'block' : 'none';\n",
              "    })();\n",
              "  </script>\n",
              "</div>\n",
              "\n",
              "    </div>\n",
              "  </div>\n"
            ],
            "application/vnd.google.colaboratory.intrinsic+json": {
              "type": "dataframe",
              "variable_name": "df_combined_clean",
              "summary": "{\n  \"name\": \"df_combined_clean\",\n  \"rows\": 1172,\n  \"fields\": [\n    {\n      \"column\": \"Iso3_code\",\n      \"properties\": {\n        \"dtype\": \"category\",\n        \"num_unique_values\": 89,\n        \"samples\": [\n          \"KNA\",\n          \"IRL\",\n          \"BIH\"\n        ],\n        \"semantic_type\": \"\",\n        \"description\": \"\"\n      }\n    },\n    {\n      \"column\": \"Country\",\n      \"properties\": {\n        \"dtype\": \"category\",\n        \"num_unique_values\": 89,\n        \"samples\": [\n          \"Saint Kitts and Nevis\",\n          \"Ireland\",\n          \"Bosnia and Herzegovina\"\n        ],\n        \"semantic_type\": \"\",\n        \"description\": \"\"\n      }\n    },\n    {\n      \"column\": \"Region\",\n      \"properties\": {\n        \"dtype\": \"category\",\n        \"num_unique_values\": 4,\n        \"samples\": [\n          \"Europe\",\n          \"Africa\",\n          \"Asia\"\n        ],\n        \"semantic_type\": \"\",\n        \"description\": \"\"\n      }\n    },\n    {\n      \"column\": \"Subregion\",\n      \"properties\": {\n        \"dtype\": \"category\",\n        \"num_unique_values\": 13,\n        \"samples\": [\n          \"Southern Asia\",\n          \"Sub-Saharan Africa\",\n          \"Western Asia\"\n        ],\n        \"semantic_type\": \"\",\n        \"description\": \"\"\n      }\n    },\n    {\n      \"column\": \"Category\",\n      \"properties\": {\n        \"dtype\": \"category\",\n        \"num_unique_values\": 4,\n        \"samples\": [\n          \"Unlawful access to a computer system\",\n          \"Unlawful interception or access of computer data\",\n          \"Fraud: Cyber-related (Cy)\"\n        ],\n        \"semantic_type\": \"\",\n        \"description\": \"\"\n      }\n    },\n    {\n      \"column\": \"Year\",\n      \"properties\": {\n        \"dtype\": \"number\",\n        \"std\": 2,\n        \"min\": 2013,\n        \"max\": 2022,\n        \"num_unique_values\": 10,\n        \"samples\": [\n          2021,\n          2014,\n          2018\n        ],\n        \"semantic_type\": \"\",\n        \"description\": \"\"\n      }\n    },\n    {\n      \"column\": \"Value_count\",\n      \"properties\": {\n        \"dtype\": \"number\",\n        \"std\": 26230.50183328734,\n        \"min\": 0.0,\n        \"max\": 255717.0,\n        \"num_unique_values\": 591,\n        \"samples\": [\n          3183.0,\n          988.0,\n          98617.0\n        ],\n        \"semantic_type\": \"\",\n        \"description\": \"\"\n      }\n    },\n    {\n      \"column\": \"Unit_rate\",\n      \"properties\": {\n        \"dtype\": \"category\",\n        \"num_unique_values\": 1,\n        \"samples\": [\n          \"Rate per 100,000 population\"\n        ],\n        \"semantic_type\": \"\",\n        \"description\": \"\"\n      }\n    },\n    {\n      \"column\": \"Value_rate\",\n      \"properties\": {\n        \"dtype\": \"number\",\n        \"std\": 97.94626759723496,\n        \"min\": 0.0,\n        \"max\": 1699.10388378692,\n        \"num_unique_values\": 991,\n        \"samples\": [\n          280.92264843058\n        ],\n        \"semantic_type\": \"\",\n        \"description\": \"\"\n      }\n    },\n    {\n      \"column\": \"Source_rate\",\n      \"properties\": {\n        \"dtype\": \"category\",\n        \"num_unique_values\": 5,\n        \"samples\": [\n          \"CTS/NGO\"\n        ],\n        \"semantic_type\": \"\",\n        \"description\": \"\"\n      }\n    },\n    {\n      \"column\": \"Internet_Usage_rate\",\n      \"properties\": {\n        \"dtype\": \"number\",\n        \"std\": 14.331859394776473,\n        \"min\": 5.9,\n        \"max\": 100.0,\n        \"num_unique_values\": 499,\n        \"samples\": [\n          90.7595\n        ],\n        \"semantic_type\": \"\",\n        \"description\": \"\"\n      }\n    },\n    {\n      \"column\": \"Secure Internet servers_rate\",\n      \"properties\": {\n        \"dtype\": \"number\",\n        \"std\": 983208.4945869852,\n        \"min\": 10.0,\n        \"max\": 10553940.0,\n        \"num_unique_values\": 504,\n        \"samples\": [\n          477674.0\n        ],\n        \"semantic_type\": \"\",\n        \"description\": \"\"\n      }\n    },\n    {\n      \"column\": \"Secure Internet servers (per 1 million people)_rate\",\n      \"properties\": {\n        \"dtype\": \"number\",\n        \"std\": 38257.43531638194,\n        \"min\": 3.9037258155879924,\n        \"max\": 342412.9634273824,\n        \"num_unique_values\": 513,\n        \"samples\": [\n          342412.9634273824\n        ],\n        \"semantic_type\": \"\",\n        \"description\": \"\"\n      }\n    },\n    {\n      \"column\": \"Internet_Level_rate\",\n      \"properties\": {\n        \"dtype\": \"category\",\n        \"num_unique_values\": 3,\n        \"samples\": [\n          \"Low\"\n        ],\n        \"semantic_type\": \"\",\n        \"description\": \"\"\n      }\n    }\n  ]\n}"
            }
          },
          "metadata": {},
          "execution_count": 57
        }
      ]
    },
    {
      "cell_type": "code",
      "source": [
        "df_combined_clean.rename(columns={\n",
        "    \"Value_count\": \"Reported_Cases\",\n",
        "    \"Value_rate\": \"Cases_per_100k\"\n",
        "}, inplace=True)"
      ],
      "metadata": {
        "id": "O1CooQ5WX0K0"
      },
      "execution_count": 58,
      "outputs": []
    },
    {
      "cell_type": "markdown",
      "source": [
        "# Follow up"
      ],
      "metadata": {
        "id": "oKlESd5fW0i_"
      }
    },
    {
      "cell_type": "code",
      "source": [
        "europe_df = df_combined_clean[df_combined_clean[\"Region\"] == \"Europe\"]\n",
        "\n",
        "# Filter to Western Europe only\n",
        "western_df = df_combined_clean[df_combined_clean[\"Subregion\"] == \"Western Europe\"]\n",
        "\n",
        "# Filter to just Germany + Austria + Poland\n",
        "focus_countries = [\"Germany\", \"Austria\", \"Poland\"]\n",
        "country_focus_df = df_combined_clean[df_combined_clean[\"Country\"].isin(focus_countries)]\n",
        "\n",
        "# Filter to Europe only\n",
        "germany_df = df_combined_clean[df_combined_clean[\"Country\"] == \"Germany\"]"
      ],
      "metadata": {
        "id": "KnWpMwR-WqSy"
      },
      "execution_count": 63,
      "outputs": []
    },
    {
      "cell_type": "markdown",
      "source": [
        "## Regional analysis Europe"
      ],
      "metadata": {
        "id": "B-opTKioY-Ng"
      }
    },
    {
      "cell_type": "code",
      "source": [
        "\n",
        "sns.lineplot(data=europe_df, x=\"Year\", y=\"Cases_per_100k\", hue=\"Subregion\")\n",
        "plt.title(\"Cybercrime Rates per 100k in Europe by Subregion\")"
      ],
      "metadata": {
        "colab": {
          "base_uri": "https://localhost:8080/",
          "height": 490
        },
        "id": "cknyunrTY9so",
        "outputId": "2d63f4f3-5040-4992-9dbe-4a18b40877a3"
      },
      "execution_count": 60,
      "outputs": [
        {
          "output_type": "execute_result",
          "data": {
            "text/plain": [
              "Text(0.5, 1.0, 'Cybercrime Rates per 100k in Europe by Subregion')"
            ]
          },
          "metadata": {},
          "execution_count": 60
        },
        {
          "output_type": "display_data",
          "data": {
            "text/plain": [
              "<Figure size 640x480 with 1 Axes>"
            ],
            "image/png": "[encoded data removed]"
          },
          "metadata": {}
        }
      ]
    },
    {
      "cell_type": "code",
      "source": [
        "sns.boxplot(data=western_df, x=\"Country\", y=\"Cases_per_100k\")\n",
        "plt.title(\"Cybercrime Rate per Country in Western Europe\")"
      ],
      "metadata": {
        "colab": {
          "base_uri": "https://localhost:8080/",
          "height": 490
        },
        "id": "NhsthCn9ZI7P",
        "outputId": "b59d24da-131f-4e7e-a39e-71da5423b3cb"
      },
      "execution_count": 61,
      "outputs": [
        {
          "output_type": "execute_result",
          "data": {
            "text/plain": [
              "Text(0.5, 1.0, 'Cybercrime Rate per Country in Western Europe')"
            ]
          },
          "metadata": {},
          "execution_count": 61
        },
        {
          "output_type": "display_data",
          "data": {
            "text/plain": [
              "<Figure size 640x480 with 1 Axes>"
            ],
            "image/png": "[encoded data removed]"
          },
          "metadata": {}
        }
      ]
    },
    {
      "cell_type": "code",
      "source": [
        "sns.lineplot(data=country_focus_df, x=\"Year\", y=\"Cases_per_100k\", hue=\"Country\")\n",
        "plt.title(\"Cybercrime Rate per 100k: Germany vs Austria vs Poland\")"
      ],
      "metadata": {
        "colab": {
          "base_uri": "https://localhost:8080/",
          "height": 490
        },
        "id": "gqNiVrRaZSNH",
        "outputId": "593df8af-8677-4523-a9f3-6e25a645a4b5"
      },
      "execution_count": 62,
      "outputs": [
        {
          "output_type": "execute_result",
          "data": {
            "text/plain": [
              "Text(0.5, 1.0, 'Cybercrime Rate per 100k: Germany vs Austria vs Poland')"
            ]
          },
          "metadata": {},
          "execution_count": 62
        },
        {
          "output_type": "display_data",
          "data": {
            "text/plain": [
              "<Figure size 640x480 with 1 Axes>"
            ],
            "image/png": "[encoded data removed]"
          },
          "metadata": {}
        }
      ]
    },
    {
      "cell_type": "code",
      "source": [
        "sns.lineplot(data=germany_df, x=\"Year\", y=\"Cases_per_100k\", hue=\"Country\")\n",
        "plt.title(\"Cybercrime Rate per 100k: Germany\")"
      ],
      "metadata": {
        "colab": {
          "base_uri": "https://localhost:8080/",
          "height": 490
        },
        "id": "pbXfsbe_dfct",
        "outputId": "a1888e5e-ff75-4926-acef-8891b3e63030"
      },
      "execution_count": 65,
      "outputs": [
        {
          "output_type": "execute_result",
          "data": {
            "text/plain": [
              "Text(0.5, 1.0, 'Cybercrime Rate per 100k: Germany')"
            ]
          },
          "metadata": {},
          "execution_count": 65
        },
        {
          "output_type": "display_data",
          "data": {
            "text/plain": [
              "<Figure size 640x480 with 1 Axes>"
            ],
            "image/png": "[encoded data removed]"
          },
          "metadata": {}
        }
      ]
    },
    {
      "cell_type": "code",
      "source": [
        "germany_df.groupby(\"Category\")[\"Cases_per_100k\"].sum().plot(kind=\"bar\", title=\"Cybercrime by Category\")"
      ],
      "metadata": {
        "colab": {
          "base_uri": "https://localhost:8080/",
          "height": 924
        },
        "id": "w5ZOR3r0d7Gk",
        "outputId": "55ba4896-0821-457d-d8af-43ea73ab176a"
      },
      "execution_count": 70,
      "outputs": [
        {
          "output_type": "execute_result",
          "data": {
            "text/plain": [
              "<Axes: title={'center': 'Cybercrime by Category'}, xlabel='Category'>"
            ]
          },
          "metadata": {},
          "execution_count": 70
        },
        {
          "output_type": "display_data",
          "data": {
            "text/plain": [
              "<Figure size 640x480 with 1 Axes>"
            ],
            "image/png": "[encoded data removed]"
          },
          "metadata": {}
        }
      ]
    }
  ]
}